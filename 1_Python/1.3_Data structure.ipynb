{
 "cells": [
  {
   "cell_type": "markdown",
   "id": "b3ea3098-4440-4039-917d-d6e22ad56562",
   "metadata": {},
   "source": [
    "<h1 align=\"center\"> Data Structure in Python </h1>"
   ]
  },
  {
   "cell_type": "markdown",
   "id": "579e03a2-f3f3-489c-bdfb-ae3d2c64eee6",
   "metadata": {},
   "source": [
    "For a data scientist it is very important to be able to handle different types of data storage in order to be used in an data processing in which one needs to retrieve information or store new pieces of information for later-on purposes. In this notebook we will be studying these types of data structure that Python uses:\n",
    "\n",
    "- Lists\n",
    "- Dictionaries\n",
    "- Tuple\n",
    "- Sets"
   ]
  },
  {
   "cell_type": "markdown",
   "id": "d41f1837-bd25-4784-b50c-478c88c6afc9",
   "metadata": {},
   "source": [
    "<h2> Lists </h2>"
   ]
  },
  {
   "cell_type": "markdown",
   "id": "cb0fbf65-e363-470f-a2cb-dc048c24ab2b",
   "metadata": {},
   "source": [
    "A list is an array of values that are stored in vector form as `x = [1,2,3]`, and Python understands this variable as a list by using squared brackets (`[]`). Here are some examples:"
   ]
  },
  {
   "cell_type": "code",
   "execution_count": 1,
   "id": "68ccad4d-aa9a-4198-85c7-c7972fca8c7c",
   "metadata": {},
   "outputs": [
    {
     "name": "stdout",
     "output_type": "stream",
     "text": [
      "[2, 4, 5, 6]\n",
      "['Python', 'R', 'Julia']\n",
      "['Hello', 3.1416, True, False, 4]\n"
     ]
    }
   ],
   "source": [
    "this_is_a_list = [2,4,5,6]\n",
    "also_a_list = ['Python', 'R', 'Julia']\n",
    "another_list = ['Hello', 3.1416, True, False, 4]\n",
    "\n",
    "print(this_is_a_list)\n",
    "print(also_a_list)\n",
    "print(another_list)"
   ]
  },
  {
   "cell_type": "markdown",
   "id": "2570662f-9260-438b-877f-2d069a58828a",
   "metadata": {},
   "source": [
    "As we can see, a list allows to use the same data type in each entry, but also to use different types of data. Now let's see some important properties of the lists."
   ]
  },
  {
   "cell_type": "markdown",
   "id": "5f9f706b-7dab-49a9-827b-ebb2bb8ca0a2",
   "metadata": {},
   "source": [
    "We can access a specific entry by indexing with squared brackets. Note that Python starts counting at 0 rather than in 1, so the first element of the list is at the index 0."
   ]
  },
  {
   "cell_type": "code",
   "execution_count": 2,
   "id": "d1a952a3-979e-4fac-880f-4f2b86f585cb",
   "metadata": {},
   "outputs": [
    {
     "data": {
      "text/plain": [
       "2"
      ]
     },
     "execution_count": 2,
     "metadata": {},
     "output_type": "execute_result"
    }
   ],
   "source": [
    "this_is_a_list[0] # extracting a value of the list"
   ]
  },
  {
   "cell_type": "markdown",
   "id": "58b629c3-f735-4466-b714-e3ecf41039e8",
   "metadata": {},
   "source": [
    "By accessing an entry we can also re asign it's value as follows:"
   ]
  },
  {
   "cell_type": "code",
   "execution_count": 3,
   "id": "92a7a36e-d0a0-4309-a42e-1d91325cb116",
   "metadata": {},
   "outputs": [
    {
     "name": "stdout",
     "output_type": "stream",
     "text": [
      "The this_is_a_list list is [2, 4, 5, 6] before changing the second entry\n",
      "The this_is_a_list list is [2, 7, 5, 6] after changing the second entry\n"
     ]
    }
   ],
   "source": [
    "print('The this_is_a_list list is', this_is_a_list, 'before changing the second entry')\n",
    "this_is_a_list[1] = 7\n",
    "\n",
    "print('The this_is_a_list list is', this_is_a_list, 'after changing the second entry')"
   ]
  },
  {
   "cell_type": "markdown",
   "id": "a76d933f-21a9-402c-8d8c-fd15739acf43",
   "metadata": {},
   "source": [
    "In python, most objects come with some functions defined so we can apply to the object itself and its current value, such a functions are called in the programming jargon as methods. The first method we will use is the `append` method that is defined within the lists, and allows us to add an element to a list, just as shown in the following example:"
   ]
  },
  {
   "cell_type": "code",
   "execution_count": 4,
   "id": "9cc20d96-b01d-48f9-8398-a16f941a9993",
   "metadata": {},
   "outputs": [
    {
     "data": {
      "text/plain": [
       "[2, 7, 5, 6, 10]"
      ]
     },
     "execution_count": 4,
     "metadata": {},
     "output_type": "execute_result"
    }
   ],
   "source": [
    "this_is_a_list.append(10)\n",
    "\n",
    "this_is_a_list"
   ]
  },
  {
   "cell_type": "markdown",
   "id": "c81afc0b-105a-4fe8-a751-30355df7a529",
   "metadata": {},
   "source": [
    "Let's see some common methods for lists:"
   ]
  },
  {
   "cell_type": "code",
   "execution_count": 5,
   "id": "1440f27e-c680-403e-b75f-95843b5498d7",
   "metadata": {},
   "outputs": [
    {
     "name": "stdout",
     "output_type": "stream",
     "text": [
      "[2, 5, 6, 10]\n",
      "[2, 6, 10]\n",
      "[10, 6, 2]\n"
     ]
    }
   ],
   "source": [
    "this_is_a_list.remove(7) # it removes the first values that is equal to 7\n",
    "print(this_is_a_list)\n",
    "\n",
    "this_is_a_list.pop(1) # it removes the element at position 1 (second position)\n",
    "print(this_is_a_list)\n",
    "\n",
    "this_is_a_list.reverse() # reverses the order of elements in the list\n",
    "print(this_is_a_list)"
   ]
  },
  {
   "cell_type": "markdown",
   "id": "831a5f7a-062b-4d32-9b41-13fb4ca1d4e3",
   "metadata": {},
   "source": [
    "To inspect all about lists and it's properties, one can visit the direct Python documentation and see all the available methods: https://docs.python.org/3/tutorial/datastructures.html#"
   ]
  },
  {
   "cell_type": "markdown",
   "id": "65babc61-a877-4e8f-b54a-6c41bb6e5e8e",
   "metadata": {
    "tags": []
   },
   "source": [
    "<h2> Dictionaries </h2>"
   ]
  },
  {
   "cell_type": "markdown",
   "id": "2b177d85-5f20-4716-bce2-72b4ffc05fb9",
   "metadata": {},
   "source": [
    "A very important data structure are the dictionaries, which consist of of a set of a `key: value` pairs where each key should be a unique identifier to which a value corresponds to, some examples are:"
   ]
  },
  {
   "cell_type": "code",
   "execution_count": 6,
   "id": "74aae0c5-2fcc-47e5-a0a6-326709dc56ce",
   "metadata": {},
   "outputs": [],
   "source": [
    "this_is_a_dictionary = {'Name': 'Jhon', 'Surname': 'Wick', 'Age': 30}\n",
    "also_a_dictionary = {'numbers': [2,3,6,9,10], 'is_even': [True, False, True, False, True]}\n",
    "this_dicionary_is_empty = dict()\n",
    "also_empty = {}"
   ]
  },
  {
   "cell_type": "markdown",
   "id": "957b8354-a63b-42f9-9387-17316721320c",
   "metadata": {},
   "source": [
    "Note that each value corresponding to each pair need not be a single value, nor need to be an specific data type.\n",
    "\n",
    "In contrast to lists, the keys are not accessible from an index position, but rather, by using the name of the key, as follow:"
   ]
  },
  {
   "cell_type": "code",
   "execution_count": 7,
   "id": "c211a985-b66d-4fa6-bc53-b1f3aaa18260",
   "metadata": {},
   "outputs": [
    {
     "name": "stdout",
     "output_type": "stream",
     "text": [
      "Jhon\n",
      "[2, 3, 6, 9, 10]\n"
     ]
    }
   ],
   "source": [
    "print(this_is_a_dictionary['Name'])\n",
    "print(also_a_dictionary['numbers'])"
   ]
  },
  {
   "cell_type": "markdown",
   "id": "93d0f962-7106-4d2f-ae95-3356bc146952",
   "metadata": {},
   "source": [
    "Look what happens if I intend to access a `key:value` pair from an index position:"
   ]
  },
  {
   "cell_type": "code",
   "execution_count": 8,
   "id": "bcdbdf1c-b9a1-4a79-9704-8636c9113f54",
   "metadata": {},
   "outputs": [
    {
     "ename": "KeyError",
     "evalue": "0",
     "output_type": "error",
     "traceback": [
      "\u001b[0;31m---------------------------------------------------------------------------\u001b[0m",
      "\u001b[0;31mKeyError\u001b[0m                                  Traceback (most recent call last)",
      "Cell \u001b[0;32mIn[8], line 1\u001b[0m\n\u001b[0;32m----> 1\u001b[0m \u001b[43mthis_is_a_dictionary\u001b[49m\u001b[43m[\u001b[49m\u001b[38;5;241;43m0\u001b[39;49m\u001b[43m]\u001b[49m\n",
      "\u001b[0;31mKeyError\u001b[0m: 0"
     ]
    }
   ],
   "source": [
    "this_is_a_dictionary[0]"
   ]
  },
  {
   "cell_type": "markdown",
   "id": "452d3b6e-8b17-49c2-b6e4-231d4ddc1082",
   "metadata": {},
   "source": [
    "The `KeyError` message states that there are no key named `0`, since the dictionary structure does not understand indexing. "
   ]
  },
  {
   "cell_type": "markdown",
   "id": "3e90fba2-0a08-4cbf-bae2-54b41800e306",
   "metadata": {},
   "source": [
    "Once a dictionary is been created (regardless if the dictionary is empty or not), one can add a new `key:value` pair like this:"
   ]
  },
  {
   "cell_type": "code",
   "execution_count": 9,
   "id": "1160d936-7c50-407f-ad0c-da0d802156e0",
   "metadata": {},
   "outputs": [
    {
     "data": {
      "text/plain": [
       "{'new_key': 'New value'}"
      ]
     },
     "execution_count": 9,
     "metadata": {},
     "output_type": "execute_result"
    }
   ],
   "source": [
    "this_dicionary_is_empty['new_key'] = 'New value'\n",
    "this_dicionary_is_empty"
   ]
  },
  {
   "cell_type": "markdown",
   "id": "b06d367d-0a79-4d79-9547-11827769900f",
   "metadata": {},
   "source": [
    "`this_dictionary_is_empy` is no longer an empty dictionary."
   ]
  },
  {
   "cell_type": "markdown",
   "id": "162327fc-9664-4e68-a131-088b2c3083ef",
   "metadata": {},
   "source": [
    "As well as in the lists, there are certain methods that are applicable to dictionaries, and here are some examples:"
   ]
  },
  {
   "cell_type": "code",
   "execution_count": 10,
   "id": "9cafcc45-5336-4df2-a67a-78f8de1f7afb",
   "metadata": {},
   "outputs": [
    {
     "name": "stdout",
     "output_type": "stream",
     "text": [
      "dict_keys(['Name', 'Surname', 'Age'])\n",
      "dict_values(['Jhon', 'Wick', 30])\n",
      "Jhon\n"
     ]
    }
   ],
   "source": [
    "print(this_is_a_dictionary.keys()) # Returns all keys\n",
    "print(this_is_a_dictionary.values()) # Returns all values\n",
    "print(this_is_a_dictionary.get('Name')) # Returns the respective value of a given key"
   ]
  },
  {
   "cell_type": "markdown",
   "id": "364575a7-1a14-4883-bea4-031945577d63",
   "metadata": {},
   "source": [
    "You can research more on dicionaries from: https://docs.python.org/3/tutorial/datastructures.html#dictionaries"
   ]
  },
  {
   "cell_type": "markdown",
   "id": "3d4d32a9-f78a-4bfc-868d-e3c774b6fbad",
   "metadata": {},
   "source": [
    "<h2> Tuples </h2>"
   ]
  },
  {
   "cell_type": "markdown",
   "id": "25ce377c-3868-4f32-9abd-d91de7ca2711",
   "metadata": {},
   "source": [
    "A tuple is an array of values, similar to lists, that are stored in vector form as `x = (1,2,3)`, and Python understands this variable as a tuple by using round brackets (`()`). Here are some examples:"
   ]
  },
  {
   "cell_type": "code",
   "execution_count": 11,
   "id": "5b503228-a613-49dc-83ed-08e2ea22d0f8",
   "metadata": {},
   "outputs": [
    {
     "name": "stdout",
     "output_type": "stream",
     "text": [
      "(2, 4, 5, 6)\n",
      "('Python', 'R', 'Julia')\n",
      "('Hello', 3.1416, True, False, 4)\n"
     ]
    }
   ],
   "source": [
    "this_is_a_tuple = (2,4,5,6)\n",
    "also_a_tuple = ('Python', 'R', 'Julia')\n",
    "another_tuple = ('Hello', 3.1416, True, False, 4)\n",
    "\n",
    "print(this_is_a_tuple)\n",
    "print(also_a_tuple)\n",
    "print(another_tuple)"
   ]
  },
  {
   "cell_type": "markdown",
   "id": "7154368b-5f3b-4cbc-8f1b-37d4706ff533",
   "metadata": {},
   "source": [
    "Although the structure of tuples seems like a list, there is a key diference: lists are mutable, and tuples are not. This means that once a tuple has been defined you cannot modify a value. Let's try this out:"
   ]
  },
  {
   "cell_type": "code",
   "execution_count": 12,
   "id": "2e2a45e7-139f-4577-b39f-32232c9bc1cb",
   "metadata": {},
   "outputs": [
    {
     "ename": "TypeError",
     "evalue": "'tuple' object does not support item assignment",
     "output_type": "error",
     "traceback": [
      "\u001b[0;31m---------------------------------------------------------------------------\u001b[0m",
      "\u001b[0;31mTypeError\u001b[0m                                 Traceback (most recent call last)",
      "Cell \u001b[0;32mIn[12], line 1\u001b[0m\n\u001b[0;32m----> 1\u001b[0m \u001b[43mthis_is_a_tuple\u001b[49m\u001b[43m[\u001b[49m\u001b[38;5;241;43m2\u001b[39;49m\u001b[43m]\u001b[49m \u001b[38;5;241m=\u001b[39m \u001b[38;5;241m10\u001b[39m\n",
      "\u001b[0;31mTypeError\u001b[0m: 'tuple' object does not support item assignment"
     ]
    }
   ],
   "source": [
    "this_is_a_tuple[2] = 10"
   ]
  },
  {
   "cell_type": "markdown",
   "id": "1dbecd66-9c10-4999-b05e-295e116da9af",
   "metadata": {},
   "source": [
    "Unlike lists, item assignment is not defined in tuples, this is what unmutability means. This property also means implies that there are few methods one can apply to tuples, since you cannot remove, pop, or reverse its elements. Here are the two methods defined in tuples:"
   ]
  },
  {
   "cell_type": "code",
   "execution_count": 13,
   "id": "7c43c3bd-17f8-4a72-a8c7-d4cf038ea7b3",
   "metadata": {},
   "outputs": [
    {
     "name": "stdout",
     "output_type": "stream",
     "text": [
      "1\n",
      "3\n"
     ]
    }
   ],
   "source": [
    "print(this_is_a_tuple.count(4)) # Counts the number of times the number 4 appears in the tuple\n",
    "print(this_is_a_tuple.index(6)) # Returns the position in which the number 6 appears for the first time in the tuple"
   ]
  },
  {
   "cell_type": "markdown",
   "id": "b0fe3a73-7383-420d-8ddb-3116ed4e351d",
   "metadata": {},
   "source": [
    "<h2> Sets </h2>"
   ]
  },
  {
   "cell_type": "markdown",
   "id": "f27b1e41-e71d-488a-8632-eb82daa94f8c",
   "metadata": {},
   "source": [
    "Lists and tuples have two important properties: the order of the elements matter, and a given value can appear several types within a list or a tuple. However, now we examine `sets` which does not have these two properties, in fact, as its name suggests, here we are dealing with the definition of a set in set theory.\n",
    "\n",
    "In Python, sets are defined using curly braces (`{}`), like `x = {3,5,6,7}`. Here are some examples:"
   ]
  },
  {
   "cell_type": "code",
   "execution_count": 14,
   "id": "fb02ab80-a38e-43ba-8870-cf71497ad243",
   "metadata": {},
   "outputs": [
    {
     "name": "stdout",
     "output_type": "stream",
     "text": [
      "{2, 4, 5, 6}\n",
      "{'R', 'Python', 'Julia'}\n",
      "{False, True, 3.1416, 4, 'Hello'}\n"
     ]
    }
   ],
   "source": [
    "this_is_a_set = {2,4,5,6}\n",
    "also_a_set = {'Python', 'R', 'Julia'}\n",
    "another_set = {'Hello', 3.1416, True, False, 4}\n",
    "\n",
    "print(this_is_a_set)\n",
    "print(also_a_set)\n",
    "print(another_set)"
   ]
  },
  {
   "cell_type": "markdown",
   "id": "784f34d6-90a7-4b0a-a087-e2788b032158",
   "metadata": {},
   "source": [
    "Although, at first glance, it seemes similar to how lists and tuples work, lets examine the two main diferences: "
   ]
  },
  {
   "cell_type": "code",
   "execution_count": 15,
   "id": "99805faf-6cf9-4518-9026-faffb97db680",
   "metadata": {},
   "outputs": [
    {
     "name": "stdout",
     "output_type": "stream",
     "text": [
      "{2, 4, 5, 6}\n",
      "True\n"
     ]
    }
   ],
   "source": [
    "print({2,2, 4, 5, 6, 6})\n",
    "print({2,3,4} == {4,3,2})"
   ]
  },
  {
   "cell_type": "markdown",
   "id": "4ff4ec66-c597-4f97-802e-edb64210319b",
   "metadata": {},
   "source": [
    "The first line in the above code shows that repetitive elements does not matter, and the second line shows that order is irrelevant in sets, because the definition of a set is just a collection of elements.\n",
    "\n",
    "However, one can easily turns a list or a tuple into a set using the `set()` function as follows:"
   ]
  },
  {
   "cell_type": "code",
   "execution_count": 16,
   "id": "432c5ae5-c8f8-42d8-b2a0-abd6727ccf66",
   "metadata": {},
   "outputs": [
    {
     "name": "stdout",
     "output_type": "stream",
     "text": [
      "{2, 4, 5, 6}\n",
      "{10, 2, 6}\n"
     ]
    }
   ],
   "source": [
    "print(set(this_is_a_tuple))\n",
    "print(set(this_is_a_list))"
   ]
  },
  {
   "cell_type": "markdown",
   "id": "1e4d0a70-fec4-4bbd-be04-ee8038931639",
   "metadata": {},
   "source": [
    "Know let's see some methods applicable to sets:"
   ]
  },
  {
   "cell_type": "code",
   "execution_count": 17,
   "id": "f08bf888-944f-4299-a027-5f2e8e9d45ee",
   "metadata": {},
   "outputs": [
    {
     "name": "stdout",
     "output_type": "stream",
     "text": [
      "{2, 4, 5, 6, 10}\n",
      "set()\n"
     ]
    }
   ],
   "source": [
    "this_is_a_set.add(10) # Adds the element 10 to the set\n",
    "print(this_is_a_set)\n",
    "\n",
    "this_is_a_set.clear() # Remove all elements\n",
    "print(this_is_a_set) # this_is_a_set is now an empty set"
   ]
  },
  {
   "cell_type": "markdown",
   "id": "5c63f2ca-18f3-45eb-b0df-c0d130f42e86",
   "metadata": {},
   "source": [
    "As mentioned before, the concept of set is a mathematical definition and within Python all set algebra is also defined (e.g. Union, Intersection, Difference). Let's see how they work, let's define two finite sets A and B and perform several operations between them:"
   ]
  },
  {
   "cell_type": "code",
   "execution_count": 18,
   "id": "0c75d893-4c90-49c0-a949-f36d4b3c76b7",
   "metadata": {},
   "outputs": [
    {
     "name": "stdout",
     "output_type": "stream",
     "text": [
      "{8, 6}\n",
      "{8, 6}\n",
      "{1, 2, 3, 4, 5, 6, 7, 8, 9}\n",
      "{2, 4}\n"
     ]
    }
   ],
   "source": [
    "A = {2,4,6,8}\n",
    "B = {1,2, 3, 4, 5,7,9}\n",
    "\n",
    "print(A.difference(B)) # Difference between two sets\n",
    "print(A - B) # Also a difference between two sets\n",
    "\n",
    "print(A.union(B)) # Union between two sets\n",
    "\n",
    "print(A.intersection(B)) # Intersection between two sets"
   ]
  },
  {
   "cell_type": "markdown",
   "id": "2da394a9-fe1b-47d1-9730-e845527ff6ef",
   "metadata": {},
   "source": [
    "<h2> References </h2>"
   ]
  },
  {
   "cell_type": "markdown",
   "id": "468e1a08-57b7-4a4f-9583-c5bbd5afd803",
   "metadata": {},
   "source": [
    "- https://docs.python.org/3/tutorial/datastructures.html#"
   ]
  },
  {
   "cell_type": "code",
   "execution_count": null,
   "id": "62de823c-4d8b-473b-9f53-8306243ba90a",
   "metadata": {},
   "outputs": [],
   "source": []
  }
 ],
 "metadata": {
  "kernelspec": {
   "display_name": "Python 3 (ipykernel)",
   "language": "python",
   "name": "python3"
  },
  "language_info": {
   "codemirror_mode": {
    "name": "ipython",
    "version": 3
   },
   "file_extension": ".py",
   "mimetype": "text/x-python",
   "name": "python",
   "nbconvert_exporter": "python",
   "pygments_lexer": "ipython3",
   "version": "3.11.0"
  }
 },
 "nbformat": 4,
 "nbformat_minor": 5
}
