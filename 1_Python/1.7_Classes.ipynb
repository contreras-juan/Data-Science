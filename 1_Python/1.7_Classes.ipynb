{
 "cells": [
  {
   "cell_type": "markdown",
   "id": "f9ac7a36-99fc-4f5b-8a56-7d44e24b85df",
   "metadata": {},
   "source": [
    "<h1 align='center'> Classes </h1>"
   ]
  },
  {
   "cell_type": "markdown",
   "id": "2aa6e881-75f0-44a2-874f-2c2d292714c3",
   "metadata": {},
   "source": [
    "Classes are types of objects in Python, like lists, tuples or dictionaries, that have some attributes and methods that modify the particular instances of the class. Think about an object in real life like an employee, they usually have attributes like: name, surname, age and time of work. So a particular instance of the employee class would be a given worker, each of which would have different values for their attributes. Now let's program this class and create some instances:"
   ]
  },
  {
   "cell_type": "code",
   "execution_count": 1,
   "id": "a897429c-d4a0-4ada-85e5-995589297d4a",
   "metadata": {},
   "outputs": [],
   "source": [
    "class employee:\n",
    "    def __init__(self, name, surname, age, time_of_work, unit):\n",
    "        self.name = name\n",
    "        self.surname = surname\n",
    "        self.age = age\n",
    "        self.time_of_work = time_of_work\n",
    "        self.unit = unit"
   ]
  },
  {
   "cell_type": "markdown",
   "id": "9b387afe-e353-4caa-9f06-b1c55fab2448",
   "metadata": {},
   "source": [
    "In the above piece of code, the `__init__()` function defines the attributes that an instance of this class must have, and the `self` parameter refers to the object itself."
   ]
  },
  {
   "cell_type": "markdown",
   "id": "471ae630-6711-42c7-9e73-b12756215a16",
   "metadata": {},
   "source": [
    "Now, let's create three instances (employees) of this class:"
   ]
  },
  {
   "cell_type": "code",
   "execution_count": 2,
   "id": "cf32fa85-f009-4a44-9cba-7f7eeee65449",
   "metadata": {},
   "outputs": [],
   "source": [
    "e1 = employee('John', 'Smith', 30, 2, 'Data Science')\n",
    "e2 = employee('Adam', 'Hardwood', 25, 4, 'Data Engineering')"
   ]
  },
  {
   "cell_type": "markdown",
   "id": "cf88e632-11b4-46a4-bbc0-36ffe5b46937",
   "metadata": {},
   "source": [
    "Now we can access the data from each of this variables:"
   ]
  },
  {
   "cell_type": "code",
   "execution_count": 3,
   "id": "78a2253d-3d36-4b9a-9159-af908414248b",
   "metadata": {},
   "outputs": [
    {
     "name": "stdout",
     "output_type": "stream",
     "text": [
      "The information of the first employee is:\n",
      "Name: John\n",
      "Surname: Smith\n",
      "Age: 30 years\n",
      "Time of work: 2 years\n",
      "Current unit: Data Science\n",
      " \n",
      "====\n",
      " \n",
      "The information of the second employee is:\n",
      "Name: Adam\n",
      "Surname: Hardwood\n",
      "Age: 25 years\n",
      "Time of work: 4 years\n",
      "Current unit: Data Engineering\n"
     ]
    }
   ],
   "source": [
    "print('The information of the first employee is:')\n",
    "print('Name:', e1.name)\n",
    "print('Surname:', e1.surname)\n",
    "print('Age:', e1.age, 'years')\n",
    "print('Time of work:', e1.time_of_work, 'years')\n",
    "print('Current unit:', e1.unit)\n",
    "\n",
    "print(' ')\n",
    "print('====')\n",
    "print(' ')\n",
    "\n",
    "print('The information of the second employee is:')\n",
    "print('Name:', e2.name)\n",
    "print('Surname:', e2.surname)\n",
    "print('Age:', e2.age, 'years')\n",
    "print('Time of work:', e2.time_of_work, 'years')\n",
    "print('Current unit:', e2.unit)"
   ]
  },
  {
   "cell_type": "markdown",
   "id": "fb1b842a-f0cd-49af-b080-5ba86bc876d7",
   "metadata": {},
   "source": [
    "An additional thing we might need to do is to add some methods to this class, for instance, an employee might be relocated to a different unit, so we can define a `relocate()` method to achieve this:"
   ]
  },
  {
   "cell_type": "code",
   "execution_count": 4,
   "id": "f2c683c1-a832-4df8-a28d-0a66a1398293",
   "metadata": {},
   "outputs": [],
   "source": [
    "class employee:\n",
    "    def __init__(self, name, surname, age, time_of_work, unit):\n",
    "        self.name = name\n",
    "        self.surname = surname\n",
    "        self.age = age\n",
    "        self.time_of_work = time_of_work\n",
    "        self.unit = unit\n",
    "        \n",
    "    def relocate(self, new_unit):\n",
    "        self.unit = new_unit"
   ]
  },
  {
   "cell_type": "markdown",
   "id": "e5d57575-9f0d-4fd5-9ac3-1f314108b92d",
   "metadata": {},
   "source": [
    "Once a method has been defined withing a class, we can access it the same way we did in the Data Structure notebook as in the following example:"
   ]
  },
  {
   "cell_type": "code",
   "execution_count": 5,
   "id": "4487dd9b-8c38-4e35-ab13-618b2a5cdb7d",
   "metadata": {},
   "outputs": [],
   "source": [
    "e1 = employee('John', 'Smith', 30, 2, 'Data Science')\n",
    "e2 = employee('Adam', 'Hardwood', 25, 4, 'Data Engineering')"
   ]
  },
  {
   "cell_type": "code",
   "execution_count": 6,
   "id": "16d95371-4bee-4e66-b033-61ae1b3f80b5",
   "metadata": {},
   "outputs": [],
   "source": [
    "e1.relocate('Machine Learning')\n",
    "e2.relocate('DevOps')"
   ]
  },
  {
   "cell_type": "code",
   "execution_count": 7,
   "id": "459870db-f850-4b5a-a958-38ef241af81e",
   "metadata": {},
   "outputs": [
    {
     "name": "stdout",
     "output_type": "stream",
     "text": [
      "The information of the first employee is:\n",
      "Current unit: Machine Learning\n",
      " \n",
      "====\n",
      " \n",
      "The information of the second employee is:\n",
      "Current unit: DevOps\n"
     ]
    }
   ],
   "source": [
    "print('The information of the first employee is:')\n",
    "print('Current unit:', e1.unit)\n",
    "\n",
    "print(' ')\n",
    "print('====')\n",
    "print(' ')\n",
    "\n",
    "print('The information of the second employee is:')\n",
    "print('Current unit:', e2.unit)"
   ]
  },
  {
   "cell_type": "markdown",
   "id": "d22fc31c-574c-4ec4-b7fa-cf2997450335",
   "metadata": {},
   "source": [
    "<h2> Conclussions </h2>"
   ]
  },
  {
   "cell_type": "markdown",
   "id": "9817d5b6-9531-4c02-8033-71fec535a8c4",
   "metadata": {},
   "source": [
    "Classes are a powerful tool that allow us to define different objects in Python and might facilitate certain tasks. This is something we will do when building some data science models, because as we saw in this notebook, we can define classes as a tangible object from real life, however we could as well create a class to be a more abstract object like an statistical model, with all their properties as their attributes."
   ]
  },
  {
   "cell_type": "markdown",
   "id": "a819689c-3122-4801-b18e-f0c64174fcad",
   "metadata": {},
   "source": [
    "<h2> References </h2>"
   ]
  },
  {
   "cell_type": "markdown",
   "id": "d28c47c8-fb8e-4189-846f-55dcc1c89def",
   "metadata": {},
   "source": [
    "- https://www.amazon.com/Python-Basics-Self-Teaching-Introduction-Bhasin/dp/1683923537\n",
    "- https://docs.python.org/3/tutorial/classes.html"
   ]
  },
  {
   "cell_type": "code",
   "execution_count": null,
   "id": "e5ace97b-3c6e-4882-84c1-527a6071e93d",
   "metadata": {},
   "outputs": [],
   "source": []
  }
 ],
 "metadata": {
  "kernelspec": {
   "display_name": "Python 3 (ipykernel)",
   "language": "python",
   "name": "python3"
  },
  "language_info": {
   "codemirror_mode": {
    "name": "ipython",
    "version": 3
   },
   "file_extension": ".py",
   "mimetype": "text/x-python",
   "name": "python",
   "nbconvert_exporter": "python",
   "pygments_lexer": "ipython3",
   "version": "3.11.0"
  }
 },
 "nbformat": 4,
 "nbformat_minor": 5
}
