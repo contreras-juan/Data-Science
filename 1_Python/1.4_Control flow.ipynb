{
 "cells": [
  {
   "cell_type": "markdown",
   "id": "638a01a2-570b-4819-bd0e-f0ca3151615b",
   "metadata": {},
   "source": [
    "<h1 align = \"center\"> Control Flow and conditionals</h1>"
   ]
  },
  {
   "cell_type": "markdown",
   "id": "ea8ae62f-8ddd-4a68-8aff-c8d96ac4aa13",
   "metadata": {},
   "source": [
    "<h2> Introduction </h2>"
   ]
  },
  {
   "cell_type": "markdown",
   "id": "34fb9923-b8ed-4672-9181-83da0d8814eb",
   "metadata": {},
   "source": [
    "Sometimes when programming it is normal to require to repeat a certain procedure several times. For example, let's assume that we need to print on the screen all the numbers between 1 and 10. One approach would be to execute `print(1)`, `print(2)`, `print(3)`, and so on. However, in certain cases the number of executions of a piece of code could be very large and it would not be wise to be typing it hundreads of times. To achieve this, we will introduce loops: the repetition of a procedure. We will examine `for loops` and `while loops`."
   ]
  },
  {
   "cell_type": "markdown",
   "id": "eec74679-02e8-4c71-b58b-45d98cf9ad6b",
   "metadata": {},
   "source": [
    "<h2> For loops </h2>"
   ]
  },
  {
   "cell_type": "markdown",
   "id": "5f7f5469-81c9-49d2-9d95-e44d0a3c2714",
   "metadata": {},
   "source": [
    "Let's resume the printing-example mentioned before. If we want to print all the numbers from 1 to 10 we run the following code:"
   ]
  },
  {
   "cell_type": "code",
   "execution_count": 2,
   "id": "e8303190-bb2a-442b-9370-843ab404c419",
   "metadata": {},
   "outputs": [
    {
     "name": "stdout",
     "output_type": "stream",
     "text": [
      "1\n",
      "2\n",
      "3\n",
      "4\n",
      "5\n",
      "6\n",
      "7\n",
      "8\n",
      "9\n",
      "10\n"
     ]
    }
   ],
   "source": [
    "for i in range(1, 11):\n",
    "    print(i)"
   ]
  },
  {
   "cell_type": "markdown",
   "id": "d0dd9889-1892-45c0-ae6d-9ccfb8afbc0c",
   "metadata": {},
   "source": [
    "The process of looping is often called an interation, and this is something we will talk about in further detail in the iterable section. The `range()` function gives all the list of numbers between an interval, where the first argument is the starting point (0 by default) and the last is the stopping point non-inclusive, that is why in the above code 11 is not printed. Look at the following two outputs:"
   ]
  },
  {
   "cell_type": "code",
   "execution_count": 4,
   "id": "fd386745-e114-4276-8593-5b978dbbed15",
   "metadata": {},
   "outputs": [
    {
     "name": "stdout",
     "output_type": "stream",
     "text": [
      "range(1, 11)\n",
      "[1, 2, 3, 4, 5, 6, 7, 8, 9, 10]\n"
     ]
    }
   ],
   "source": [
    "print(range(1, 11))\n",
    "print(list(range(1, 11)))"
   ]
  },
  {
   "cell_type": "markdown",
   "id": "509d6f66-fad9-4236-ae2d-5af5292b9808",
   "metadata": {},
   "source": [
    "The second line turns the `range()` object into a list of the numbers in the range. We can also execute `for loops` using some other lists, tuples or dictionaries. Let's see some examples:"
   ]
  },
  {
   "cell_type": "markdown",
   "id": "38d2516a-bde1-4ec0-8e3b-18aca449633a",
   "metadata": {},
   "source": [
    "Let's write a program to create a list with the squared values of the numbers of another list:"
   ]
  },
  {
   "cell_type": "code",
   "execution_count": 7,
   "id": "0b8381cb-c0c3-49ba-8fe8-e072750b5fcb",
   "metadata": {},
   "outputs": [
    {
     "name": "stdout",
     "output_type": "stream",
     "text": [
      "[4, 9, 16, 25, 36, 49, 64, 81]\n"
     ]
    }
   ],
   "source": [
    "nums = [2,3,4,5,6,7,8,9]\n",
    "\n",
    "squared = []\n",
    "\n",
    "for i in nums:\n",
    "    val = i**2\n",
    "    squared.append(val)\n",
    "    \n",
    "print(squared)"
   ]
  },
  {
   "cell_type": "markdown",
   "id": "e93a6526-00da-4eb6-93a6-50dcad86aa72",
   "metadata": {},
   "source": [
    "Now, assume that we have dictionary with some data of clients, and we want to print some important information about them:"
   ]
  },
  {
   "cell_type": "code",
   "execution_count": 13,
   "id": "fc9eb698-97ea-477d-a1ee-71d4803916c6",
   "metadata": {},
   "outputs": [
    {
     "name": "stdout",
     "output_type": "stream",
     "text": [
      "The age of Jhon is 20\n",
      "The age of Alfred is 42\n",
      "The age of Kevin is 30\n"
     ]
    }
   ],
   "source": [
    "clients = {\n",
    "    'names': ['Jhon', 'Alfred', 'Kevin'],\n",
    "    'age': [20, 42, 30]\n",
    "}\n",
    "\n",
    "names = clients.keys()\n",
    "N = len(names)\n",
    "\n",
    "for i in range(N+1):\n",
    "    curr_name = clients['names'][i]\n",
    "    curr_age = clients['age'][i]\n",
    "    \n",
    "    print(f'The age of {curr_name} is {curr_age}')"
   ]
  },
  {
   "cell_type": "markdown",
   "id": "7c7dd78b-ec80-4084-8623-1b2ed772c554",
   "metadata": {},
   "source": [
    "Now, consider a program to print the first 10 elements of the fibonaci sequence: `1, 1, 2, 3, 5, 8, 13, 21, 34, 55`"
   ]
  },
  {
   "cell_type": "code",
   "execution_count": 1,
   "id": "af566528-8a53-42e2-9b62-183f504556dd",
   "metadata": {},
   "outputs": [
    {
     "name": "stdout",
     "output_type": "stream",
     "text": [
      "First 10 elements of the fibonacci sequence:\n",
      "1  1  2  3  5  8  13  21  34  55  "
     ]
    }
   ],
   "source": [
    "# first two numbers\n",
    "num1, num2 = 1, 1\n",
    "\n",
    "print(\"First 10 elements of the fibonacci sequence:\")\n",
    "# run loop 10 times\n",
    "for i in range(10):\n",
    "    # print next number of a series\n",
    "    print(num1, end=\"  \")\n",
    "    # add last two numbers to get next number\n",
    "    res = num1 + num2\n",
    "\n",
    "    # update values\n",
    "    num1 = num2\n",
    "    num2 = res"
   ]
  },
  {
   "cell_type": "markdown",
   "id": "29fb1c51-1319-4c22-b2a9-a210f35483ee",
   "metadata": {},
   "source": [
    "As you could have already seen, this is all about finding patterns. "
   ]
  },
  {
   "cell_type": "markdown",
   "id": "39128490-4db9-4fc6-aa6c-9b6c2e97cbd3",
   "metadata": {},
   "source": [
    "<h2> While loops </h2>"
   ]
  },
  {
   "cell_type": "markdown",
   "id": "9a94095c-7869-4bea-bf04-ad5cb468abbb",
   "metadata": {},
   "source": [
    "`While loops` are typically used to repeat a certain procedure over and over again if a test conditions is met, and it will be repeating itself until the condition stops being true. Let's see the following example: find the factorial of a given number. Recall that the factorial of a integer `n` (`n!`) is computed as:"
   ]
  },
  {
   "cell_type": "markdown",
   "id": "cca20371-23a4-4455-978a-d647222a25d1",
   "metadata": {},
   "source": [
    "$$ n! = 1 \\text{ x } 2 \\text{ x } 3 \\text{ x } ... \\text{ x } (n - 1)$$"
   ]
  },
  {
   "cell_type": "markdown",
   "id": "210d0d35-ba8f-4d20-92c9-aced35364164",
   "metadata": {},
   "source": [
    "for $n>0$, and $0! = 1$."
   ]
  },
  {
   "cell_type": "markdown",
   "id": "630dc145-89c3-4d89-ba41-52b650462314",
   "metadata": {},
   "source": [
    "To find, say, the factorial of 5 we could write the following program:"
   ]
  },
  {
   "cell_type": "code",
   "execution_count": 6,
   "id": "0cceee76-6800-4d05-a864-988d988c3654",
   "metadata": {},
   "outputs": [
    {
     "name": "stdout",
     "output_type": "stream",
     "text": [
      "120\n"
     ]
    }
   ],
   "source": [
    "m = 5\n",
    "factorial = 1\n",
    "i = 1\n",
    "\n",
    "while i <= m:\n",
    "    factorial = factorial*i\n",
    "    i += 1\n",
    "    \n",
    "print(factorial)"
   ]
  },
  {
   "cell_type": "markdown",
   "id": "d694f8d1-e340-4926-b2cf-3ce328297d0b",
   "metadata": {},
   "source": [
    "In this algorithm, the `m` variable represents the number which factorial we want to find, the `factorial` variable is a number that will be multiplied by each integer before $m$ and $i$ is a counter that will be multiplied to $factorial$ in each iteration until $i$ is no longer greater than $m$, and thus $factorial$ is finally $5!$. Note the current value of `i`:"
   ]
  },
  {
   "cell_type": "code",
   "execution_count": 7,
   "id": "54020ed2-ad8d-4c2a-acd8-92c7fb79bf8c",
   "metadata": {},
   "outputs": [
    {
     "data": {
      "text/plain": [
       "6"
      ]
     },
     "execution_count": 7,
     "metadata": {},
     "output_type": "execute_result"
    }
   ],
   "source": [
    "i"
   ]
  },
  {
   "cell_type": "markdown",
   "id": "3f24a4f0-8df6-480a-bfa8-ef4777325774",
   "metadata": {},
   "source": [
    "<h2> Final remarks </h2>"
   ]
  },
  {
   "cell_type": "markdown",
   "id": "78ebdc4a-941c-4a73-9c00-bac94e6bc6c2",
   "metadata": {},
   "source": [
    "Although `for` loops and `while` loops are two different ways to automate a program that needs to be repeated over and over again, the logic behind the two are somewhat different. `for` loops are used to repeat over an object like lists, tuples or dictionaries; this types of classes we will call them iterables, because we can iterate over them, however the scope of this notebook is beyond this concept, and we will come back to this concept in the \"iterables and iterators\" notebook. The `while` loop, on the other hand, is used if the repetion is subject to the test of a given condition, so it will repeats itself until the condition no longer holds."
   ]
  },
  {
   "cell_type": "markdown",
   "id": "df1d4706-7c66-4d81-8aeb-483558a7d81c",
   "metadata": {},
   "source": [
    "<h2> References </h2>"
   ]
  },
  {
   "cell_type": "markdown",
   "id": "99c58fc3-1937-4837-8785-cfd931c3ebf2",
   "metadata": {},
   "source": [
    "- https://www.amazon.com/Python-Basics-Self-Teaching-Introduction-Bhasin/dp/1683923537"
   ]
  },
  {
   "cell_type": "code",
   "execution_count": null,
   "id": "1eb851cd-ac65-45ab-bc61-1274e9a3ed8e",
   "metadata": {},
   "outputs": [],
   "source": []
  }
 ],
 "metadata": {
  "kernelspec": {
   "display_name": "Python 3 (ipykernel)",
   "language": "python",
   "name": "python3"
  },
  "language_info": {
   "codemirror_mode": {
    "name": "ipython",
    "version": 3
   },
   "file_extension": ".py",
   "mimetype": "text/x-python",
   "name": "python",
   "nbconvert_exporter": "python",
   "pygments_lexer": "ipython3",
   "version": "3.11.0"
  }
 },
 "nbformat": 4,
 "nbformat_minor": 5
}
