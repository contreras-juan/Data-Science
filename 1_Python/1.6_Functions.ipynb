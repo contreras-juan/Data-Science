{
 "cells": [
  {
   "cell_type": "markdown",
   "id": "6596f089-1356-405b-aaff-8edaa893d3ed",
   "metadata": {},
   "source": [
    "<h1 align='center'> Functions </h1>"
   ]
  },
  {
   "cell_type": "markdown",
   "id": "7ad6491c-27de-4732-8b86-d6f00dd331e7",
   "metadata": {},
   "source": [
    "Sometimes when you are writting a program you will encounter that some tasks you will need to performs several times throughout you work, or that the overall excercise you are trying to complete might be divided into smaller pieces of tasks. This little pieces of code can be grouped into a single execution by writting a function. For instance, let's say that you will need to find the product of all the elements of a given list, and this is something you will need to be doing in several ocassions. A sample code of this would be something like: "
   ]
  },
  {
   "cell_type": "code",
   "execution_count": 1,
   "id": "17e4435d-4123-4f53-a50b-a0db173e5f56",
   "metadata": {},
   "outputs": [
    {
     "name": "stdout",
     "output_type": "stream",
     "text": [
      "2400\n"
     ]
    }
   ],
   "source": [
    "numbers = [3,5,8,10,2]\n",
    "\n",
    "prod = 1\n",
    "\n",
    "for j in numbers:\n",
    "    prod = prod*j\n",
    "    \n",
    "print(prod)"
   ]
  },
  {
   "cell_type": "markdown",
   "id": "e366cf94-3151-4f22-badb-d4fa7e339365",
   "metadata": {},
   "source": [
    "Although, this is not a particularly long program to write, it would be easier if we just define a function that executes this loop by using the Python magic command `def` like this:"
   ]
  },
  {
   "cell_type": "code",
   "execution_count": 2,
   "id": "7ebaa614-aac3-48e4-a3bc-aa8c7f12f3d4",
   "metadata": {},
   "outputs": [],
   "source": [
    "def prod(nums):\n",
    "    prod = 1\n",
    "    for j in nums:\n",
    "        prod = prod*j\n",
    "        \n",
    "    return prod"
   ]
  },
  {
   "cell_type": "markdown",
   "id": "c0917433-2b9b-4939-8be9-e8a6ec79522c",
   "metadata": {},
   "source": [
    "Here the `def` command tells Python that we are planning on writing a function (in this case named `prod()`); inside the parentheses we specify the arguments that the function requires; inside we write our program; and the `return` command tells Python that we finished to write the function and it will be returning the `prod` variable that we defined inside the function. Now it is ready to be executed:"
   ]
  },
  {
   "cell_type": "code",
   "execution_count": 3,
   "id": "646280d0-4f8b-4a28-8c11-98aba6bd208b",
   "metadata": {},
   "outputs": [
    {
     "data": {
      "text/plain": [
       "2400"
      ]
     },
     "execution_count": 3,
     "metadata": {},
     "output_type": "execute_result"
    }
   ],
   "source": [
    "prod(numbers)"
   ]
  },
  {
   "cell_type": "markdown",
   "id": "f30bf856-d397-4f5a-bd6c-da2e58a9099e",
   "metadata": {},
   "source": [
    "<h2> Types of functions </h2>\n",
    "    \n",
    "In Python there are several types of functions depending of the parameters they receive and whether they return a value.\n",
    "\n",
    "<h3> Type 1: Non argument needing but returning a value</h3>"
   ]
  },
  {
   "cell_type": "markdown",
   "id": "5880b8d1-6d2f-42e7-8d1a-699fde73fa02",
   "metadata": {},
   "source": [
    "You can define a function that takes no argument and will execute a given process by calling it, for instance a function that gives the first 10 elements of the Fibonacci sequence:"
   ]
  },
  {
   "cell_type": "code",
   "execution_count": 22,
   "id": "123ce416-d52f-4cb9-b8c3-3f94d4e6901d",
   "metadata": {},
   "outputs": [],
   "source": [
    "def fibo_10():\n",
    "    \n",
    "    num1, num2 = 1, 1\n",
    "\n",
    "    fibo_seq = []\n",
    "    \n",
    "    for i in range(10):\n",
    "\n",
    "        res = num1 + num2\n",
    "\n",
    "        num1 = num2\n",
    "        num2 = res\n",
    "\n",
    "        fibo_seq.append(res)\n",
    "    \n",
    "    return fibo_seq"
   ]
  },
  {
   "cell_type": "code",
   "execution_count": 24,
   "id": "3a2c40dd-e3d8-494a-b89f-3670ba772924",
   "metadata": {},
   "outputs": [
    {
     "data": {
      "text/plain": [
       "[2, 3, 5, 8, 13, 21, 34, 55, 89, 144]"
      ]
     },
     "execution_count": 24,
     "metadata": {},
     "output_type": "execute_result"
    }
   ],
   "source": [
    "fibo_sequence = fibo_10()\n",
    "fibo_sequence"
   ]
  },
  {
   "cell_type": "markdown",
   "id": "309e59b2-0140-448e-8618-2433b6468c40",
   "metadata": {},
   "source": [
    "<h3> Type 2: Non argument needing and non returning a value </h3>"
   ]
  },
  {
   "cell_type": "markdown",
   "id": "0d83f45f-227c-49e1-a0e4-d683e7ffba7d",
   "metadata": {},
   "source": [
    "There are some functions that require no argument and do not return a value. For instance, a function that will print a given message:"
   ]
  },
  {
   "cell_type": "code",
   "execution_count": 4,
   "id": "3e93ded7-3288-460d-8030-a3228b76874e",
   "metadata": {},
   "outputs": [],
   "source": [
    "def print_msg():\n",
    "    print('¡This is a Message!')"
   ]
  },
  {
   "cell_type": "code",
   "execution_count": 5,
   "id": "ea08b4c6-38b8-49f6-8dd0-e3dbe104eea5",
   "metadata": {},
   "outputs": [
    {
     "name": "stdout",
     "output_type": "stream",
     "text": [
      "¡This is a Message!\n"
     ]
    }
   ],
   "source": [
    "print_msg()"
   ]
  },
  {
   "cell_type": "markdown",
   "id": "258fc012-c197-495e-b037-639f4704ec46",
   "metadata": {},
   "source": [
    "Note that there is an important difference between returning a value and printing it. To ilustrate this let's execute the following two pieces of code:"
   ]
  },
  {
   "cell_type": "code",
   "execution_count": 27,
   "id": "c89e982a-aeb1-426a-a668-1ad59bfa46eb",
   "metadata": {},
   "outputs": [
    {
     "name": "stdout",
     "output_type": "stream",
     "text": [
      "¡This is a Message!\n"
     ]
    }
   ],
   "source": [
    "msg = print_msg()"
   ]
  },
  {
   "cell_type": "code",
   "execution_count": 29,
   "id": "43fd3d3f-06d2-4638-8194-e7fff0614b86",
   "metadata": {},
   "outputs": [
    {
     "name": "stdout",
     "output_type": "stream",
     "text": [
      "None\n"
     ]
    }
   ],
   "source": [
    "print(msg)"
   ]
  },
  {
   "cell_type": "markdown",
   "id": "393f7cbf-f3b3-4f6a-9d81-1cc9cfaf56b1",
   "metadata": {},
   "source": [
    "When we try to assign the `msg` variable, the message will be printed out because of the execution of the function. However, when we try to print whatever `msg` is, we get a `None` variable. This is because `print_msg()` does not return a value to be assigned."
   ]
  },
  {
   "cell_type": "markdown",
   "id": "48320299-b0d6-438b-8326-b33dcfc4d814",
   "metadata": {},
   "source": [
    "<h3> Type 3: Argument needing and non returning value </h3>"
   ]
  },
  {
   "cell_type": "markdown",
   "id": "81f36c65-1aca-486b-962b-7f1d5349fa79",
   "metadata": {},
   "source": [
    "We can have a function that requires an argument but does not returns a value. For instance, we can need a function that will print something out if a given condition is met, like telling if a given number is even:"
   ]
  },
  {
   "cell_type": "code",
   "execution_count": 42,
   "id": "777095ab-4070-4cc7-9a0b-5cb14b31083e",
   "metadata": {},
   "outputs": [],
   "source": [
    "def is_even(num):\n",
    "    if num%2==0:\n",
    "        print('Is Even')\n",
    "    else:\n",
    "        print('Is Odd')"
   ]
  },
  {
   "cell_type": "code",
   "execution_count": 43,
   "id": "78dbec09-ad26-4b6b-961b-a6565dc7ddab",
   "metadata": {},
   "outputs": [
    {
     "name": "stdout",
     "output_type": "stream",
     "text": [
      "Is Even\n",
      "Is Odd\n"
     ]
    }
   ],
   "source": [
    "is_even(10)\n",
    "is_even(5)"
   ]
  },
  {
   "cell_type": "markdown",
   "id": "45c434fa-a1df-4ae4-9dd1-2d4715fe451f",
   "metadata": {},
   "source": [
    "<h3> Type 4: Argument needing and returning a value </h3>"
   ]
  },
  {
   "cell_type": "markdown",
   "id": "e9ee637f-a600-430d-b331-a4a4a184a5cb",
   "metadata": {},
   "source": [
    "This is the first type we examined when we defined the `prod()` example, however, let's try out another case. I will borrow an example that is found in page 111 of the Python Basics: A self-teaching introduction by  H. Bhasin: a function that search in a list an element and gives the position of the element. If the element is not found in the list, then the function will print out \"The element is not found\"."
   ]
  },
  {
   "cell_type": "code",
   "execution_count": 30,
   "id": "bfd4abe0-a797-4975-b409-1b7239f1b708",
   "metadata": {},
   "outputs": [],
   "source": [
    "def search(L, item):\n",
    "    flag = 0\n",
    "    for i in L:\n",
    "        if i==item:\n",
    "            flag=1\n",
    "            \n",
    "            return i\n",
    "    if flag==0:\n",
    "        print('Not found')\n",
    "        return None"
   ]
  },
  {
   "cell_type": "code",
   "execution_count": 37,
   "id": "55f3b72e-12e3-4b9d-8cfa-146cab32f5c4",
   "metadata": {},
   "outputs": [],
   "source": [
    "L = [6,7,3,8,9]"
   ]
  },
  {
   "cell_type": "code",
   "execution_count": 38,
   "id": "af34c6de-26aa-4bc6-92ea-688027a3554b",
   "metadata": {},
   "outputs": [
    {
     "name": "stdout",
     "output_type": "stream",
     "text": [
      "7\n"
     ]
    }
   ],
   "source": [
    "first_example = search(L, 7)\n",
    "print(first_example)"
   ]
  },
  {
   "cell_type": "code",
   "execution_count": 39,
   "id": "0c9fb810-9e64-4baf-a069-36a72299fbfd",
   "metadata": {},
   "outputs": [
    {
     "name": "stdout",
     "output_type": "stream",
     "text": [
      "Not found\n",
      "None\n"
     ]
    }
   ],
   "source": [
    "second_example = search(L, 10)\n",
    "print(second_example)"
   ]
  },
  {
   "cell_type": "markdown",
   "id": "18ecf5b0-c660-4bcf-83a8-d6ad550cc48b",
   "metadata": {},
   "source": [
    "Note that the \"Not found\" message in the second example will be printed out just by the execution of the function because of the `print()` statement in the body of the function.\n",
    "\n",
    "**N.B**: I modified a little bit the function in Bhasin's book because his example is a Type 3 function, so I added the `return` statement so a value is return."
   ]
  },
  {
   "cell_type": "markdown",
   "id": "5c209eac-6316-4e6a-81cd-b7b45a4d6b39",
   "metadata": {},
   "source": [
    "<h2> Built-in functions </h2>"
   ]
  },
  {
   "cell_type": "markdown",
   "id": "64e8e1d6-23fa-455b-8d62-00fd361a97f9",
   "metadata": {},
   "source": [
    "Although we can technically define all the functions we need for a given task, sometime we do not need to do that becauses there are certain functions already programed within Python, this is what we call a built-in function. An example of this is the `range()`, the `type()` and the `print()` function we have already used several times, and all the methods we examined in the Data structure notebook. However, let's see some other cases:"
   ]
  },
  {
   "cell_type": "code",
   "execution_count": 53,
   "id": "0a58fada-c829-4d19-a2ba-51239f4ed36c",
   "metadata": {},
   "outputs": [
    {
     "name": "stdout",
     "output_type": "stream",
     "text": [
      "10\n",
      "3.1\n",
      "55\n"
     ]
    }
   ],
   "source": [
    "print(abs(-10)) # returns the absolute value of a number\n",
    "print(round(3.1415, 1)) # round up a number by a certain amount of digits\n",
    "print(sum([1,2,3,4,5,6,7,8,9,10])) # add up the elements of a list-like object"
   ]
  },
  {
   "cell_type": "markdown",
   "id": "ec49606a-96a1-493e-b490-603707af5779",
   "metadata": {},
   "source": [
    "<h2> References </h2>\n",
    "\n",
    "- https://www.amazon.com/Python-Basics-Self-Teaching-Introduction-Bhasin/dp/1683923537"
   ]
  },
  {
   "cell_type": "code",
   "execution_count": null,
   "id": "c6da775e-a304-4113-8fdc-f3f5404df52f",
   "metadata": {},
   "outputs": [],
   "source": []
  }
 ],
 "metadata": {
  "kernelspec": {
   "display_name": "Python 3 (ipykernel)",
   "language": "python",
   "name": "python3"
  },
  "language_info": {
   "codemirror_mode": {
    "name": "ipython",
    "version": 3
   },
   "file_extension": ".py",
   "mimetype": "text/x-python",
   "name": "python",
   "nbconvert_exporter": "python",
   "pygments_lexer": "ipython3",
   "version": "3.11.0"
  }
 },
 "nbformat": 4,
 "nbformat_minor": 5
}
