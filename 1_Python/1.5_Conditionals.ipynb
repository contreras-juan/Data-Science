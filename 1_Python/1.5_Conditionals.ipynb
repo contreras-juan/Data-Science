{
 "cells": [
  {
   "cell_type": "markdown",
   "id": "18d7e6e2-2a74-4cb4-8fc7-6a4c4aeb85aa",
   "metadata": {},
   "source": [
    "<h1 align='center'> Conditionals </h1>"
   ]
  },
  {
   "cell_type": "markdown",
   "id": "f599440e-3cff-43b0-bb73-50a4a8abc2d7",
   "metadata": {},
   "source": [
    "In previous notebooks we have consider programs that are linear in their structure, that is, they do not have any branches to follow if a certain condition meets. However, one seldom finds a problem like this. To handle this issue, we can use the `if`, `elif` and `else` statements.\n",
    "\n",
    "Let's consider the following problem: write a program to ask a user to enter a percentage, if the value entered is larger than 40 then the program will print \"Exam cleared\", otherwise it will print \"Failed\". The flow chart of this problem would be something like:\n",
    "\n",
    "<img src='img/flow_chart.png' width=\"500\">\n",
    "\n",
    "source: https://www.amazon.com/Python-Basics-Self-Teaching-Introduction-Bhasin/dp/1683923537"
   ]
  },
  {
   "cell_type": "markdown",
   "id": "a8a4b099-34b6-417f-836d-468df2d113cc",
   "metadata": {},
   "source": [
    "<h2> if-elif-else ladder </h1>"
   ]
  },
  {
   "cell_type": "markdown",
   "id": "1ec6c7ef-6cd0-4f33-bdcf-c47ca430fde7",
   "metadata": {},
   "source": [
    "To write this program we could code:"
   ]
  },
  {
   "cell_type": "code",
   "execution_count": 1,
   "id": "1f169428-1929-44eb-a1fa-c262f32cc56d",
   "metadata": {},
   "outputs": [
    {
     "name": "stdin",
     "output_type": "stream",
     "text": [
      "Enter a percentage: 30\n"
     ]
    },
    {
     "name": "stdout",
     "output_type": "stream",
     "text": [
      "Failed\n"
     ]
    }
   ],
   "source": [
    "value = int(input('Enter a percentage:'))\n",
    "\n",
    "if value > 40:\n",
    "    print('Exam cleared')\n",
    "    \n",
    "else:\n",
    "    print('Failed')"
   ]
  },
  {
   "cell_type": "markdown",
   "id": "ecf12135-6f7f-424d-a444-a3bda7ea0298",
   "metadata": {},
   "source": [
    "As we see, there exists a piece of code that will only be executed if a certain condition holds, this is an application of the boolean values we studied on te Variables notebook.\n",
    "\n",
    "Now assume that we have a flow chart with more than two branches. In this case the `elif` statement is particularly useful, it is an abbreviation of else-if, which means that we will test another condition if the previous one did not hold, but it wil not be tested otherwise. Let's try a modification of the previous algorithm:"
   ]
  },
  {
   "cell_type": "code",
   "execution_count": 2,
   "id": "bc654640-3855-491e-aeff-a2aa8819876c",
   "metadata": {},
   "outputs": [
    {
     "name": "stdin",
     "output_type": "stream",
     "text": [
      "Enter a percentage: 35\n"
     ]
    },
    {
     "name": "stdout",
     "output_type": "stream",
     "text": [
      "Second chance granted\n"
     ]
    }
   ],
   "source": [
    "value = int(input('Enter a percentage:'))\n",
    "\n",
    "if value > 40:\n",
    "    print('Cleared')\n",
    "    \n",
    "elif value>30:\n",
    "    print('Second chance granted')\n",
    "    \n",
    "else:\n",
    "    print('Failed')"
   ]
  },
  {
   "cell_type": "markdown",
   "id": "27126e55-88ff-4c3f-87ec-af529899c6bf",
   "metadata": {},
   "source": [
    "<h2> References </h2>\n",
    "\n",
    "- https://www.amazon.com/Python-Basics-Self-Teaching-Introduction-Bhasin/dp/1683923537"
   ]
  },
  {
   "cell_type": "code",
   "execution_count": null,
   "id": "70b12a69-47f8-4abc-bc8c-ae0f5d7b3812",
   "metadata": {},
   "outputs": [],
   "source": []
  }
 ],
 "metadata": {
  "kernelspec": {
   "display_name": "Python 3 (ipykernel)",
   "language": "python",
   "name": "python3"
  },
  "language_info": {
   "codemirror_mode": {
    "name": "ipython",
    "version": 3
   },
   "file_extension": ".py",
   "mimetype": "text/x-python",
   "name": "python",
   "nbconvert_exporter": "python",
   "pygments_lexer": "ipython3",
   "version": "3.11.0"
  }
 },
 "nbformat": 4,
 "nbformat_minor": 5
}
