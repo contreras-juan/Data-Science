{
 "cells": [
  {
   "cell_type": "markdown",
   "id": "a1b3fb90-516c-4f9c-9371-2108a77587bb",
   "metadata": {},
   "source": [
    "<h1 align=\"center\"> Variables in Python </h1>"
   ]
  },
  {
   "cell_type": "markdown",
   "id": "aed6a7d6-7128-43eb-a7e9-3318230e9f9f",
   "metadata": {},
   "source": [
    "A Python variable is simply a memory allocation in the computer in which there is a storage of a type of data and a specific name. Variables are important because we can tag a certain object with a name to be used later on in a procedure, such an objects can be texts, numbers or any other data type that we will be studying later on. Variables are assigned in Python with the sign `=`, here is an example:"
   ]
  },
  {
   "cell_type": "code",
   "execution_count": 1,
   "id": "a5b125f8-883b-4d77-a20d-a5c62a2cd155",
   "metadata": {},
   "outputs": [
    {
     "name": "stdout",
     "output_type": "stream",
     "text": [
      "The value of the variable a is  5\n",
      "The value of the variable b is  Python is the best!\n",
      "Tue value of the variable b is  But is also fine to learn other programming language\n"
     ]
    }
   ],
   "source": [
    "a = 5\n",
    "\n",
    "print('The value of the variable a is ', a)\n",
    "\n",
    "b = 'Python is the best!'\n",
    "\n",
    "print('The value of the variable b is ', b)\n",
    "\n",
    "b = 'But is also fine to learn other programming language'\n",
    "\n",
    "print('Tue value of the variable b is ', b)"
   ]
  },
  {
   "cell_type": "markdown",
   "id": "8ddbce5f-c0ae-44c9-b6a6-c2c104b88eda",
   "metadata": {},
   "source": [
    "As we can see, we can specify that the variable is a text by simply adding quotation marks on the definition, and by the way, single quotation marks and double quotation marks are indistinct in Python so `'Python is the best'` and `\"Python is the best\"` represents exactly the same value in Python. Also, as you can see in the previous example, a variable can be overwritten by assigning a new value to it."
   ]
  },
  {
   "cell_type": "markdown",
   "id": "2d1a3bdb-f7b0-426c-b847-2ccd21bdd3eb",
   "metadata": {},
   "source": [
    "After assigning a value, one can also use that variable to assigning to itself and dynamicly increase it by a certain quantity, as shown in the following piece of code (recall that that the variable `a` is initially `5`):"
   ]
  },
  {
   "cell_type": "code",
   "execution_count": 2,
   "id": "da9dc7bd-035b-481e-a9f4-8ee78049cb14",
   "metadata": {},
   "outputs": [
    {
     "name": "stdout",
     "output_type": "stream",
     "text": [
      "The value of a is now  6\n",
      "The value of a is now  7\n",
      "The value of a is now  8\n",
      "The value of a is now  9\n"
     ]
    }
   ],
   "source": [
    "a = a + 1\n",
    "\n",
    "print('The value of a is now ', a)\n",
    "a = a + 1\n",
    "\n",
    "print('The value of a is now ', a)\n",
    "\n",
    "a = a + 1\n",
    "\n",
    "print('The value of a is now ', a)\n",
    "\n",
    "a = a + 1\n",
    "\n",
    "print('The value of a is now ', a)"
   ]
  },
  {
   "cell_type": "markdown",
   "id": "75736d66-a1ea-485b-978a-74e44c08d144",
   "metadata": {},
   "source": [
    "<h2> Variable types </h2>"
   ]
  },
  {
   "cell_type": "markdown",
   "id": "6183cc5d-dcf4-447a-b7a9-37fcbed272db",
   "metadata": {},
   "source": [
    "We have seen early how to assign a variable and to specify it's type, for a numeric type and a text type (we will also refer to this latter type as `string`). Also, we have used already a the `print()` functions, which allows us to show values on the screen, although we will deepen on this concept on a later notebook, is fine to be familiar with some basic functions at this moment. Another function I will introduce in this session is the `type()` function that gives us the variable type, as shown next:"
   ]
  },
  {
   "cell_type": "code",
   "execution_count": 3,
   "id": "be884ae6-81cc-4a6f-ad9f-f1f5ac023c2e",
   "metadata": {},
   "outputs": [
    {
     "name": "stdout",
     "output_type": "stream",
     "text": [
      "<class 'int'>\n",
      "<class 'str'>\n"
     ]
    }
   ],
   "source": [
    "print(type(a))\n",
    "print(type(b))"
   ]
  },
  {
   "cell_type": "markdown",
   "id": "70a1ac0b-e68b-477f-b8be-a79d64a714d3",
   "metadata": {},
   "source": [
    "Where `int` stands for integer and `str` stands for string."
   ]
  },
  {
   "cell_type": "markdown",
   "id": "05b774ce-6873-43e1-b025-f3dc19a17e05",
   "metadata": {},
   "source": [
    "Let's introduce three new variable types here:"
   ]
  },
  {
   "cell_type": "code",
   "execution_count": 4,
   "id": "e6714977-a523-452d-857d-9eda142df378",
   "metadata": {},
   "outputs": [
    {
     "name": "stdout",
     "output_type": "stream",
     "text": [
      "The variable type of c is  <class 'float'>\n",
      "The variable type of d is  <class 'complex'>\n",
      "The variable type of e is  <class 'bool'>\n",
      "The variable type of f is  <class 'bool'>\n"
     ]
    }
   ],
   "source": [
    "c = 5.0\n",
    "d = 5 + 2j\n",
    "e = True\n",
    "f = False\n",
    "\n",
    "print('The variable type of c is ', type(c))\n",
    "print('The variable type of d is ', type(d))\n",
    "print('The variable type of e is ', type(e))\n",
    "print('The variable type of f is ', type(f))"
   ]
  },
  {
   "cell_type": "markdown",
   "id": "6974c4e0-e378-4271-aaef-d23d13472c27",
   "metadata": {},
   "source": [
    "As we can see, by adding a dot in the assignment of a number we change it's type to `float`, which is a numeric type of a decimal number. Also, by adding a `j` as in variable `d` we turn it into a complex number. The `True` and `False` represent boolean values, which are extensively used in programming, we constantly want to check wheather a certain condition meet, this is something we will be using in the Control flow notebooks. \n",
    "\n",
    "This is a simple example on how we get this boolean values:"
   ]
  },
  {
   "cell_type": "code",
   "execution_count": 5,
   "id": "da3dec83-e71e-4517-9a50-e2bd9cc2bedb",
   "metadata": {},
   "outputs": [
    {
     "name": "stdout",
     "output_type": "stream",
     "text": [
      "False\n",
      "True\n",
      "True\n"
     ]
    }
   ],
   "source": [
    "print(2 > 3)\n",
    "print(1 < 2)\n",
    "print(1 == 1)"
   ]
  },
  {
   "cell_type": "markdown",
   "id": "5d10ed0b-534e-4dcc-92d5-9b8b615f79c2",
   "metadata": {},
   "source": [
    "Here we also see that by assigning a double `=` we are actually comparing two values, conversely to what happen by using a single sign, in which we are actually assigning a variable."
   ]
  },
  {
   "cell_type": "markdown",
   "id": "7f9b5ebb-e78a-40b2-8eb5-6cfee0e8e0ea",
   "metadata": {},
   "source": [
    "<h2> Rules for naming variables</h2>"
   ]
  },
  {
   "cell_type": "markdown",
   "id": "25bea3f4-f2ec-46f2-a725-d033ede649f8",
   "metadata": {},
   "source": [
    "so far, we have used letters of the alphabet to name our variables, but this need not be the case, however, there are certain rules that most be follow to name a variable in Python:\n",
    "\n",
    "- The name most start with a letter or with _ (this means that the first character of the name most not be a number)\n",
    "- The name of a variabel could only contain alphanumeric characters\n",
    "- Variable names are case sensitive (`X` is different than `x`)"
   ]
  }
 ],
 "metadata": {
  "kernelspec": {
   "display_name": "Python 3 (ipykernel)",
   "language": "python",
   "name": "python3"
  },
  "language_info": {
   "codemirror_mode": {
    "name": "ipython",
    "version": 3
   },
   "file_extension": ".py",
   "mimetype": "text/x-python",
   "name": "python",
   "nbconvert_exporter": "python",
   "pygments_lexer": "ipython3",
   "version": "3.11.0"
  }
 },
 "nbformat": 4,
 "nbformat_minor": 5
}
