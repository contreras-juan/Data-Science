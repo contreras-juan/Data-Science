{
 "cells": [
  {
   "cell_type": "markdown",
   "id": "0b0b7801-4bab-4207-a03e-fba134dfd40c",
   "metadata": {},
   "source": [
    "<h1 align=\"center\"> Installing Python </h1> "
   ]
  },
  {
   "cell_type": "markdown",
   "id": "40aea0d1-02f0-492a-9c6d-6aae9a090195",
   "metadata": {},
   "source": [
    "To install python we are actually going to install Anaconda in our computers from https://www.anaconda.com/"
   ]
  }
 ],
 "metadata": {
  "kernelspec": {
   "display_name": "Python 3 (ipykernel)",
   "language": "python",
   "name": "python3"
  },
  "language_info": {
   "codemirror_mode": {
    "name": "ipython",
    "version": 3
   },
   "file_extension": ".py",
   "mimetype": "text/x-python",
   "name": "python",
   "nbconvert_exporter": "python",
   "pygments_lexer": "ipython3",
   "version": "3.11.0"
  }
 },
 "nbformat": 4,
 "nbformat_minor": 5
}
