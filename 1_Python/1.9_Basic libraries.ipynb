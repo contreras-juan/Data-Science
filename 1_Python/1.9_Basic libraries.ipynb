{
 "cells": [
  {
   "cell_type": "markdown",
   "id": "1c3039c5-1525-4d43-be4a-244715624065",
   "metadata": {},
   "source": [
    "<h1 align='center'> Basic libraries </h1"
   ]
  },
  {
   "cell_type": "markdown",
   "id": "7abf709e-db69-40b7-b464-bb2464689b47",
   "metadata": {},
   "source": [
    "So far we have access some built-in functions in Python and access some classess that are already defined by default. However, there are some external modules one can import to have access some additional functions, methods and classes. This modules are commonly called as libraries and are imported into an instance of Python by using the `import` statement. We will ses some basic examples."
   ]
  },
  {
   "cell_type": "markdown",
   "id": "bab9130d-1a66-4192-bb7f-a2026d832a82",
   "metadata": {},
   "source": [
    "<h2> Maths </h2>"
   ]
  },
  {
   "cell_type": "code",
   "execution_count": 1,
   "id": "19bc09ad-8ae2-47b6-8071-72a085b6feb0",
   "metadata": {},
   "outputs": [],
   "source": [
    "import math"
   ]
  },
  {
   "cell_type": "markdown",
   "id": "41e30074-6e52-4666-9303-35907037833c",
   "metadata": {},
   "source": [
    "The `math` module includes a set of mathematical tools like using the squared root, the factorial, finding a ceil of a decimal, and so on. Here are some examples of what if library provides:"
   ]
  },
  {
   "cell_type": "code",
   "execution_count": 14,
   "id": "09558594-40a9-4708-ad6c-bbacea065743",
   "metadata": {},
   "outputs": [
    {
     "name": "stdout",
     "output_type": "stream",
     "text": [
      "4.0\n",
      "4\n",
      "2.302585092994046\n",
      "0.0\n",
      "1.0\n"
     ]
    }
   ],
   "source": [
    "print(math.sqrt(16)) # square root\n",
    "print(math.ceil(3.1416)) # the ceil integer\n",
    "print(math.log(10)) # natural logarithm\n",
    "print(math.sin(0)) # sine function\n",
    "print(math.cos(0)) # cosine function"
   ]
  },
  {
   "cell_type": "markdown",
   "id": "9aef3171-f6d7-47fe-99b3-7384e0f8dd48",
   "metadata": {},
   "source": [
    "<h2> Random </h2>"
   ]
  },
  {
   "cell_type": "code",
   "execution_count": 15,
   "id": "d5681c6c-7f93-44ba-b957-8837a242d2a4",
   "metadata": {},
   "outputs": [],
   "source": [
    "import random"
   ]
  },
  {
   "cell_type": "markdown",
   "id": "eff9edb0-9924-4dd2-bc34-6611ea7dcdea",
   "metadata": {},
   "source": [
    "The `random` module gives functions to generate random numbers or to retrieve a random element of a given collection:"
   ]
  },
  {
   "cell_type": "code",
   "execution_count": 18,
   "id": "f7679cd1-92df-4106-a6eb-936ef05945ba",
   "metadata": {},
   "outputs": [
    {
     "name": "stdout",
     "output_type": "stream",
     "text": [
      "2\n",
      "6\n",
      "4\n"
     ]
    }
   ],
   "source": [
    "print(random.choice([4,6,10,2,5,6])) # choice a random element of a list-like object\n",
    "print(random.choice([4,6,10,2,5,6])) # choice a random element of a list-like object\n",
    "print(random.choice([4,6,10,2,5,6])) # choice a random element of a list-like object"
   ]
  },
  {
   "cell_type": "markdown",
   "id": "68e5309d-7621-49bc-ac98-2bd2f212ca57",
   "metadata": {},
   "source": [
    "Since we are choosing a random element, everytime we run the above code wi will retrieve a different output. However, if we want to set the same response everytime one runs a program that is based on probability, we can use the `seed()` function that help us to always see the same output. Try to run the following code several times:"
   ]
  },
  {
   "cell_type": "code",
   "execution_count": 21,
   "id": "eec132c8-4f29-4907-9db5-34a7c82f51f5",
   "metadata": {},
   "outputs": [
    {
     "name": "stdout",
     "output_type": "stream",
     "text": [
      "5\n"
     ]
    }
   ],
   "source": [
    "random.seed(57428)\n",
    "print(random.choice([4,6,10,2,5,6]))"
   ]
  },
  {
   "cell_type": "markdown",
   "id": "10c66316-c76d-4f6e-9f73-21b9dd38580f",
   "metadata": {},
   "source": [
    "We can also generate a random integer in a given interval (say 0 and 100) with the `randint()` function:"
   ]
  },
  {
   "cell_type": "code",
   "execution_count": 24,
   "id": "372183f7-641d-4e99-b400-cbf456ad152b",
   "metadata": {},
   "outputs": [
    {
     "data": {
      "text/plain": [
       "31"
      ]
     },
     "execution_count": 24,
     "metadata": {},
     "output_type": "execute_result"
    }
   ],
   "source": [
    "random.randint(0, 100)"
   ]
  },
  {
   "cell_type": "markdown",
   "id": "7b2cee6b-0bcc-475f-81a7-ca49b6e7a1f0",
   "metadata": {},
   "source": [
    "<h2> Numpy </h2>"
   ]
  },
  {
   "cell_type": "markdown",
   "id": "91e5dc6a-970f-449a-a637-06d3b1ee607c",
   "metadata": {},
   "source": [
    "Numpy stands for \"Numerical Python\", and it is a library that give more sofisticated elements than `math` to work with mathematical objects, some of which we will study later on and are often used in data science.\n",
    "\n",
    "Contrary to what we have seen so far, `numpy` cannot be access without previous installation, and if we try to do it we will get the following error:\n",
    "\n",
    "<img src='img/np_error.png'> "
   ]
  },
  {
   "cell_type": "markdown",
   "id": "7e8bf6e2-a198-4279-a598-1928c516b254",
   "metadata": {},
   "source": [
    "So to properly install a library we have to run `pip install numpy` or `conda install numpy` from your terminal depending on your prefered installation manager. To understand some basic differences between the two, one can see the following information: https://www.anaconda.com/blog/understanding-conda-and-pip\n",
    "\n",
    "Once we have already installed the package, we can import it:"
   ]
  },
  {
   "cell_type": "code",
   "execution_count": 28,
   "id": "e04d1c5c-5c41-4611-8832-213378a0ff5f",
   "metadata": {},
   "outputs": [],
   "source": [
    "import numpy as np"
   ]
  },
  {
   "cell_type": "markdown",
   "id": "5610ca68-c7f2-4d6c-bfc3-c0f783d54b5c",
   "metadata": {},
   "source": [
    "In some cases it is recommendable to find an alias of a given library when importing, this is the `as` statement does when importing a library. In addition, there are some common aliases that are used for certain libraries and the good practice is to keep using those aliases, although we could technically use whatever we want as an alias. Whenever we introduce a new library during the course we will specify which is the recommended alias for it.\n",
    "\n",
    "Now let's see some of the functions `numpy` gives access to (some of which are also included in `math`):"
   ]
  },
  {
   "cell_type": "code",
   "execution_count": 40,
   "id": "faa80077-16e0-48dd-86c3-bf4827c26149",
   "metadata": {},
   "outputs": [
    {
     "name": "stdout",
     "output_type": "stream",
     "text": [
      "0.0\n",
      "1.0\n",
      "4.0\n",
      "6\n",
      "26\n",
      "3628800\n"
     ]
    }
   ],
   "source": [
    "print(np.sin(0)) # sine function\n",
    "print(np.cos(0)) # cosine function\n",
    "print(np.sqrt(16)) # squared root\n",
    "print(np.abs(-6)) # absolute value\n",
    "print(np.sum([7,8,4,2,5])) # sum all the elements of a list-like object\n",
    "print(np.prod([1,2,3,4,5,6,7,8,9,10])) # multiply all the elements in a list-like object"
   ]
  },
  {
   "cell_type": "markdown",
   "id": "3f96d13d-c5e9-4b12-b6d2-85f8a8a004e4",
   "metadata": {},
   "source": [
    "However, `numpy` is more powerful than this, and gives a set of tools for data storing (like what we studied in the Data Structure notebook) by using array objects:"
   ]
  },
  {
   "cell_type": "code",
   "execution_count": 42,
   "id": "ea552199-0ebb-4a8d-8e7a-128ee387aca0",
   "metadata": {},
   "outputs": [
    {
     "name": "stdout",
     "output_type": "stream",
     "text": [
      "[ 4  5  6  7  8  9  0 10 14 20]\n"
     ]
    }
   ],
   "source": [
    "an_array = np.array([4,5,6,7,8,9,0,10,14, 20])\n",
    "print(an_array)"
   ]
  },
  {
   "cell_type": "markdown",
   "id": "bee1e48a-a3e5-479d-a6e1-c322139979ca",
   "metadata": {},
   "source": [
    "Although this looks like a list, it is not, and arrays are powerful objects and most of what we will be doing in data science are based on them."
   ]
  },
  {
   "cell_type": "markdown",
   "id": "4dcfa66f-33ad-4212-a575-b41d0c8e898c",
   "metadata": {},
   "source": [
    "**N.B:** Did you now that the product of an empty set is 1? Let's check this out by using `numpy`:"
   ]
  },
  {
   "cell_type": "code",
   "execution_count": 44,
   "id": "8237d05b-bf0a-4fcf-a59c-096f7a031e07",
   "metadata": {},
   "outputs": [
    {
     "data": {
      "text/plain": [
       "1.0"
      ]
     },
     "execution_count": 44,
     "metadata": {},
     "output_type": "execute_result"
    }
   ],
   "source": [
    "np.prod([])"
   ]
  },
  {
   "cell_type": "markdown",
   "id": "0f621926-ef91-457d-aaed-fd8df2e47939",
   "metadata": {},
   "source": [
    "¡Ta-Da!"
   ]
  },
  {
   "cell_type": "markdown",
   "id": "33da29e3-0eb4-43f2-9297-ba02eda124bd",
   "metadata": {},
   "source": [
    "<h2> Pandas </h2>"
   ]
  },
  {
   "cell_type": "markdown",
   "id": "2e956923-42de-43f3-94d4-fcf63565d269",
   "metadata": {},
   "source": [
    "`pandas` is by far the more useful library we will be using as a data scientists since it will gives us a more comfortable way to see data storage. However, lucky for us, `Pandas` is also very compatible to `numpy` and dictionaries.\n",
    "\n",
    "To access `pandas` we will also to install it the same way we did with `numpy`, but once we do it we can import it like:"
   ]
  },
  {
   "cell_type": "code",
   "execution_count": 45,
   "id": "3441a86e-ee73-4d80-988b-ab68b524e95f",
   "metadata": {},
   "outputs": [],
   "source": [
    "import pandas as pd"
   ]
  },
  {
   "cell_type": "markdown",
   "id": "e271d010-db1c-4e6a-8d8b-670e9768791d",
   "metadata": {},
   "source": [
    "First we might inspect a little bit we is `pandas` so commonly use, and what makes it so powerful in data science. We will store some data into a dictionary and then import it into a pandas DataFrame, which is also an object for data storage:"
   ]
  },
  {
   "cell_type": "code",
   "execution_count": 46,
   "id": "5dc62090-948a-4e0e-b5bb-fb68e4e504b7",
   "metadata": {},
   "outputs": [
    {
     "data": {
      "text/html": [
       "<div>\n",
       "<style scoped>\n",
       "    .dataframe tbody tr th:only-of-type {\n",
       "        vertical-align: middle;\n",
       "    }\n",
       "\n",
       "    .dataframe tbody tr th {\n",
       "        vertical-align: top;\n",
       "    }\n",
       "\n",
       "    .dataframe thead th {\n",
       "        text-align: right;\n",
       "    }\n",
       "</style>\n",
       "<table border=\"1\" class=\"dataframe\">\n",
       "  <thead>\n",
       "    <tr style=\"text-align: right;\">\n",
       "      <th></th>\n",
       "      <th>names</th>\n",
       "      <th>surnames</th>\n",
       "    </tr>\n",
       "  </thead>\n",
       "  <tbody>\n",
       "    <tr>\n",
       "      <th>0</th>\n",
       "      <td>John</td>\n",
       "      <td>Smith</td>\n",
       "    </tr>\n",
       "    <tr>\n",
       "      <th>1</th>\n",
       "      <td>Alfred</td>\n",
       "      <td>Wick</td>\n",
       "    </tr>\n",
       "    <tr>\n",
       "      <th>2</th>\n",
       "      <td>Alex</td>\n",
       "      <td>Chapman</td>\n",
       "    </tr>\n",
       "  </tbody>\n",
       "</table>\n",
       "</div>"
      ],
      "text/plain": [
       "    names surnames\n",
       "0    John    Smith\n",
       "1  Alfred     Wick\n",
       "2    Alex  Chapman"
      ]
     },
     "execution_count": 46,
     "metadata": {},
     "output_type": "execute_result"
    }
   ],
   "source": [
    "people_dict = {\n",
    "    'names': ['John', 'Alfred', 'Alex'],\n",
    "    'surnames': ['Smith', 'Wick', 'Chapman']\n",
    "}\n",
    "\n",
    "pd.DataFrame.from_dict(people_dict)"
   ]
  },
  {
   "cell_type": "markdown",
   "id": "95c8af6f-11a2-4d80-84e3-853eb5cfe2d0",
   "metadata": {},
   "source": [
    "Table-like data storaging is very popular because it resembles Microsoft Excel and this is what most of us first used to manipulate data. Also it is very easy to see the information when having several rows and columns. Although the previous example is a very small dataset, in real life we might encounter with thousands of rows and too many columns. This scenario would be very difficult to see on the screen in a dictionary or in several lists or tuples. However, it is important to mention that all this data storage classes are not perfectly substitutes, but rather all of them have their time and place and we will be using them when needed.\n",
    "\n",
    "A more common function in `pandas` is the `read_csv()` that allows to import .csv files from our local computer, and also we can use some other like `read_excel()` to import Excel tables. To illustrate this, I will import the gdp_per_capita.csv file that contains information of several countries, and I have downloaded from [Kaggle](https://www.kaggle.com/datasets/abhilashanil/better-life-index-and-gross-domestic-product?resource=download) into my computer:"
   ]
  },
  {
   "cell_type": "code",
   "execution_count": 49,
   "id": "072f906c-4f42-4eb2-af75-de64a632e61b",
   "metadata": {},
   "outputs": [
    {
     "data": {
      "text/html": [
       "<div>\n",
       "<style scoped>\n",
       "    .dataframe tbody tr th:only-of-type {\n",
       "        vertical-align: middle;\n",
       "    }\n",
       "\n",
       "    .dataframe tbody tr th {\n",
       "        vertical-align: top;\n",
       "    }\n",
       "\n",
       "    .dataframe thead th {\n",
       "        text-align: right;\n",
       "    }\n",
       "</style>\n",
       "<table border=\"1\" class=\"dataframe\">\n",
       "  <thead>\n",
       "    <tr style=\"text-align: right;\">\n",
       "      <th></th>\n",
       "      <th>Country</th>\n",
       "      <th>Subject Descriptor</th>\n",
       "      <th>Units</th>\n",
       "      <th>Scale</th>\n",
       "      <th>Country/Series-specific Notes</th>\n",
       "      <th>2015</th>\n",
       "      <th>Estimates Start After</th>\n",
       "    </tr>\n",
       "  </thead>\n",
       "  <tbody>\n",
       "    <tr>\n",
       "      <th>0</th>\n",
       "      <td>Afghanistan</td>\n",
       "      <td>Gross domestic product per capita current prices</td>\n",
       "      <td>U.S. dollars</td>\n",
       "      <td>Units</td>\n",
       "      <td>See notes for:  Gross domestic product current...</td>\n",
       "      <td>599.994</td>\n",
       "      <td>2013.0</td>\n",
       "    </tr>\n",
       "    <tr>\n",
       "      <th>1</th>\n",
       "      <td>Albania</td>\n",
       "      <td>Gross domestic product per capita current prices</td>\n",
       "      <td>U.S. dollars</td>\n",
       "      <td>Units</td>\n",
       "      <td>See notes for:  Gross domestic product current...</td>\n",
       "      <td>3995.383</td>\n",
       "      <td>2010.0</td>\n",
       "    </tr>\n",
       "    <tr>\n",
       "      <th>2</th>\n",
       "      <td>Algeria</td>\n",
       "      <td>Gross domestic product per capita current prices</td>\n",
       "      <td>U.S. dollars</td>\n",
       "      <td>Units</td>\n",
       "      <td>See notes for:  Gross domestic product current...</td>\n",
       "      <td>4318.135</td>\n",
       "      <td>2014.0</td>\n",
       "    </tr>\n",
       "    <tr>\n",
       "      <th>3</th>\n",
       "      <td>Angola</td>\n",
       "      <td>Gross domestic product per capita current prices</td>\n",
       "      <td>U.S. dollars</td>\n",
       "      <td>Units</td>\n",
       "      <td>See notes for:  Gross domestic product current...</td>\n",
       "      <td>4100.315</td>\n",
       "      <td>2014.0</td>\n",
       "    </tr>\n",
       "    <tr>\n",
       "      <th>4</th>\n",
       "      <td>Antigua and Barbuda</td>\n",
       "      <td>Gross domestic product per capita current prices</td>\n",
       "      <td>U.S. dollars</td>\n",
       "      <td>Units</td>\n",
       "      <td>See notes for:  Gross domestic product current...</td>\n",
       "      <td>14414.302</td>\n",
       "      <td>2011.0</td>\n",
       "    </tr>\n",
       "    <tr>\n",
       "      <th>...</th>\n",
       "      <td>...</td>\n",
       "      <td>...</td>\n",
       "      <td>...</td>\n",
       "      <td>...</td>\n",
       "      <td>...</td>\n",
       "      <td>...</td>\n",
       "      <td>...</td>\n",
       "    </tr>\n",
       "    <tr>\n",
       "      <th>185</th>\n",
       "      <td>Vietnam</td>\n",
       "      <td>Gross domestic product per capita current prices</td>\n",
       "      <td>U.S. dollars</td>\n",
       "      <td>Units</td>\n",
       "      <td>See notes for:  Gross domestic product current...</td>\n",
       "      <td>2088.344</td>\n",
       "      <td>2012.0</td>\n",
       "    </tr>\n",
       "    <tr>\n",
       "      <th>186</th>\n",
       "      <td>Yemen</td>\n",
       "      <td>Gross domestic product per capita current prices</td>\n",
       "      <td>U.S. dollars</td>\n",
       "      <td>Units</td>\n",
       "      <td>See notes for:  Gross domestic product current...</td>\n",
       "      <td>1302.940</td>\n",
       "      <td>2008.0</td>\n",
       "    </tr>\n",
       "    <tr>\n",
       "      <th>187</th>\n",
       "      <td>Zambia</td>\n",
       "      <td>Gross domestic product per capita current prices</td>\n",
       "      <td>U.S. dollars</td>\n",
       "      <td>Units</td>\n",
       "      <td>See notes for:  Gross domestic product current...</td>\n",
       "      <td>1350.151</td>\n",
       "      <td>2010.0</td>\n",
       "    </tr>\n",
       "    <tr>\n",
       "      <th>188</th>\n",
       "      <td>Zimbabwe</td>\n",
       "      <td>Gross domestic product per capita current prices</td>\n",
       "      <td>U.S. dollars</td>\n",
       "      <td>Units</td>\n",
       "      <td>See notes for:  Gross domestic product current...</td>\n",
       "      <td>1064.350</td>\n",
       "      <td>2012.0</td>\n",
       "    </tr>\n",
       "    <tr>\n",
       "      <th>189</th>\n",
       "      <td>International Monetary Fund World Economic Out...</td>\n",
       "      <td>NaN</td>\n",
       "      <td>NaN</td>\n",
       "      <td>NaN</td>\n",
       "      <td>NaN</td>\n",
       "      <td>NaN</td>\n",
       "      <td>NaN</td>\n",
       "    </tr>\n",
       "  </tbody>\n",
       "</table>\n",
       "<p>190 rows × 7 columns</p>\n",
       "</div>"
      ],
      "text/plain": [
       "                                               Country  \\\n",
       "0                                          Afghanistan   \n",
       "1                                              Albania   \n",
       "2                                              Algeria   \n",
       "3                                               Angola   \n",
       "4                                  Antigua and Barbuda   \n",
       "..                                                 ...   \n",
       "185                                            Vietnam   \n",
       "186                                              Yemen   \n",
       "187                                             Zambia   \n",
       "188                                           Zimbabwe   \n",
       "189  International Monetary Fund World Economic Out...   \n",
       "\n",
       "                                   Subject Descriptor         Units  Scale  \\\n",
       "0    Gross domestic product per capita current prices  U.S. dollars  Units   \n",
       "1    Gross domestic product per capita current prices  U.S. dollars  Units   \n",
       "2    Gross domestic product per capita current prices  U.S. dollars  Units   \n",
       "3    Gross domestic product per capita current prices  U.S. dollars  Units   \n",
       "4    Gross domestic product per capita current prices  U.S. dollars  Units   \n",
       "..                                                ...           ...    ...   \n",
       "185  Gross domestic product per capita current prices  U.S. dollars  Units   \n",
       "186  Gross domestic product per capita current prices  U.S. dollars  Units   \n",
       "187  Gross domestic product per capita current prices  U.S. dollars  Units   \n",
       "188  Gross domestic product per capita current prices  U.S. dollars  Units   \n",
       "189                                               NaN           NaN    NaN   \n",
       "\n",
       "                         Country/Series-specific Notes       2015  \\\n",
       "0    See notes for:  Gross domestic product current...    599.994   \n",
       "1    See notes for:  Gross domestic product current...   3995.383   \n",
       "2    See notes for:  Gross domestic product current...   4318.135   \n",
       "3    See notes for:  Gross domestic product current...   4100.315   \n",
       "4    See notes for:  Gross domestic product current...  14414.302   \n",
       "..                                                 ...        ...   \n",
       "185  See notes for:  Gross domestic product current...   2088.344   \n",
       "186  See notes for:  Gross domestic product current...   1302.940   \n",
       "187  See notes for:  Gross domestic product current...   1350.151   \n",
       "188  See notes for:  Gross domestic product current...   1064.350   \n",
       "189                                                NaN        NaN   \n",
       "\n",
       "     Estimates Start After  \n",
       "0                   2013.0  \n",
       "1                   2010.0  \n",
       "2                   2014.0  \n",
       "3                   2014.0  \n",
       "4                   2011.0  \n",
       "..                     ...  \n",
       "185                 2012.0  \n",
       "186                 2008.0  \n",
       "187                 2010.0  \n",
       "188                 2012.0  \n",
       "189                    NaN  \n",
       "\n",
       "[190 rows x 7 columns]"
      ]
     },
     "execution_count": 49,
     "metadata": {},
     "output_type": "execute_result"
    }
   ],
   "source": [
    "df = pd.read_csv('Data/gdp_per_capita.csv', encoding='latin1')\n",
    "df"
   ]
  },
  {
   "cell_type": "markdown",
   "id": "a42c5285-64ca-4888-986f-a37998141d87",
   "metadata": {},
   "source": [
    "By running the `df` variable we print the first and last five rows of the dataset, but sometime to see the first rows are enough, so we can implemente the `head()` method:"
   ]
  },
  {
   "cell_type": "code",
   "execution_count": 51,
   "id": "948c8c5e-24d7-4055-8488-1d57377ad900",
   "metadata": {},
   "outputs": [
    {
     "data": {
      "text/html": [
       "<div>\n",
       "<style scoped>\n",
       "    .dataframe tbody tr th:only-of-type {\n",
       "        vertical-align: middle;\n",
       "    }\n",
       "\n",
       "    .dataframe tbody tr th {\n",
       "        vertical-align: top;\n",
       "    }\n",
       "\n",
       "    .dataframe thead th {\n",
       "        text-align: right;\n",
       "    }\n",
       "</style>\n",
       "<table border=\"1\" class=\"dataframe\">\n",
       "  <thead>\n",
       "    <tr style=\"text-align: right;\">\n",
       "      <th></th>\n",
       "      <th>Country</th>\n",
       "      <th>Subject Descriptor</th>\n",
       "      <th>Units</th>\n",
       "      <th>Scale</th>\n",
       "      <th>Country/Series-specific Notes</th>\n",
       "      <th>2015</th>\n",
       "      <th>Estimates Start After</th>\n",
       "    </tr>\n",
       "  </thead>\n",
       "  <tbody>\n",
       "    <tr>\n",
       "      <th>0</th>\n",
       "      <td>Afghanistan</td>\n",
       "      <td>Gross domestic product per capita current prices</td>\n",
       "      <td>U.S. dollars</td>\n",
       "      <td>Units</td>\n",
       "      <td>See notes for:  Gross domestic product current...</td>\n",
       "      <td>599.994</td>\n",
       "      <td>2013.0</td>\n",
       "    </tr>\n",
       "    <tr>\n",
       "      <th>1</th>\n",
       "      <td>Albania</td>\n",
       "      <td>Gross domestic product per capita current prices</td>\n",
       "      <td>U.S. dollars</td>\n",
       "      <td>Units</td>\n",
       "      <td>See notes for:  Gross domestic product current...</td>\n",
       "      <td>3995.383</td>\n",
       "      <td>2010.0</td>\n",
       "    </tr>\n",
       "    <tr>\n",
       "      <th>2</th>\n",
       "      <td>Algeria</td>\n",
       "      <td>Gross domestic product per capita current prices</td>\n",
       "      <td>U.S. dollars</td>\n",
       "      <td>Units</td>\n",
       "      <td>See notes for:  Gross domestic product current...</td>\n",
       "      <td>4318.135</td>\n",
       "      <td>2014.0</td>\n",
       "    </tr>\n",
       "    <tr>\n",
       "      <th>3</th>\n",
       "      <td>Angola</td>\n",
       "      <td>Gross domestic product per capita current prices</td>\n",
       "      <td>U.S. dollars</td>\n",
       "      <td>Units</td>\n",
       "      <td>See notes for:  Gross domestic product current...</td>\n",
       "      <td>4100.315</td>\n",
       "      <td>2014.0</td>\n",
       "    </tr>\n",
       "    <tr>\n",
       "      <th>4</th>\n",
       "      <td>Antigua and Barbuda</td>\n",
       "      <td>Gross domestic product per capita current prices</td>\n",
       "      <td>U.S. dollars</td>\n",
       "      <td>Units</td>\n",
       "      <td>See notes for:  Gross domestic product current...</td>\n",
       "      <td>14414.302</td>\n",
       "      <td>2011.0</td>\n",
       "    </tr>\n",
       "    <tr>\n",
       "      <th>5</th>\n",
       "      <td>Argentina</td>\n",
       "      <td>Gross domestic product per capita current prices</td>\n",
       "      <td>U.S. dollars</td>\n",
       "      <td>Units</td>\n",
       "      <td>See notes for:  Gross domestic product current...</td>\n",
       "      <td>13588.846</td>\n",
       "      <td>2013.0</td>\n",
       "    </tr>\n",
       "    <tr>\n",
       "      <th>6</th>\n",
       "      <td>Armenia</td>\n",
       "      <td>Gross domestic product per capita current prices</td>\n",
       "      <td>U.S. dollars</td>\n",
       "      <td>Units</td>\n",
       "      <td>See notes for:  Gross domestic product current...</td>\n",
       "      <td>3534.860</td>\n",
       "      <td>2014.0</td>\n",
       "    </tr>\n",
       "    <tr>\n",
       "      <th>7</th>\n",
       "      <td>Australia</td>\n",
       "      <td>Gross domestic product per capita current prices</td>\n",
       "      <td>U.S. dollars</td>\n",
       "      <td>Units</td>\n",
       "      <td>See notes for:  Gross domestic product current...</td>\n",
       "      <td>50961.865</td>\n",
       "      <td>2014.0</td>\n",
       "    </tr>\n",
       "    <tr>\n",
       "      <th>8</th>\n",
       "      <td>Austria</td>\n",
       "      <td>Gross domestic product per capita current prices</td>\n",
       "      <td>U.S. dollars</td>\n",
       "      <td>Units</td>\n",
       "      <td>See notes for:  Gross domestic product current...</td>\n",
       "      <td>43724.031</td>\n",
       "      <td>2015.0</td>\n",
       "    </tr>\n",
       "    <tr>\n",
       "      <th>9</th>\n",
       "      <td>Azerbaijan</td>\n",
       "      <td>Gross domestic product per capita current prices</td>\n",
       "      <td>U.S. dollars</td>\n",
       "      <td>Units</td>\n",
       "      <td>See notes for:  Gross domestic product current...</td>\n",
       "      <td>5739.433</td>\n",
       "      <td>2014.0</td>\n",
       "    </tr>\n",
       "  </tbody>\n",
       "</table>\n",
       "</div>"
      ],
      "text/plain": [
       "               Country                                Subject Descriptor  \\\n",
       "0          Afghanistan  Gross domestic product per capita current prices   \n",
       "1              Albania  Gross domestic product per capita current prices   \n",
       "2              Algeria  Gross domestic product per capita current prices   \n",
       "3               Angola  Gross domestic product per capita current prices   \n",
       "4  Antigua and Barbuda  Gross domestic product per capita current prices   \n",
       "5            Argentina  Gross domestic product per capita current prices   \n",
       "6              Armenia  Gross domestic product per capita current prices   \n",
       "7            Australia  Gross domestic product per capita current prices   \n",
       "8              Austria  Gross domestic product per capita current prices   \n",
       "9           Azerbaijan  Gross domestic product per capita current prices   \n",
       "\n",
       "          Units  Scale                      Country/Series-specific Notes  \\\n",
       "0  U.S. dollars  Units  See notes for:  Gross domestic product current...   \n",
       "1  U.S. dollars  Units  See notes for:  Gross domestic product current...   \n",
       "2  U.S. dollars  Units  See notes for:  Gross domestic product current...   \n",
       "3  U.S. dollars  Units  See notes for:  Gross domestic product current...   \n",
       "4  U.S. dollars  Units  See notes for:  Gross domestic product current...   \n",
       "5  U.S. dollars  Units  See notes for:  Gross domestic product current...   \n",
       "6  U.S. dollars  Units  See notes for:  Gross domestic product current...   \n",
       "7  U.S. dollars  Units  See notes for:  Gross domestic product current...   \n",
       "8  U.S. dollars  Units  See notes for:  Gross domestic product current...   \n",
       "9  U.S. dollars  Units  See notes for:  Gross domestic product current...   \n",
       "\n",
       "        2015  Estimates Start After  \n",
       "0    599.994                 2013.0  \n",
       "1   3995.383                 2010.0  \n",
       "2   4318.135                 2014.0  \n",
       "3   4100.315                 2014.0  \n",
       "4  14414.302                 2011.0  \n",
       "5  13588.846                 2013.0  \n",
       "6   3534.860                 2014.0  \n",
       "7  50961.865                 2014.0  \n",
       "8  43724.031                 2015.0  \n",
       "9   5739.433                 2014.0  "
      ]
     },
     "execution_count": 51,
     "metadata": {},
     "output_type": "execute_result"
    }
   ],
   "source": [
    "df.head(10) "
   ]
  },
  {
   "cell_type": "markdown",
   "id": "bb722748-79bd-4463-a69c-3e5cf2fdb95c",
   "metadata": {},
   "source": [
    "Here I have told `pandas` to show the first 10 rows of the dataset, but the default is five:"
   ]
  },
  {
   "cell_type": "code",
   "execution_count": 52,
   "id": "c454ff01-dc37-48e5-947c-8bae6ae8252a",
   "metadata": {},
   "outputs": [
    {
     "data": {
      "text/html": [
       "<div>\n",
       "<style scoped>\n",
       "    .dataframe tbody tr th:only-of-type {\n",
       "        vertical-align: middle;\n",
       "    }\n",
       "\n",
       "    .dataframe tbody tr th {\n",
       "        vertical-align: top;\n",
       "    }\n",
       "\n",
       "    .dataframe thead th {\n",
       "        text-align: right;\n",
       "    }\n",
       "</style>\n",
       "<table border=\"1\" class=\"dataframe\">\n",
       "  <thead>\n",
       "    <tr style=\"text-align: right;\">\n",
       "      <th></th>\n",
       "      <th>Country</th>\n",
       "      <th>Subject Descriptor</th>\n",
       "      <th>Units</th>\n",
       "      <th>Scale</th>\n",
       "      <th>Country/Series-specific Notes</th>\n",
       "      <th>2015</th>\n",
       "      <th>Estimates Start After</th>\n",
       "    </tr>\n",
       "  </thead>\n",
       "  <tbody>\n",
       "    <tr>\n",
       "      <th>0</th>\n",
       "      <td>Afghanistan</td>\n",
       "      <td>Gross domestic product per capita current prices</td>\n",
       "      <td>U.S. dollars</td>\n",
       "      <td>Units</td>\n",
       "      <td>See notes for:  Gross domestic product current...</td>\n",
       "      <td>599.994</td>\n",
       "      <td>2013.0</td>\n",
       "    </tr>\n",
       "    <tr>\n",
       "      <th>1</th>\n",
       "      <td>Albania</td>\n",
       "      <td>Gross domestic product per capita current prices</td>\n",
       "      <td>U.S. dollars</td>\n",
       "      <td>Units</td>\n",
       "      <td>See notes for:  Gross domestic product current...</td>\n",
       "      <td>3995.383</td>\n",
       "      <td>2010.0</td>\n",
       "    </tr>\n",
       "    <tr>\n",
       "      <th>2</th>\n",
       "      <td>Algeria</td>\n",
       "      <td>Gross domestic product per capita current prices</td>\n",
       "      <td>U.S. dollars</td>\n",
       "      <td>Units</td>\n",
       "      <td>See notes for:  Gross domestic product current...</td>\n",
       "      <td>4318.135</td>\n",
       "      <td>2014.0</td>\n",
       "    </tr>\n",
       "    <tr>\n",
       "      <th>3</th>\n",
       "      <td>Angola</td>\n",
       "      <td>Gross domestic product per capita current prices</td>\n",
       "      <td>U.S. dollars</td>\n",
       "      <td>Units</td>\n",
       "      <td>See notes for:  Gross domestic product current...</td>\n",
       "      <td>4100.315</td>\n",
       "      <td>2014.0</td>\n",
       "    </tr>\n",
       "    <tr>\n",
       "      <th>4</th>\n",
       "      <td>Antigua and Barbuda</td>\n",
       "      <td>Gross domestic product per capita current prices</td>\n",
       "      <td>U.S. dollars</td>\n",
       "      <td>Units</td>\n",
       "      <td>See notes for:  Gross domestic product current...</td>\n",
       "      <td>14414.302</td>\n",
       "      <td>2011.0</td>\n",
       "    </tr>\n",
       "  </tbody>\n",
       "</table>\n",
       "</div>"
      ],
      "text/plain": [
       "               Country                                Subject Descriptor  \\\n",
       "0          Afghanistan  Gross domestic product per capita current prices   \n",
       "1              Albania  Gross domestic product per capita current prices   \n",
       "2              Algeria  Gross domestic product per capita current prices   \n",
       "3               Angola  Gross domestic product per capita current prices   \n",
       "4  Antigua and Barbuda  Gross domestic product per capita current prices   \n",
       "\n",
       "          Units  Scale                      Country/Series-specific Notes  \\\n",
       "0  U.S. dollars  Units  See notes for:  Gross domestic product current...   \n",
       "1  U.S. dollars  Units  See notes for:  Gross domestic product current...   \n",
       "2  U.S. dollars  Units  See notes for:  Gross domestic product current...   \n",
       "3  U.S. dollars  Units  See notes for:  Gross domestic product current...   \n",
       "4  U.S. dollars  Units  See notes for:  Gross domestic product current...   \n",
       "\n",
       "        2015  Estimates Start After  \n",
       "0    599.994                 2013.0  \n",
       "1   3995.383                 2010.0  \n",
       "2   4318.135                 2014.0  \n",
       "3   4100.315                 2014.0  \n",
       "4  14414.302                 2011.0  "
      ]
     },
     "execution_count": 52,
     "metadata": {},
     "output_type": "execute_result"
    }
   ],
   "source": [
    "df.head()"
   ]
  },
  {
   "cell_type": "markdown",
   "id": "95bcde0c-b1fc-4ca7-8da3-4b9468de12e6",
   "metadata": {},
   "source": [
    "Similarly we can retrieve the last rows by implementing the `tail()` method:"
   ]
  },
  {
   "cell_type": "code",
   "execution_count": 53,
   "id": "0c4f03a3-57d0-4b0e-9ded-784910d1615a",
   "metadata": {},
   "outputs": [
    {
     "data": {
      "text/html": [
       "<div>\n",
       "<style scoped>\n",
       "    .dataframe tbody tr th:only-of-type {\n",
       "        vertical-align: middle;\n",
       "    }\n",
       "\n",
       "    .dataframe tbody tr th {\n",
       "        vertical-align: top;\n",
       "    }\n",
       "\n",
       "    .dataframe thead th {\n",
       "        text-align: right;\n",
       "    }\n",
       "</style>\n",
       "<table border=\"1\" class=\"dataframe\">\n",
       "  <thead>\n",
       "    <tr style=\"text-align: right;\">\n",
       "      <th></th>\n",
       "      <th>Country</th>\n",
       "      <th>Subject Descriptor</th>\n",
       "      <th>Units</th>\n",
       "      <th>Scale</th>\n",
       "      <th>Country/Series-specific Notes</th>\n",
       "      <th>2015</th>\n",
       "      <th>Estimates Start After</th>\n",
       "    </tr>\n",
       "  </thead>\n",
       "  <tbody>\n",
       "    <tr>\n",
       "      <th>185</th>\n",
       "      <td>Vietnam</td>\n",
       "      <td>Gross domestic product per capita current prices</td>\n",
       "      <td>U.S. dollars</td>\n",
       "      <td>Units</td>\n",
       "      <td>See notes for:  Gross domestic product current...</td>\n",
       "      <td>2088.344</td>\n",
       "      <td>2012.0</td>\n",
       "    </tr>\n",
       "    <tr>\n",
       "      <th>186</th>\n",
       "      <td>Yemen</td>\n",
       "      <td>Gross domestic product per capita current prices</td>\n",
       "      <td>U.S. dollars</td>\n",
       "      <td>Units</td>\n",
       "      <td>See notes for:  Gross domestic product current...</td>\n",
       "      <td>1302.940</td>\n",
       "      <td>2008.0</td>\n",
       "    </tr>\n",
       "    <tr>\n",
       "      <th>187</th>\n",
       "      <td>Zambia</td>\n",
       "      <td>Gross domestic product per capita current prices</td>\n",
       "      <td>U.S. dollars</td>\n",
       "      <td>Units</td>\n",
       "      <td>See notes for:  Gross domestic product current...</td>\n",
       "      <td>1350.151</td>\n",
       "      <td>2010.0</td>\n",
       "    </tr>\n",
       "    <tr>\n",
       "      <th>188</th>\n",
       "      <td>Zimbabwe</td>\n",
       "      <td>Gross domestic product per capita current prices</td>\n",
       "      <td>U.S. dollars</td>\n",
       "      <td>Units</td>\n",
       "      <td>See notes for:  Gross domestic product current...</td>\n",
       "      <td>1064.350</td>\n",
       "      <td>2012.0</td>\n",
       "    </tr>\n",
       "    <tr>\n",
       "      <th>189</th>\n",
       "      <td>International Monetary Fund World Economic Out...</td>\n",
       "      <td>NaN</td>\n",
       "      <td>NaN</td>\n",
       "      <td>NaN</td>\n",
       "      <td>NaN</td>\n",
       "      <td>NaN</td>\n",
       "      <td>NaN</td>\n",
       "    </tr>\n",
       "  </tbody>\n",
       "</table>\n",
       "</div>"
      ],
      "text/plain": [
       "                                               Country  \\\n",
       "185                                            Vietnam   \n",
       "186                                              Yemen   \n",
       "187                                             Zambia   \n",
       "188                                           Zimbabwe   \n",
       "189  International Monetary Fund World Economic Out...   \n",
       "\n",
       "                                   Subject Descriptor         Units  Scale  \\\n",
       "185  Gross domestic product per capita current prices  U.S. dollars  Units   \n",
       "186  Gross domestic product per capita current prices  U.S. dollars  Units   \n",
       "187  Gross domestic product per capita current prices  U.S. dollars  Units   \n",
       "188  Gross domestic product per capita current prices  U.S. dollars  Units   \n",
       "189                                               NaN           NaN    NaN   \n",
       "\n",
       "                         Country/Series-specific Notes      2015  \\\n",
       "185  See notes for:  Gross domestic product current...  2088.344   \n",
       "186  See notes for:  Gross domestic product current...  1302.940   \n",
       "187  See notes for:  Gross domestic product current...  1350.151   \n",
       "188  See notes for:  Gross domestic product current...  1064.350   \n",
       "189                                                NaN       NaN   \n",
       "\n",
       "     Estimates Start After  \n",
       "185                 2012.0  \n",
       "186                 2008.0  \n",
       "187                 2010.0  \n",
       "188                 2012.0  \n",
       "189                    NaN  "
      ]
     },
     "execution_count": 53,
     "metadata": {},
     "output_type": "execute_result"
    }
   ],
   "source": [
    "df.tail()"
   ]
  },
  {
   "cell_type": "markdown",
   "id": "adf4f4a7-f9e0-4c84-b0af-ee089af95077",
   "metadata": {},
   "source": [
    "<h2> References </h2>\n",
    "\n",
    "- https://docs.python.org/3/library/math.html\n",
    "- https://docs.python.org/3/library/random.html\n",
    "- https://numpy.org/\n",
    "- https://pandas.pydata.org/"
   ]
  },
  {
   "cell_type": "code",
   "execution_count": null,
   "id": "a811262f-0ae1-4c55-899b-e427c33859f2",
   "metadata": {},
   "outputs": [],
   "source": []
  }
 ],
 "metadata": {
  "kernelspec": {
   "display_name": "Python 3 (ipykernel)",
   "language": "python",
   "name": "python3"
  },
  "language_info": {
   "codemirror_mode": {
    "name": "ipython",
    "version": 3
   },
   "file_extension": ".py",
   "mimetype": "text/x-python",
   "name": "python",
   "nbconvert_exporter": "python",
   "pygments_lexer": "ipython3",
   "version": "3.11.0"
  }
 },
 "nbformat": 4,
 "nbformat_minor": 5
}
