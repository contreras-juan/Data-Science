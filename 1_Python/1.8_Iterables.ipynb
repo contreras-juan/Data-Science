{
 "cells": [
  {
   "cell_type": "markdown",
   "id": "2e5e6a65-4ecd-43b8-a5b2-37dd66b45cd4",
   "metadata": {},
   "source": [
    "<h1 align='center'> Iterables </h1>"
   ]
  },
  {
   "cell_type": "markdown",
   "id": "adc9f319-26b1-43e1-86ad-6db52d091f5e",
   "metadata": {},
   "source": [
    "As we saw in the Control flow notebook, there are certain objects that have the property of being iterables, this is, we can `for` loop over them. In this notebookk we will see how to define a class with this property."
   ]
  },
  {
   "cell_type": "code",
   "execution_count": 2,
   "id": "1ca4f1f2-165c-4e51-8a12-7c5ae54cd2ca",
   "metadata": {},
   "outputs": [],
   "source": [
    "class Evens(object):\n",
    "    def __init__(self, limit):\n",
    "        self.limit = limit\n",
    "        self.val = 0\n",
    "    \n",
    "    # method to make the class iterable\n",
    "    def __iter__(self):\n",
    "        return self\n",
    "    \n",
    "    # makes the class an iterator\n",
    "    def __next__(self):\n",
    "        if self.val > self.limit:\n",
    "            raise StopIteration\n",
    "        else:\n",
    "            return_val = self.val\n",
    "            self.val += 2\n",
    "            return return_val"
   ]
  },
  {
   "cell_type": "markdown",
   "id": "2f71e2f2-7f9f-4061-9618-00d1b29f61f4",
   "metadata": {},
   "source": [
    "Before showing how this class works in practice, it is important to highligh some important remarks\n",
    "\n",
    "- The method  `__iter__()` just returns self; this is a common pattern and assumes that the classs will also use the iterator protocol.\n",
    "- The method `__next__()` returns the following value in the sequence or raise and exception with StopIteration to indicate that there are no more available elements to return."
   ]
  },
  {
   "cell_type": "code",
   "execution_count": 5,
   "id": "4bec32f6-9a73-4c51-b853-f9786636fe45",
   "metadata": {},
   "outputs": [
    {
     "name": "stdout",
     "output_type": "stream",
     "text": [
      "0, 2, 4, 6, 8, 10, 12, 14, 16, "
     ]
    }
   ],
   "source": [
    "for i in Evens(16):\n",
    "    print(i,end=', ')"
   ]
  },
  {
   "cell_type": "markdown",
   "id": "3ae37a8c-0423-49aa-9063-7e048049dbeb",
   "metadata": {},
   "source": [
    "<h2> References </h2>"
   ]
  },
  {
   "cell_type": "markdown",
   "id": "2745a829-79de-4205-ac94-ac6e047aa8dd",
   "metadata": {},
   "source": [
    "- https://github.com/AprendizajeProfundo/diplomado-ciencia-de-datos/blob/main/Programaci%C3%B3n-Python/Cuadernos/py_0060_Iterables_Iteradores.ipynb"
   ]
  },
  {
   "cell_type": "code",
   "execution_count": null,
   "id": "7768fe6f-a850-47fb-bec8-19423d61f7ce",
   "metadata": {},
   "outputs": [],
   "source": []
  }
 ],
 "metadata": {
  "kernelspec": {
   "display_name": "Python 3 (ipykernel)",
   "language": "python",
   "name": "python3"
  },
  "language_info": {
   "codemirror_mode": {
    "name": "ipython",
    "version": 3
   },
   "file_extension": ".py",
   "mimetype": "text/x-python",
   "name": "python",
   "nbconvert_exporter": "python",
   "pygments_lexer": "ipython3",
   "version": "3.11.0"
  }
 },
 "nbformat": 4,
 "nbformat_minor": 5
}
