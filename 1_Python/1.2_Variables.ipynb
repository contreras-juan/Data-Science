{
 "cells": [
  {
   "cell_type": "markdown",
   "id": "a1b3fb90-516c-4f9c-9371-2108a77587bb",
   "metadata": {
    "tags": []
   },
   "source": [
    "<h1 align=\"center\"> Variables in Python </h1>"
   ]
  },
  {
   "cell_type": "markdown",
   "id": "aed6a7d6-7128-43eb-a7e9-3318230e9f9f",
   "metadata": {},
   "source": [
    "A Python variable is simply a memory allocation in the computer in which there is a storage of a type of data and a specific name. Variables are important because we can tag a certain object with a name to be used later on in a procedure, such an objects can be texts, numbers or any other type of data that we will be studying later on. Variables are assigned in Python with the sign `=`, here is an example:"
   ]
  },
  {
   "cell_type": "code",
   "execution_count": 1,
   "id": "a5b125f8-883b-4d77-a20d-a5c62a2cd155",
   "metadata": {},
   "outputs": [
    {
     "name": "stdout",
     "output_type": "stream",
     "text": [
      "The value of the variable a is 5\n",
      "The value of the variable b is Python is the best!\n",
      "Tue value of the variable b is But is also fine to learn other programming language\n"
     ]
    }
   ],
   "source": [
    "a = 5\n",
    "\n",
    "print('The value of the variable a is', a)\n",
    "\n",
    "b = 'Python is the best!'\n",
    "\n",
    "print('The value of the variable b is', b)\n",
    "\n",
    "b = 'But is also fine to learn other programming language'\n",
    "\n",
    "print('Tue value of the variable b is', b)"
   ]
  },
  {
   "cell_type": "markdown",
   "id": "8ddbce5f-c0ae-44c9-b6a6-c2c104b88eda",
   "metadata": {},
   "source": [
    "As we can see, we can specify that the variable is a text by simply adding quotation marks when defining it, and by the way, single quotation marks and double quotation marks are indistinct in Python so `'Python is the best'` and `\"Python is the best\"` represents exactly the same value in Python. Also, as you can see in the previous example, a variable can be overwritten by assigning a new value to it (see that we overwrote the variable `b`."
   ]
  },
  {
   "cell_type": "markdown",
   "id": "2d1a3bdb-f7b0-426c-b847-2ccd21bdd3eb",
   "metadata": {},
   "source": [
    "After assigning a value, one can also use that variable to assigning to itself and dynamicly modify it as shown in the following piece of code (recall that that the variable `a` is initially `5`):"
   ]
  },
  {
   "cell_type": "code",
   "execution_count": 2,
   "id": "da9dc7bd-035b-481e-a9f4-8ee78049cb14",
   "metadata": {},
   "outputs": [
    {
     "name": "stdout",
     "output_type": "stream",
     "text": [
      "The value of a is now 6\n",
      "The value of a is now 7\n",
      "The value of a is now 8\n",
      "The value of a is now 9\n"
     ]
    }
   ],
   "source": [
    "a = a + 1\n",
    "\n",
    "print('The value of a is now', a)\n",
    "a = a + 1\n",
    "\n",
    "print('The value of a is now', a)\n",
    "\n",
    "a = a + 1\n",
    "\n",
    "print('The value of a is now', a)\n",
    "\n",
    "a = a + 1\n",
    "\n",
    "print('The value of a is now', a)"
   ]
  },
  {
   "cell_type": "markdown",
   "id": "75736d66-a1ea-485b-978a-74e44c08d144",
   "metadata": {},
   "source": [
    "<h2> Variable types </h2>"
   ]
  },
  {
   "cell_type": "markdown",
   "id": "6183cc5d-dcf4-447a-b7a9-37fcbed272db",
   "metadata": {},
   "source": [
    "We have seen early how to assign a variable and to specify it's type, for a numeric type and a text type (we will also refer to this latter type as `string`). Also, we have used already the `print()` function, which allows us to print values and messages on the screen, although we will deepen on this concept later on, it is fine to be familiar with some basic functions at this moment. Another function I will introduce in this session is the `type()` function that gives us the variable type, as shown next:"
   ]
  },
  {
   "cell_type": "code",
   "execution_count": 3,
   "id": "be884ae6-81cc-4a6f-ad9f-f1f5ac023c2e",
   "metadata": {},
   "outputs": [
    {
     "name": "stdout",
     "output_type": "stream",
     "text": [
      "<class 'int'>\n",
      "<class 'str'>\n"
     ]
    }
   ],
   "source": [
    "print(type(a))\n",
    "print(type(b))"
   ]
  },
  {
   "cell_type": "markdown",
   "id": "70a1ac0b-e68b-477f-b8be-a79d64a714d3",
   "metadata": {},
   "source": [
    "Where `int` stands for integer and `str` stands for string."
   ]
  },
  {
   "cell_type": "markdown",
   "id": "05b774ce-6873-43e1-b025-f3dc19a17e05",
   "metadata": {},
   "source": [
    "Let's introduce three new variable types here:"
   ]
  },
  {
   "cell_type": "code",
   "execution_count": 4,
   "id": "e6714977-a523-452d-857d-9eda142df378",
   "metadata": {},
   "outputs": [
    {
     "name": "stdout",
     "output_type": "stream",
     "text": [
      "The variable type of c is  <class 'float'>\n",
      "The variable type of d is  <class 'complex'>\n",
      "The variable type of e is  <class 'bool'>\n",
      "The variable type of f is  <class 'bool'>\n"
     ]
    }
   ],
   "source": [
    "c = 5.0\n",
    "d = 5 + 2j\n",
    "e = True\n",
    "f = False\n",
    "\n",
    "print('The variable type of c is ', type(c))\n",
    "print('The variable type of d is ', type(d))\n",
    "print('The variable type of e is ', type(e))\n",
    "print('The variable type of f is ', type(f))"
   ]
  },
  {
   "cell_type": "markdown",
   "id": "6974c4e0-e378-4271-aaef-d23d13472c27",
   "metadata": {},
   "source": [
    "As we can see, by adding a dot in the assignment of a number we change it's type to `float`, which is a numeric type for a decimal number. Also, by adding a `j` as in variable `d` we turn it into a complex number. The `True` and `False` represent boolean values, which are extensively used in programming, these are values that are returned when a given condition is holds, this is, if an statement is true or false.\n",
    "\n",
    "This is a simple example on how we get this boolean values:"
   ]
  },
  {
   "cell_type": "code",
   "execution_count": 5,
   "id": "da3dec83-e71e-4517-9a50-e2bd9cc2bedb",
   "metadata": {},
   "outputs": [
    {
     "name": "stdout",
     "output_type": "stream",
     "text": [
      "False\n",
      "True\n",
      "True\n"
     ]
    }
   ],
   "source": [
    "print(2 > 3)\n",
    "print(1 < 2)\n",
    "print(1 == 1)"
   ]
  },
  {
   "cell_type": "markdown",
   "id": "5d10ed0b-534e-4dcc-92d5-9b8b615f79c2",
   "metadata": {},
   "source": [
    "Here we also see that by assigning a double `=` we are actually comparing two values, conversely to what happen by using a single equal sign, in which case we are actually assigning a variable."
   ]
  },
  {
   "cell_type": "markdown",
   "id": "19148efd-6762-4ecb-b8f9-b929acaae272",
   "metadata": {},
   "source": [
    "<h2> F-strings, R-strings and U-Strings </h2>"
   ]
  },
  {
   "cell_type": "markdown",
   "id": "2956e755-9441-4f58-be08-9d3bef8e4cc4",
   "metadata": {},
   "source": [
    "We have already explored how to assigned a string to a variable, now let's explore different kinds of strings we can define. Formatted strings, or F-strings, are used mostly when we need to use a variable in the middle of the string as shown in the following example: "
   ]
  },
  {
   "cell_type": "code",
   "execution_count": 6,
   "id": "a44c854a-3da2-47db-92c9-e11a58336a09",
   "metadata": {},
   "outputs": [
    {
     "name": "stdout",
     "output_type": "stream",
     "text": [
      "The value of the first number is 2 and the value of the second number is 5\n"
     ]
    }
   ],
   "source": [
    "number1 = 2\n",
    "number2 = 5\n",
    "\n",
    "f_string = f\"The value of the first number is {number1} and the value of the second number is {number2}\"\n",
    "print(f_string)"
   ]
  },
  {
   "cell_type": "markdown",
   "id": "04a41eb0-7856-4bdb-b03d-a78c17ae8f80",
   "metadata": {},
   "source": [
    "When defining a string, there are certain special characters that have an special meaning when defining a string. For instance, if whe add `\\n` in a string we are breaking the text into two lines:"
   ]
  },
  {
   "cell_type": "code",
   "execution_count": 7,
   "id": "828203a8-a924-44ff-9260-ad7fe739eb6b",
   "metadata": {},
   "outputs": [
    {
     "name": "stdout",
     "output_type": "stream",
     "text": [
      "The value of the first number is 2 \n",
      "and the value of the second number is 5\n"
     ]
    }
   ],
   "source": [
    "f_string2 = f\"The value of the first number is {number1} \\nand the value of the second number is {number2}\"\n",
    "print(f_string2)"
   ]
  },
  {
   "cell_type": "markdown",
   "id": "5e0498d3-adaf-4a20-8de8-4d9907b42662",
   "metadata": {},
   "source": [
    "In general, the `\\` character means that whe are appling some sort of operation in the middle of the string (like splitting the text in two lines as before). In fact, the `\\` is also called an \"scape character\" because when typed before any other character it will scape the character and ommit it:"
   ]
  },
  {
   "cell_type": "code",
   "execution_count": 8,
   "id": "8cf9b645-5654-4719-8fcc-7b77faa14a26",
   "metadata": {},
   "outputs": [
    {
     "name": "stdout",
     "output_type": "stream",
     "text": [
      "The value of the first number is 2 \u0007nd the value of the second number is 5\n"
     ]
    }
   ],
   "source": [
    "f_string3 = f\"The value of the first number is {number1} \\and the value of the second number is {number2}\"\n",
    "print(f_string3)"
   ]
  },
  {
   "cell_type": "markdown",
   "id": "6455f54e-4e31-4403-bc03-f1872ab23eb2",
   "metadata": {},
   "source": [
    "See that by eliminating the \"n\" after the scape character, the \"a\" no longer appears in the sentence. However, there are many cases where we would actually want the `\\` to be part of the string we are defining. In some cases we would like to point some algorithm to a specific directory path from our computer (e.g. importing a piece of data), and re call that a folder directory is of the form `C:\\my\\directory\\path`, in such a caes the `\\` have a meaning as part of the string. So, how do we use `\\` as a part of the string?\n",
    "\n",
    "To do this we can use raw strings, ro R-strings, as follows:"
   ]
  },
  {
   "cell_type": "code",
   "execution_count": 9,
   "id": "382d2891-430a-418a-9047-6aa1c26800e3",
   "metadata": {},
   "outputs": [
    {
     "name": "stdout",
     "output_type": "stream",
     "text": [
      "C:\\my\\directory\\path\n"
     ]
    }
   ],
   "source": [
    "my_folder = r'C:\\my\\directory\\path'\n",
    "print(my_folder)"
   ]
  },
  {
   "cell_type": "markdown",
   "id": "7f9b5ebb-e78a-40b2-8eb5-6cfee0e8e0ea",
   "metadata": {},
   "source": [
    "<h2> Rules for naming variables</h2>"
   ]
  },
  {
   "cell_type": "markdown",
   "id": "25bea3f4-f2ec-46f2-a725-d033ede649f8",
   "metadata": {},
   "source": [
    "so far, we have used letters of the alphabet to name our variables, but this need not be the case, however, there are certain rules that most be follow to name a variable in Python:\n",
    "\n",
    "- The name most start with a letter or with _ (this means that the first character of the name most not be a number)\n",
    "- The name of a variabel could only contain alphanumeric characters\n",
    "- Variable names are case sensitive (`X` is different than `x`)"
   ]
  }
 ],
 "metadata": {
  "kernelspec": {
   "display_name": "Python 3 (ipykernel)",
   "language": "python",
   "name": "python3"
  },
  "language_info": {
   "codemirror_mode": {
    "name": "ipython",
    "version": 3
   },
   "file_extension": ".py",
   "mimetype": "text/x-python",
   "name": "python",
   "nbconvert_exporter": "python",
   "pygments_lexer": "ipython3",
   "version": "3.11.0"
  }
 },
 "nbformat": 4,
 "nbformat_minor": 5
}
