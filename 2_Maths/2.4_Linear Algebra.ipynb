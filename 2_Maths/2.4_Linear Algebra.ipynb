{
 "cells": [
  {
   "cell_type": "markdown",
   "id": "9ccc53ec-30f1-4e38-9a95-365aee20702c",
   "metadata": {},
   "source": [
    "<h1 align = 'center'> Linear Algebra </h1>"
   ]
  },
  {
   "cell_type": "markdown",
   "id": "2b20138e-3e74-46be-b2bf-dd39c0076386",
   "metadata": {},
   "source": [
    "<h1> Introduction </h1>"
   ]
  },
  {
   "cell_type": "markdown",
   "id": "75428d76-3bd1-4e22-a937-f8906b6d04e3",
   "metadata": {},
   "source": [
    "In this notebook we will study one of the most crucial topics for data science which is linear algebra; here we will understand vectorial spaces, algebra among vectors, matrices and tensors, which is the basis to all the models that are used in data science."
   ]
  },
  {
   "cell_type": "markdown",
   "id": "2da12bca-f999-4dfc-b6ad-73aeb1c98b7b",
   "metadata": {},
   "source": [
    "<h2> Vectors and vector spaces </h2>"
   ]
  },
  {
   "cell_type": "markdown",
   "id": "e06ab445-a7b8-4703-9e9a-cac05ad53167",
   "metadata": {},
   "source": [
    "A vector in the vector space $R^{n}$ is a tuple of $n$ real numbers; for instance, let's define $\\mathbf{x} = (x_{1}, x_{2}, ..., x_{n})$ and $\\mathbf{y} = (y_{1}, y_{2}, ... , y_{n})$. And now, we can define the following vector operations:\n",
    "\n",
    "- $\\mathbf{x} + \\mathbf{y} = (x_{1} + y_{1}, x_{2} + y_{2}, ..., x_{n} + y_{n})$ (sum of vectors)\n",
    "- $\\mathbf{x} - \\mathbf{y} = (x_{1} - y_{1}, x_{2} - y_{2}, ..., x_{n} - y_{n})$ (substraction of vectors)\n",
    "- $\\mathbf{x} \\cdot \\mathbf{y} = x_{1}y_{1} + x_{2}y_{2} + ... + x_{n}y_{n}$ (scalar product)\n",
    "\n",
    "Now see how to implement such operations in python using `numpy`."
   ]
  },
  {
   "cell_type": "code",
   "execution_count": 2,
   "id": "e7d29ca5-908e-4a06-a5ba-6d33ac622395",
   "metadata": {},
   "outputs": [],
   "source": [
    "import numpy as np"
   ]
  },
  {
   "cell_type": "markdown",
   "id": "da866794-b02e-478e-9a90-0c6f4b86b96f",
   "metadata": {},
   "source": [
    "Let $\\mathbf{x}=(3,5,7,9)$ and $\\mathbf{y} = (5,2,7,6)$ be two vectors in $R^{4}$:"
   ]
  },
  {
   "cell_type": "code",
   "execution_count": 3,
   "id": "82b5adc8-6343-4ca8-99cf-00034c136379",
   "metadata": {},
   "outputs": [
    {
     "name": "stdout",
     "output_type": "stream",
     "text": [
      "Vector x is [3 5 7 9]\n",
      "Vector y is [5 2 7 6]\n"
     ]
    }
   ],
   "source": [
    "x = np.array([3,5,7,9])\n",
    "y = np.array([5,2,7,6])\n",
    "\n",
    "print('Vector x is', x)\n",
    "print('Vector y is', y)"
   ]
  },
  {
   "cell_type": "markdown",
   "id": "193474fd-5884-4e74-b38f-5454630fc8f8",
   "metadata": {},
   "source": [
    "And the vector operations defined before would be implemented like:"
   ]
  },
  {
   "cell_type": "code",
   "execution_count": 4,
   "id": "14e07e7a-0088-4b83-8178-6a55c6c078a6",
   "metadata": {},
   "outputs": [
    {
     "name": "stdout",
     "output_type": "stream",
     "text": [
      "x + y is [ 8  7 14 15]\n",
      "x - y is [-2  3  0  3]\n",
      "The scalar product between x and y is 128\n"
     ]
    }
   ],
   "source": [
    "print('x + y is', x+y)\n",
    "print('x - y is', x-y)\n",
    "print('The scalar product between x and y is', np.dot(x,y))"
   ]
  },
  {
   "cell_type": "markdown",
   "id": "425e087c-3541-43f7-8b67-13f6ef2e288f",
   "metadata": {},
   "source": [
    "<h3> Linear combinations </h3>"
   ]
  },
  {
   "cell_type": "markdown",
   "id": "c4f59a32-c620-40f4-ad17-eca2a187aadd",
   "metadata": {},
   "source": [
    "If we have $m$ vectors of the same dimensions and and $m$ scalars, we define a linear combination as\n",
    "\n",
    "$$\\sum_{i}^{m} c_{i}\\mathbf{x}_{i}$$\n",
    "\n",
    "when at least one $c_{i} \\neq 0$. Similarly, we can identify if a set of $m$ vectors are linerly dependent if one of them is can be expressed as a linear combination of the remaining $m-1$ vectors.\n",
    "\n",
    "Conversely if we have $m$ vector when none of them is a linear combination of the remaining $m-1$, we say that those vectors are linear independent."
   ]
  },
  {
   "cell_type": "markdown",
   "id": "5635141d-922f-403e-8593-6aa3dc5e1b94",
   "metadata": {},
   "source": [
    "<h4> Examples </h4>\n",
    "\n",
    "Let's define the following six vectors in $R^{6}$ and create some linear combination from them:"
   ]
  },
  {
   "cell_type": "code",
   "execution_count": 5,
   "id": "c139d94f-bad8-47b8-bf1f-cc96324ce140",
   "metadata": {},
   "outputs": [],
   "source": [
    "# Define vectors\n",
    "x1 = np.array([4,6,2,7,8,1])\n",
    "x2 = np.array([10,3,5,7,2,2])\n",
    "x3 = np.array([3,5,7,11,2,4])\n",
    "x4 = np.array([2,1,4,3,5,7])\n",
    "x5 = np.array([5,7,9,6,2,3])\n",
    "x6 = np.array([1,3,5,7,2,4])"
   ]
  },
  {
   "cell_type": "code",
   "execution_count": 8,
   "id": "043d689a-2a0a-48a3-9848-0a7b473be39a",
   "metadata": {},
   "outputs": [
    {
     "name": "stdout",
     "output_type": "stream",
     "text": [
      "A linear combination of the six vectors is [130 130 168 230  90  98]\n"
     ]
    }
   ],
   "source": [
    "c = [4,6,8,2,4,6] # scalars\n",
    "vectors = [x1, x2, x3, x4, x5, x6] # list of vectors\n",
    "\n",
    "lin_comb = np.array([0, 0, 0, 0, 0, 0]) # neutral vector\n",
    "\n",
    "# loop to create the linear combination\n",
    "for i in range(6):\n",
    "    lin_comb = c[i]*vectors[i] + lin_comb\n",
    "\n",
    "print('A linear combination of the six vectors is', lin_comb)"
   ]
  },
  {
   "cell_type": "markdown",
   "id": "b7ae9707-66dd-4a9e-9536-f23f9257fc85",
   "metadata": {},
   "source": [
    "By definition, if we add `lin_comb` to our six last vectors we get a linear dependent set of vectos. However, the original six vectors are linear independents, we can see this by checking that I have added prime numbers, odd numbers and even numbers in all the six vectors."
   ]
  },
  {
   "cell_type": "markdown",
   "id": "7580939f-e571-45b9-a7fa-8dda62a98580",
   "metadata": {},
   "source": [
    "<h2> Matrices </h2>"
   ]
  },
  {
   "cell_type": "markdown",
   "id": "3282040a-8cee-44a6-8bbe-c6fde0f7e302",
   "metadata": {},
   "source": [
    "A matrix is rectangular array of elements organized in rows and columns in a table-like. For example, let A be a 2x3 matrix (this is a 2 row and 3 column matrix) like:\n",
    "\n",
    "$$A = \\begin{bmatrix}\n",
    "2 & 5 & 4\\\\ \n",
    "3 & 1 & 6\n",
    "\\end{bmatrix}$$\n",
    "\n",
    "note that this can be interpreted as a collection of two row vectors, or three column vectors. And we define the traspose of matrix $A$, $A^{T}=A^{'}$ as interchanging rows for columns as follow:\n",
    "\n",
    "$$A^{T} = \\begin{bmatrix}\n",
    "2 & 3\\\\ \n",
    "5 & 1\\\\ \n",
    "4 & 6\n",
    "\\end{bmatrix}$$\n",
    "\n",
    "Also we can define some matrix operations, the same way we did with vectors, although note that a vector in $R^{n}$ is technically a $1xn$ matrix.\n",
    "\n",
    "<h3> Matrix summation </h3>\n",
    "\n",
    "The summation of two matrices $\\mathbf{A}$ and $\\mathbf{B}$ are only defined if $A$ and $B$ have the same dimmensions; and the summation algorithm is an element-wise operation like this:\n",
    "\n",
    "$$\\begin{bmatrix}\n",
    "4 &7 \\\\ \n",
    "2 & 5\\\\ \n",
    "3 & 1\n",
    "\\end{bmatrix} + \\begin{bmatrix}\n",
    "1 &3 \\\\ \n",
    "24 & 6\\\\ \n",
    "2 & 5\n",
    "\\end{bmatrix} = \\begin{bmatrix}\n",
    "4 + 1 &7 + 3\\\\ \n",
    "2 + 24 & 5 + 6\\\\ \n",
    "3 + 2 & 1 + 5\n",
    "\\end{bmatrix} = \\begin{bmatrix}\n",
    "5 &310 \\\\ \n",
    "26 & 11\\\\ \n",
    "5 & 6\n",
    "\\end{bmatrix}$$\n",
    "\n",
    "<h3> Matrix multiplication </h3>\n",
    "\n",
    "Unlike matrix summation, matrix multiplication is not an element-wise operation. If $\\mathbf{A}$ is an $nxm$ matrix and $\\mathbf{B}$ an $pxq$ matrix, the product $\\mathbf{AB}$ is defined iff $n=q$ and the resulting matrix has dimensions $mxp$. Let $a_{ij}$ be the element of matrix $A$ that is located in row $i$ and column $j$, then if $C = AB$, element $c_{ij}$ of matrix $C$ is given by the scalar product of row vector $i$ in matrix $A$ and column vector $j$ in matrix $\\mathbf{B}$. Let's see an example:\n",
    "\n",
    "$$A = \\begin{bmatrix}\n",
    "1 &3 \\\\ \n",
    "3 & 6\\\\ \n",
    "2 & 5\n",
    "\\end{bmatrix}$$\n",
    "\n",
    "$$B = \\begin{bmatrix}\n",
    "2 &1 & 3\\\\\n",
    "1 & 2 & 4\n",
    "\\end{bmatrix}$$\n",
    "\n",
    "$$C=AB= \\begin{bmatrix}\n",
    "1 &3 \\\\ \n",
    "3 & 6\\\\ \n",
    "2 & 5\n",
    "\\end{bmatrix} \\begin{bmatrix}\n",
    "2 &1 & 3\\\\\n",
    "1 & 2 & 4\n",
    "\\end{bmatrix} = \\begin{bmatrix}\n",
    "(1)(2) + (3)(1) & (1)(1) + (3)(2) & (1)(3) + (3)(4) \\\\\n",
    "(3)(2) + (6)(1) & (3)(1) + (6)(2) & (3)(3) + (6)(4) \\\\\n",
    "(2)(2) + (5)(1) & (2)(1) + (5)(2) & (2)(3) + (5)(4)\n",
    "\\end{bmatrix} = \\begin{bmatrix}\n",
    "5 & 7 & 15 \\\\\n",
    "12 & 15 & 33 \\\\\n",
    "9 & 12 & 26\n",
    "\\end{bmatrix}$$\n",
    "\n",
    "Let's see how to apply this in `numpy`. To create a matrix we will need to define an array and stack the row vectors using lists like this:"
   ]
  },
  {
   "cell_type": "code",
   "execution_count": 15,
   "id": "7fafbba2-0f26-4a78-a428-127bce222d63",
   "metadata": {},
   "outputs": [],
   "source": [
    "A = np.array([[1, 3], [3, 6], [2, 5]])\n",
    "B = np.array([[2,1,3], [1,2,4]])"
   ]
  },
  {
   "cell_type": "markdown",
   "id": "0c406d1e-8afe-4349-a232-980989396fb8",
   "metadata": {},
   "source": [
    "The result of doing this is:"
   ]
  },
  {
   "cell_type": "code",
   "execution_count": 17,
   "id": "4a695a5c-b811-48ce-a64f-2a8fbf48ea98",
   "metadata": {},
   "outputs": [
    {
     "name": "stdout",
     "output_type": "stream",
     "text": [
      "[[1 3]\n",
      " [3 6]\n",
      " [2 5]]\n",
      "\n",
      "[[2 1 3]\n",
      " [1 2 4]]\n"
     ]
    }
   ],
   "source": [
    "print(A)\n",
    "print('')\n",
    "print(B)"
   ]
  },
  {
   "cell_type": "markdown",
   "id": "8d3aef23-2202-4482-a6c7-c74c3e3b7be2",
   "metadata": {},
   "source": [
    "To perform a matrix multiplication in `numpy` we need to use the `matmul()` function:"
   ]
  },
  {
   "cell_type": "code",
   "execution_count": 18,
   "id": "2595afc1-e367-4806-89f3-5b74268deed6",
   "metadata": {},
   "outputs": [
    {
     "data": {
      "text/plain": [
       "array([[ 5,  7, 15],\n",
       "       [12, 15, 33],\n",
       "       [ 9, 12, 26]])"
      ]
     },
     "execution_count": 18,
     "metadata": {},
     "output_type": "execute_result"
    }
   ],
   "source": [
    "np.matmul(A, B)"
   ]
  },
  {
   "cell_type": "markdown",
   "id": "5ca00027-1a04-41a6-9b7c-12cc72030c11",
   "metadata": {},
   "source": [
    "and we got the same result than when we perform the multiplication manually."
   ]
  },
  {
   "cell_type": "markdown",
   "id": "684247c6-9cdc-482d-ace3-2bbaf73a0813",
   "metadata": {},
   "source": [
    "<h2> Tensors </h2>"
   ]
  },
  {
   "cell_type": "markdown",
   "id": "54f5716d-797e-48d6-8419-897cf2942ab7",
   "metadata": {},
   "source": [
    "Note that a vector is an array of scalars, a matrix is an array of vectors, following this pattern we could also stack some matrices in an array, increasing the dimension of the array by 1, and we could repeat this as much as we want; we call such an arrays tensors. \n",
    "\n",
    "The following image resumes this:\n",
    "\n",
    "<img src='img/Tensors.png'>\n",
    "\n",
    "source: https://github.com/AprendizajeProfundo/Diplomado-Avanzado/blob/main/Matem%C3%A1ticas%20y%20Estad%C3%ADstica%20de%20la%20IA/Cuadernos/Intro_Tensores_II.ipynb"
   ]
  },
  {
   "cell_type": "markdown",
   "id": "d4b4c442-10dd-4fc8-bd7c-82d49313856b",
   "metadata": {},
   "source": [
    "Following this logic, we asign the order of a tensor depending of the amount of indices required to specify the dimension of the tensor. For example, an scalar is an order 0 tensor, a vector is of order 1 and a matrix is of order 2. The final tensor in the image above is of order three, but we could generalize this concept adding more layers, although the more we add the more abstract this concept becomes."
   ]
  },
  {
   "cell_type": "markdown",
   "id": "64bbce9f-4bb8-4460-b1f3-2ae10c7959cf",
   "metadata": {},
   "source": [
    "Let's see some examples in `numpy`:"
   ]
  },
  {
   "cell_type": "code",
   "execution_count": 24,
   "id": "37d852b5-2600-451e-902e-c111c3bd0405",
   "metadata": {},
   "outputs": [],
   "source": [
    "tensor0 = np.array([5])\n",
    "tensor1 = np.array([1,3])\n",
    "tensor2 = np.array([[1,3], [4,5]])\n",
    "tensor3 = np.array([[[1,3, 4], [4,5, 1]], [[8,3, 5],[2,2, 1]]])"
   ]
  },
  {
   "cell_type": "code",
   "execution_count": 25,
   "id": "176a3b45-8c23-4c42-9954-d49f5e8c588f",
   "metadata": {},
   "outputs": [
    {
     "name": "stdout",
     "output_type": "stream",
     "text": [
      "The dimension of the 0 order tensor is (1,)\n",
      "The dimension of the 1 order tensor is (2,)\n",
      "The dimension of the 2 order tensor is (2, 2)\n",
      "The dimension of the 3 order tensor is (2, 2, 3)\n"
     ]
    }
   ],
   "source": [
    "tensors = [tensor0, tensor1, tensor2, tensor3]\n",
    "\n",
    "for i in range(4):\n",
    "    x = tensors[i]\n",
    "    \n",
    "    print('The dimension of the', i, 'order tensor is', x.shape)"
   ]
  },
  {
   "cell_type": "markdown",
   "id": "2f55ba1f-2aaa-40a4-a303-2dceeba81625",
   "metadata": {},
   "source": [
    "To understand why the 3 order tensor is $2x2x3$ we need to inspect what each index tells us. Basically we have stacked two $2x3$ matrices, so the first index gives us the number of matrices we have, the second is the number of rows each matrix has and the last one the number of columns of each matrix."
   ]
  },
  {
   "cell_type": "markdown",
   "id": "7163cb0b-3abb-4dda-858f-4b4fbeb48402",
   "metadata": {},
   "source": [
    "<h2> References </h2>\n",
    "\n",
    "- https://github.com/AprendizajeProfundo/Diplomado-Avanzado/blob/main/Matem%C3%A1ticas%20y%20Estad%C3%ADstica%20de%20la%20IA/Cuadernos/Intro_Tensores_II.ipynb"
   ]
  }
 ],
 "metadata": {
  "kernelspec": {
   "display_name": "Python 3 (ipykernel)",
   "language": "python",
   "name": "python3"
  },
  "language_info": {
   "codemirror_mode": {
    "name": "ipython",
    "version": 3
   },
   "file_extension": ".py",
   "mimetype": "text/x-python",
   "name": "python",
   "nbconvert_exporter": "python",
   "pygments_lexer": "ipython3",
   "version": "3.11.0"
  }
 },
 "nbformat": 4,
 "nbformat_minor": 5
}
