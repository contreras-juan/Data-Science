{
 "cells": [
  {
   "cell_type": "markdown",
   "id": "6e347d1c-b012-43ff-98c4-9ab4f5cb5339",
   "metadata": {},
   "source": [
    "<h1 align='center'> Integral calculus </h1>"
   ]
  },
  {
   "cell_type": "markdown",
   "id": "d42fb792-d080-4416-a9fb-7deca4596b6b",
   "metadata": {},
   "source": [
    "<h2> Introduction </h2>"
   ]
  },
  {
   "cell_type": "markdown",
   "id": "3c92eb9f-0846-4e04-9f79-5581093da6ee",
   "metadata": {},
   "source": [
    "In the previous notebook we saw a brief introduction to calculus by explaining differentiation, now we will examine its counterpart: integration. We can think about differentiation and integration as being the opposite operation to differentiation, the same way summation and substraction are opposites. Said this, we say that\n",
    "\n",
    "$$F(x) = \\int{f(x)}dx$$\n",
    "\n",
    "iff\n",
    "\n",
    "$$f(x) = \\frac{df(x)}{dx}$$\n",
    "\n",
    "where $\\int f(x)dx$ is the integral of $f(x)$."
   ]
  },
  {
   "cell_type": "markdown",
   "id": "04540a69-6256-404a-999f-a3e32d91f21a",
   "metadata": {},
   "source": [
    "<h2> Indefinite integrals </h2>"
   ]
  },
  {
   "cell_type": "markdown",
   "id": "66f570fe-5903-4b43-980a-35807ee330ea",
   "metadata": {},
   "source": [
    "To understand how the integral works, let's integrate the derivative we found in the Differential calculus notebook:\n",
    "\n",
    "$$F(x) = 3x^{2} + 2x + 1$$\n",
    "$$\\int F(x)dx = 3x^{2} + 2x + 1)dx = x^{3} + x^2 + x + K$$\n",
    "\n",
    "where $K$ is any number, which is called the \"integration constant\" which must always be included in an indefinite integral, in fact this is the reason it is called \"indefinite\" since there are an infinite number of functions which derivarive is $F(X)$ (one for each value of $K$). Note that when derivating $x^{3} + x^2 + x + K$ we get the same result regardless on the value of $K$."
   ]
  },
  {
   "cell_type": "markdown",
   "id": "3751a0f7-9345-41a8-909b-cfc83e1bee4a",
   "metadata": {},
   "source": [
    "<h3> Integration rules </h3>"
   ]
  },
  {
   "cell_type": "markdown",
   "id": "27201bee-8296-415a-8b27-21cecb9991c0",
   "metadata": {},
   "source": [
    "The same as with differentiation there are some rule when integrating:\n",
    "\n",
    "- $\\int adx = ax$\n",
    "- $\\int x^n dx = (n+1)x^{(n+1)}$\n",
    "- $\\int (f(x) + g(x))dx = \\int f(x)dx + \\int g(x)dx$\n",
    "\n",
    "Although there are some more integration operations, these are the more crucial to understand so far (as we will not be actually be integrating, we just need to understand the logic behind it)."
   ]
  },
  {
   "cell_type": "markdown",
   "id": "0098df39-f196-4a93-90d6-05c504e939bd",
   "metadata": {},
   "source": [
    "<h2> Definite integrals </h2>"
   ]
  },
  {
   "cell_type": "markdown",
   "id": "857e7429-d353-4ca9-9e4b-57a74cde94b5",
   "metadata": {},
   "source": [
    "To find an specific value of the integration for a given $K$ we now introduce the definite integral as:\n",
    "\n",
    "$$\\int_{a}^{b} F(X) = f(b) - f(a)$$\n",
    "\n",
    "where $f(x)= \\int F(x)$; note that here the integration constant does not play any role since it will cancel out in the substraction."
   ]
  },
  {
   "cell_type": "markdown",
   "id": "86f8bfaf-e0dd-4c0a-853f-463ffecc5323",
   "metadata": {},
   "source": [
    "<h2> Areas below curves </h2>"
   ]
  },
  {
   "cell_type": "markdown",
   "id": "7a6ba0f8-42ef-4bba-9295-44faef19ab69",
   "metadata": {},
   "source": [
    "There is a non-trivial result about integration which is that it can be used to compute the area below a curve as shown in the following figure:\n",
    "\n",
    "<img src='img/Area-Under-the-Curve1.png' width=\"1000\">"
   ]
  },
  {
   "cell_type": "markdown",
   "id": "18bc7731-e5c3-44dd-a37e-1c8fc4fad627",
   "metadata": {},
   "source": [
    "This is:\n",
    "\n",
    "$$A = \\int_{a}^{b} f(x)dx$$"
   ]
  },
  {
   "cell_type": "code",
   "execution_count": null,
   "id": "45c93beb-7fa6-4de5-8681-f04abf0ed5e5",
   "metadata": {},
   "outputs": [],
   "source": []
  }
 ],
 "metadata": {
  "kernelspec": {
   "display_name": "Python 3 (ipykernel)",
   "language": "python",
   "name": "python3"
  },
  "language_info": {
   "codemirror_mode": {
    "name": "ipython",
    "version": 3
   },
   "file_extension": ".py",
   "mimetype": "text/x-python",
   "name": "python",
   "nbconvert_exporter": "python",
   "pygments_lexer": "ipython3",
   "version": "3.11.0"
  }
 },
 "nbformat": 4,
 "nbformat_minor": 5
}
