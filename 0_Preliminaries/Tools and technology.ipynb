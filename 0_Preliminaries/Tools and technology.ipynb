{
 "cells": [
  {
   "cell_type": "markdown",
   "id": "fb17d42d-c4fe-4d84-8da3-7096be63cb4c",
   "metadata": {},
   "source": [
    "<h1 align=\"center\"> Tools and Technology in Data Science </h1>"
   ]
  },
  {
   "cell_type": "markdown",
   "id": "1680f9fb-2a91-4230-a77f-eff5c5a535ec",
   "metadata": {},
   "source": [
    "As mentioned in the What is Data Science notebook, one of the important skills a data scientists require is coding, so in this notebook I present the list of the most common tools and technologies used in data science, however the only tool require to follow this course is Python and Anaconda.\n",
    "\n",
    "<h2> Python </h2>\n",
    "\n",
    "<h2> Anaconda </h2>\n",
    "\n",
    "<h2> Jupyter </h2>\n",
    "\n",
    "<h2> R </h2>\n",
    "\n",
    "<h2> Git </h2>"
   ]
  }
 ],
 "metadata": {
  "kernelspec": {
   "display_name": "Python 3 (ipykernel)",
   "language": "python",
   "name": "python3"
  },
  "language_info": {
   "codemirror_mode": {
    "name": "ipython",
    "version": 3
   },
   "file_extension": ".py",
   "mimetype": "text/x-python",
   "name": "python",
   "nbconvert_exporter": "python",
   "pygments_lexer": "ipython3",
   "version": "3.11.0"
  }
 },
 "nbformat": 4,
 "nbformat_minor": 5
}
