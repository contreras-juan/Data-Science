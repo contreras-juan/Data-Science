{
 "cells": [
  {
   "cell_type": "markdown",
   "id": "224f4879-8c2b-4642-9797-c79911d0a871",
   "metadata": {
    "tags": []
   },
   "source": [
    "<h1 align='center'> What is Data Science? </h1>"
   ]
  },
  {
   "cell_type": "markdown",
   "id": "b8d1add8-83a2-4dbd-82cd-bda98c9c0915",
   "metadata": {},
   "source": [
    "<h2> Introduction </h2>"
   ]
  },
  {
   "cell_type": "markdown",
   "id": "22b520d5-7750-4ed9-8da6-6b931c8991ca",
   "metadata": {},
   "source": [
    "Data Science is the discipline that intends to achieve insights from data to solve a real-world problem. To achieve this, a data scientist usually uses specialized knowledge from statistics, mathematics and Artifitial Intelligence. In addition, it is important for a data scientist to manage a domain knowledge to disentangle valuable information for an actionable plan hidden in raw data. Figure 1 summarizes this information relating the different skills for a data scientist."
   ]
  },
  {
   "cell_type": "markdown",
   "id": "16914638-2053-4d66-892d-5b7263d5ef13",
   "metadata": {},
   "source": [
    "Figure 1. The Data Science Venn diagram\n",
    "\n",
    "<img src=\"DS_Venn.png\" width=\"500\"/>\n",
    "\n",
    "Source: http://drewconway.com/zia/2013/3/26/the-data-science-venn-diagram"
   ]
  },
  {
   "cell_type": "markdown",
   "id": "01ba6679-e5dd-48dd-9244-9cc7b8779fe9",
   "metadata": {},
   "source": [
    "Let's start understanding the Venn diagram from Figure 1. The \"Hacking Skills\" sets consists on the programming and coding knowledge needed to process data. Usually, one needs to gather some sort o information from a data storage, and, in order to being able to process a piece of raw data, it is necessary to design an algorithm via a programming language like [Python](https://www.python.org/) or [R](https://www.r-project.org/). The \"Math & Statistics Knowledge\" includes valuable knowledge about calculus, linear algebra, probability, and many others that are important to design empirical methodologies to explore data and reach conclussions. Finally, the \"Substantive Expertise\" set refers to what I previously called \"domain knowledge\", which consists on any real-world knowledge to which the data and its conclussions are taken and applied to (e.g. Healthcare, Development Economics, sales, marketing).\n",
    "\n",
    "It is also important to understand what the intersections between the three sets. I will start explaining the \"Danger Zone!\" region, which I bealive is the most important to understand. When one develops a good coding skills and a great deal of domain knowledge, but lacks Math and Statistical background, one is more likely to take a bad decision due to a wrong application of a data science model (that usually stems from mathematical or statistical foundation), or a wrong interpretation of a given methodology.\n",
    "\n",
    "The remaining interceptions consists on different disciplines that use data to answer some question in a given context."
   ]
  },
  {
   "cell_type": "markdown",
   "id": "6fd15962-ca03-4c5d-9ac0-859926806154",
   "metadata": {
    "tags": []
   },
   "source": [
    "<h2> Data Science lifecycle and their related roles </h2>"
   ]
  },
  {
   "cell_type": "markdown",
   "id": "0f19b495-4927-47ad-a3b2-2e866705dcbc",
   "metadata": {},
   "source": [
    "The data science lifecycle involves different types of roles and processes that requires various types of professional expertise and technological tools that are important to understand and differenciate from what a data scientist actually does.\n",
    "\n",
    "- Data Engineer: Creates the infrastrucure for data storage and ETL processes (ETL stands for Extract, Transform and Load, which I will explain shortly).\n",
    "- Data Analyst: Gather and organizes data to perform analysis and report valuable insights to interested parties (such as customers or stakeholders)\n",
    "- Data Scientist: Perform explanatory and predictive statistical models to find useful information from data\n",
    "- Business Intelligence: Uses specialized software to summarize and report data to interested parties\n",
    "- Machine Learning Engineer: Uses computer science to build predictive models and to design deployment strategies of such a models\n",
    "\n",
    "The typical technological tools used by these roles are as follow:\n",
    "\n",
    "- Data Engineer: SQL and cloud computing\n",
    "- Data Analyst: programming language such as R or Python\n",
    "- Data Scientist: programming language such as R or Python with good knowledge with frameworks like Tensorflow and Scikitlearn\n",
    "- Business Intelligence: Excel, Power BI, Tableau\n",
    "- Machine Learning Engineer: programming language such as R or Python and cloud computing, with good knowledge with frameworks like Tensorflow, Scikitlearn and Dash."
   ]
  },
  {
   "cell_type": "markdown",
   "id": "b148179a-1ebc-46da-a3b3-30c97d374103",
   "metadata": {},
   "source": [
    "<h2> ETL </h2>"
   ]
  },
  {
   "cell_type": "markdown",
   "id": "a9705272-06af-4d0c-a960-3fc98ae3d867",
   "metadata": {},
   "source": [
    "The ETL process is a routine typically used by data engineers, but it is important to be understood by data scientist as well. The Extract part of the process consists on where the data comes from, which is usually a raw piece of information that needs to be Transform into tables or any other type of data storage to finally be Loaded into a data storage."
   ]
  },
  {
   "cell_type": "markdown",
   "id": "a2e8190e-3b29-45c4-a92a-5f0594a4ca73",
   "metadata": {},
   "source": [
    "<h2> References </h2>\n",
    "\n",
    "- http://drewconway.com/zia/2013/3/26/the-data-science-venn-diagram\n",
    "- https://www.manning.com/books/build-a-career-in-data-science\n",
    "- https://www.ibm.com/topics/data-science\n",
    "- https://dataconomy.com/2022/09/difference-between-business-intelligence-and-data-analytics/\n",
    "- https://www.simplilearn.com/tutorials/data-analytics-tutorial/data-analyst-vs-data-scientist#:~:text=A%20data%20analyst%20analyzes%20existing,%2C%20statistics%2C%20and%20computer%20programming."
   ]
  }
 ],
 "metadata": {
  "kernelspec": {
   "display_name": "Python 3 (ipykernel)",
   "language": "python",
   "name": "python3"
  },
  "language_info": {
   "codemirror_mode": {
    "name": "ipython",
    "version": 3
   },
   "file_extension": ".py",
   "mimetype": "text/x-python",
   "name": "python",
   "nbconvert_exporter": "python",
   "pygments_lexer": "ipython3",
   "version": "3.11.0"
  }
 },
 "nbformat": 4,
 "nbformat_minor": 5
}
