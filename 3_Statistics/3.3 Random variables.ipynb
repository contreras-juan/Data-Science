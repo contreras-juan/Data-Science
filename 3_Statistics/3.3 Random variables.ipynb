{
 "cells": [
  {
   "cell_type": "markdown",
   "id": "7882cd0c-2591-4a6b-82dc-5a734d662853",
   "metadata": {},
   "source": [
    "<h1 align='center'> Random variables </h1>"
   ]
  },
  {
   "cell_type": "markdown",
   "id": "dad36dc3-20a2-46d8-9629-d05f836a5fa9",
   "metadata": {},
   "source": [
    "<h2> Introduction </h2>"
   ]
  },
  {
   "cell_type": "markdown",
   "id": "7223e124-2173-4bc6-9f8e-20812fe762f3",
   "metadata": {},
   "source": [
    "So far we have already inspection the concepts of variables, functions and probability. In this notebook we will combine the three in the concept of random variable.\n",
    "\n",
    "Given a sample space $\\Omega$, a random variable is a function that assigns to each event a real value. For example, in the dice example of the previous notebook, let $x$ be the outcome of the first dice and $y$ the outcome of the second, then the random variable of the sum of both values is given by:\n",
    "\n",
    "$$f(x, y) = x + y$$\n",
    "\n",
    "Thus,\n",
    "\n",
    "$$f(1,1) = 2$$\n",
    "$$f(4, 3) = 7$$\n",
    "\n",
    "Now., let's write a program to output a table with all the possible results of the random variable $f(x, y)$:"
   ]
  },
  {
   "cell_type": "code",
   "execution_count": 1,
   "id": "1c74cfb4-af8a-4eeb-b4ed-b82f5f94d98a",
   "metadata": {},
   "outputs": [
    {
     "name": "stdout",
     "output_type": "stream",
     "text": [
      "f( 1.0 , 1.0 ) = 2.0\n",
      "f( 1.0 , 2.0 ) = 3.0\n",
      "f( 1.0 , 3.0 ) = 4.0\n",
      "f( 1.0 , 4.0 ) = 5.0\n",
      "f( 1.0 , 5.0 ) = 6.0\n",
      "f( 1.0 , 6.0 ) = 7.0\n",
      "f( 2.0 , 1.0 ) = 3.0\n",
      "f( 2.0 , 2.0 ) = 4.0\n",
      "f( 2.0 , 3.0 ) = 5.0\n",
      "f( 2.0 , 4.0 ) = 6.0\n",
      "f( 2.0 , 5.0 ) = 7.0\n",
      "f( 2.0 , 6.0 ) = 8.0\n",
      "f( 3.0 , 1.0 ) = 4.0\n",
      "f( 3.0 , 2.0 ) = 5.0\n",
      "f( 3.0 , 3.0 ) = 6.0\n",
      "f( 3.0 , 4.0 ) = 7.0\n",
      "f( 3.0 , 5.0 ) = 8.0\n",
      "f( 3.0 , 6.0 ) = 9.0\n",
      "f( 4.0 , 1.0 ) = 5.0\n",
      "f( 4.0 , 2.0 ) = 6.0\n",
      "f( 4.0 , 3.0 ) = 7.0\n",
      "f( 4.0 , 4.0 ) = 8.0\n",
      "f( 4.0 , 5.0 ) = 9.0\n",
      "f( 4.0 , 6.0 ) = 10.0\n",
      "f( 5.0 , 1.0 ) = 6.0\n",
      "f( 5.0 , 2.0 ) = 7.0\n",
      "f( 5.0 , 3.0 ) = 8.0\n",
      "f( 5.0 , 4.0 ) = 9.0\n",
      "f( 5.0 , 5.0 ) = 10.0\n",
      "f( 5.0 , 6.0 ) = 11.0\n",
      "f( 6.0 , 1.0 ) = 7.0\n",
      "f( 6.0 , 2.0 ) = 8.0\n",
      "f( 6.0 , 3.0 ) = 9.0\n",
      "f( 6.0 , 4.0 ) = 10.0\n",
      "f( 6.0 , 5.0 ) = 11.0\n",
      "f( 6.0 , 6.0 ) = 12.0\n"
     ]
    }
   ],
   "source": [
    "import numpy as np\n",
    "\n",
    "\n",
    "Ω = np.zeros((36,2))\n",
    "k = 0\n",
    "for i in range(1,7):\n",
    "    for j in range(1,7):\n",
    "        Ω[k,] = (i,j)\n",
    "        k+=1\n",
    "\n",
    "        \n",
    "# calcula la variable aleatoria f: f(x,y)=x+y        \n",
    "f = np.zeros(36)\n",
    "for k in range(36):\n",
    "    f[k] = Ω[k,0] + Ω[k,1]\n",
    "\n",
    "    \n",
    "# presenta los resultados\n",
    "for k in range(36):\n",
    "    print('f(',Ω[k,0],',',Ω[k,1],') =', f[k])"
   ]
  },
  {
   "cell_type": "markdown",
   "id": "ab25523e-9231-4825-974e-036704c950f0",
   "metadata": {},
   "source": [
    "<h2> Probability of a random variable </h2>"
   ]
  },
  {
   "cell_type": "markdown",
   "id": "2639e565-f374-4d65-a1b2-62095ae277e4",
   "metadata": {},
   "source": [
    "To find the probability of a random variable we first need to compute the frequency table of possible outcomes, and then calculate the proportion of this variable happening. In the previous example:"
   ]
  },
  {
   "cell_type": "code",
   "execution_count": 7,
   "id": "15888f99-652b-4ed2-8a6e-858119aa5666",
   "metadata": {},
   "outputs": [],
   "source": [
    "vals_dict = {}\n",
    "\n",
    "for i, j in enumerate(Ω):\n",
    "    function = 'f(' + str(j[0]) + ', ' + str(j[1])\n",
    "    vals_dict[function] = f[i]"
   ]
  },
  {
   "cell_type": "code",
   "execution_count": 14,
   "id": "13ffb0ca-668f-4e33-8c1c-30f5e02fc244",
   "metadata": {},
   "outputs": [
    {
     "data": {
      "text/html": [
       "<div>\n",
       "<style scoped>\n",
       "    .dataframe tbody tr th:only-of-type {\n",
       "        vertical-align: middle;\n",
       "    }\n",
       "\n",
       "    .dataframe tbody tr th {\n",
       "        vertical-align: top;\n",
       "    }\n",
       "\n",
       "    .dataframe thead th {\n",
       "        text-align: right;\n",
       "    }\n",
       "</style>\n",
       "<table border=\"1\" class=\"dataframe\">\n",
       "  <thead>\n",
       "    <tr style=\"text-align: right;\">\n",
       "      <th></th>\n",
       "      <th>Frequency</th>\n",
       "    </tr>\n",
       "    <tr>\n",
       "      <th>Value</th>\n",
       "      <th></th>\n",
       "    </tr>\n",
       "  </thead>\n",
       "  <tbody>\n",
       "    <tr>\n",
       "      <th>2.0</th>\n",
       "      <td>1</td>\n",
       "    </tr>\n",
       "    <tr>\n",
       "      <th>3.0</th>\n",
       "      <td>2</td>\n",
       "    </tr>\n",
       "    <tr>\n",
       "      <th>4.0</th>\n",
       "      <td>3</td>\n",
       "    </tr>\n",
       "    <tr>\n",
       "      <th>5.0</th>\n",
       "      <td>4</td>\n",
       "    </tr>\n",
       "    <tr>\n",
       "      <th>6.0</th>\n",
       "      <td>5</td>\n",
       "    </tr>\n",
       "    <tr>\n",
       "      <th>7.0</th>\n",
       "      <td>6</td>\n",
       "    </tr>\n",
       "    <tr>\n",
       "      <th>8.0</th>\n",
       "      <td>5</td>\n",
       "    </tr>\n",
       "    <tr>\n",
       "      <th>9.0</th>\n",
       "      <td>4</td>\n",
       "    </tr>\n",
       "    <tr>\n",
       "      <th>10.0</th>\n",
       "      <td>3</td>\n",
       "    </tr>\n",
       "    <tr>\n",
       "      <th>11.0</th>\n",
       "      <td>2</td>\n",
       "    </tr>\n",
       "    <tr>\n",
       "      <th>12.0</th>\n",
       "      <td>1</td>\n",
       "    </tr>\n",
       "  </tbody>\n",
       "</table>\n",
       "</div>"
      ],
      "text/plain": [
       "       Frequency\n",
       "Value           \n",
       "2.0            1\n",
       "3.0            2\n",
       "4.0            3\n",
       "5.0            4\n",
       "6.0            5\n",
       "7.0            6\n",
       "8.0            5\n",
       "9.0            4\n",
       "10.0           3\n",
       "11.0           2\n",
       "12.0           1"
      ]
     },
     "execution_count": 14,
     "metadata": {},
     "output_type": "execute_result"
    }
   ],
   "source": [
    "import pandas as pd\n",
    "\n",
    "freq = pd.DataFrame.from_dict(vals_dict, orient='index')\n",
    "freq.columns = ['Value']\n",
    "freq['Frequency'] = 1\n",
    "freq = freq.groupby('Value').sum()\n",
    "freq"
   ]
  },
  {
   "cell_type": "markdown",
   "id": "e3e279bd-f1f8-4f1e-8e7a-e60f89aa1d50",
   "metadata": {},
   "source": [
    "Here we see how many times each of the values in the function appears, so if we want to find the probability of each one of these happening we need to find the relative frequency by just dividing the absolute frequencies above to the sum of observations like:"
   ]
  },
  {
   "cell_type": "code",
   "execution_count": 37,
   "id": "9a68e267-15fe-4134-87ab-a3b6a6219a8d",
   "metadata": {},
   "outputs": [
    {
     "data": {
      "text/html": [
       "<div>\n",
       "<style scoped>\n",
       "    .dataframe tbody tr th:only-of-type {\n",
       "        vertical-align: middle;\n",
       "    }\n",
       "\n",
       "    .dataframe tbody tr th {\n",
       "        vertical-align: top;\n",
       "    }\n",
       "\n",
       "    .dataframe thead th {\n",
       "        text-align: right;\n",
       "    }\n",
       "</style>\n",
       "<table border=\"1\" class=\"dataframe\">\n",
       "  <thead>\n",
       "    <tr style=\"text-align: right;\">\n",
       "      <th></th>\n",
       "      <th>Frequency</th>\n",
       "      <th>Rel. Frequency</th>\n",
       "    </tr>\n",
       "    <tr>\n",
       "      <th>Value</th>\n",
       "      <th></th>\n",
       "      <th></th>\n",
       "    </tr>\n",
       "  </thead>\n",
       "  <tbody>\n",
       "    <tr>\n",
       "      <th>2.0</th>\n",
       "      <td>1</td>\n",
       "      <td>0.027778</td>\n",
       "    </tr>\n",
       "    <tr>\n",
       "      <th>3.0</th>\n",
       "      <td>2</td>\n",
       "      <td>0.055556</td>\n",
       "    </tr>\n",
       "    <tr>\n",
       "      <th>4.0</th>\n",
       "      <td>3</td>\n",
       "      <td>0.083333</td>\n",
       "    </tr>\n",
       "    <tr>\n",
       "      <th>5.0</th>\n",
       "      <td>4</td>\n",
       "      <td>0.111111</td>\n",
       "    </tr>\n",
       "    <tr>\n",
       "      <th>6.0</th>\n",
       "      <td>5</td>\n",
       "      <td>0.138889</td>\n",
       "    </tr>\n",
       "    <tr>\n",
       "      <th>7.0</th>\n",
       "      <td>6</td>\n",
       "      <td>0.166667</td>\n",
       "    </tr>\n",
       "    <tr>\n",
       "      <th>8.0</th>\n",
       "      <td>5</td>\n",
       "      <td>0.138889</td>\n",
       "    </tr>\n",
       "    <tr>\n",
       "      <th>9.0</th>\n",
       "      <td>4</td>\n",
       "      <td>0.111111</td>\n",
       "    </tr>\n",
       "    <tr>\n",
       "      <th>10.0</th>\n",
       "      <td>3</td>\n",
       "      <td>0.083333</td>\n",
       "    </tr>\n",
       "    <tr>\n",
       "      <th>11.0</th>\n",
       "      <td>2</td>\n",
       "      <td>0.055556</td>\n",
       "    </tr>\n",
       "    <tr>\n",
       "      <th>12.0</th>\n",
       "      <td>1</td>\n",
       "      <td>0.027778</td>\n",
       "    </tr>\n",
       "  </tbody>\n",
       "</table>\n",
       "</div>"
      ],
      "text/plain": [
       "       Frequency  Rel. Frequency\n",
       "Value                           \n",
       "2.0            1        0.027778\n",
       "3.0            2        0.055556\n",
       "4.0            3        0.083333\n",
       "5.0            4        0.111111\n",
       "6.0            5        0.138889\n",
       "7.0            6        0.166667\n",
       "8.0            5        0.138889\n",
       "9.0            4        0.111111\n",
       "10.0           3        0.083333\n",
       "11.0           2        0.055556\n",
       "12.0           1        0.027778"
      ]
     },
     "execution_count": 37,
     "metadata": {},
     "output_type": "execute_result"
    }
   ],
   "source": [
    "total = np.sum(freq['Frequency'])\n",
    "rel_freq = freq.copy()\n",
    "rel_freq['Rel. Frequency'] = rel_freq['Frequency']/total\n",
    "rel_freq"
   ]
  },
  {
   "cell_type": "markdown",
   "id": "0c01df9b-9f3e-4db3-ba09-23aebe27c095",
   "metadata": {},
   "source": [
    "Note that by construction the sum of probabilities is 1:"
   ]
  },
  {
   "cell_type": "code",
   "execution_count": 38,
   "id": "1bd3cf79-cc98-4f64-8f00-25cab860bcd6",
   "metadata": {},
   "outputs": [
    {
     "data": {
      "text/plain": [
       "1.0"
      ]
     },
     "execution_count": 38,
     "metadata": {},
     "output_type": "execute_result"
    }
   ],
   "source": [
    "np.sum(rel_freq['Rel. Frequency'])"
   ]
  },
  {
   "cell_type": "code",
   "execution_count": 54,
   "id": "8ce50599-dd61-4b65-a081-578aab3eddde",
   "metadata": {},
   "outputs": [
    {
     "data": {
      "text/plain": [
       "36"
      ]
     },
     "execution_count": 54,
     "metadata": {},
     "output_type": "execute_result"
    }
   ],
   "source": [
    "total"
   ]
  },
  {
   "cell_type": "markdown",
   "id": "223697e8-c50f-4c1c-885f-54f156f0174f",
   "metadata": {},
   "source": [
    "The relative frequency table is in fact a probability table that gives us the probability for each outcome of the random variable, so, for instance, $P(f = 10) = 0.083$. In most cases is a good idea to plot the probability distribution, so let's do that using `matplotlib`:"
   ]
  },
  {
   "cell_type": "code",
   "execution_count": 53,
   "id": "3c3551ce-32e5-4c83-b6ae-c1914ed54267",
   "metadata": {},
   "outputs": [
    {
     "data": {
      "image/png": "[encoded data removed]",
      "text/plain": [
       "<Figure size 640x480 with 1 Axes>"
      ]
     },
     "metadata": {},
     "output_type": "display_data"
    }
   ],
   "source": [
    "import matplotlib.pyplot as plt\n",
    "\n",
    "ax = rel_freq.drop('Frequency', axis=1).plot(kind='bar', legend=False)\n",
    "plt.xlabel('Values of $f(x, y)$')\n",
    "plt.ylabel('Probability')\n",
    "plt.title('Probability function of $f(x,y)$')\n",
    "\n",
    "for p in ax.patches:\n",
    "    ax.annotate(str(round(p.get_height(), 2)), (p.get_x() - 0.1, p.get_height() + 0.001))"
   ]
  },
  {
   "cell_type": "markdown",
   "id": "14b049a4-d151-4429-b4db-42cee88306a7",
   "metadata": {},
   "source": [
    "With the previous distribution, we can find some probabilities by using the rules studied in the previous notebook:\n",
    "\n",
    "$$p(f > 10) = \\frac{3}{36}$$\n",
    "$$p(f \\text{ being an even number}) = \\frac{18}{36}$$\n",
    "$$p(f \\leq 6) = \\frac{12}{36}$$\n",
    "\n",
    "Check this results."
   ]
  },
  {
   "cell_type": "markdown",
   "id": "3092659c-5b70-4ec6-a33b-c3ab0b3790aa",
   "metadata": {},
   "source": [
    "<h2> Discrete random variables </h2>"
   ]
  },
  {
   "cell_type": "markdown",
   "id": "e8400362-c837-4936-9c34-7e1009b28fbb",
   "metadata": {},
   "source": [
    "We say that a random varible is discrete if it has a countable number of outcomes, like in our dice example in which identified 11 possible outcomes. Now we will see some important discrete probability distributions."
   ]
  },
  {
   "cell_type": "markdown",
   "id": "5978cd9b-757f-4098-855a-3168b7d77352",
   "metadata": {},
   "source": [
    "<h3> Bernoulli distribution </h2>"
   ]
  },
  {
   "cell_type": "markdown",
   "id": "1bc454af-c3e5-4fbe-b620-c64f7292a285",
   "metadata": {},
   "source": [
    "A random variable $f$ is a Bernoulli type of distribution if it can only takes two values, that for convention we set them as $\\{0,1\\}$. We denote the probability of $f=1$ to be $p(f=1) = \\pi$, thus we can e write the probaility function o $f$ as:\n",
    "\n",
    "$$p(f) = \\pi^x (1 - \\pi)^{(1-x)}, x=0,1 $$\n",
    "\n",
    "A simple example of this is tossing a coin, which can only have two outcomes, namely heads or tails. Another example in our dice case could be setting the success event as getting two dices which sum is an even number; in which case $\\pi = 18/36$. "
   ]
  },
  {
   "cell_type": "markdown",
   "id": "a912cb29-2430-474f-8234-208f876d3f00",
   "metadata": {},
   "source": [
    "<h3> Binomial distribution </h3>"
   ]
  },
  {
   "cell_type": "markdown",
   "id": "80cef56a-1493-4112-8ee2-fadff8b57144",
   "metadata": {},
   "source": [
    "Consider a random variable that follows a Bernoulli process, for example tossing a coin. If we do this experiment with a fair coin, then $\\pi = 0.5$ and the sample space is $\\Omega = \\{H, T\\}$ ($H=\\text{heads}$ and $T=\\text{tails}$). Now suppose we do this experiment a $n=3$ times, then the sample space increase to:\n",
    "\n",
    "$$\\Omega=\\{(H,H,H), (H,H,T), (H,T,H), (T, H,H), (H,T,T), (T,H,T), (T,T,H), (T,T,T)\\}$$\n",
    "\n",
    "If we want to calculate the probability of getting two tails, we will have to apply the following formula:\n",
    "\n",
    "$$P(x) = \\binom{n}{x} \\pi^x (1-\\pi)^{(n - x)}$$\n",
    "\n",
    "where\n",
    "\n",
    "- $n:$ number of experiments\n",
    "- $x:$ number of successes\n",
    "- $\\pi:$ probability of getting a success\n",
    "\n",
    "and\n",
    "\n",
    "$$\\binom{n}{x} = \\frac{n!}{x!(n - x)!}$$\n",
    "In the coin example, \n",
    "\n",
    "$$P(T=2) = \\binom{3}{2} (0.5 ^2) (0.5) = 0.375$$\n",
    "\n",
    "To fully understand the binomial distribution formula, we just need to apply the multiplication property of probabilities for independen events. Note that the event of getting a heads in on toss is independent to getting a tails in the next. Thus, to find the probability of getting two tails in three tossess, we just need to multiply $\\pi = 0.5$ the number of times we can possible see two tosses to appear (which is $\\binom{3}{2}$)."
   ]
  },
  {
   "cell_type": "markdown",
   "id": "458e0064-9ced-4819-a62b-0d63a7ee7b67",
   "metadata": {},
   "source": [
    "<h3> Poisson distribution </h3>"
   ]
  },
  {
   "cell_type": "markdown",
   "id": "75a77cf6-6c4c-42f3-923e-c3f26ec719af",
   "metadata": {},
   "source": [
    "The Poisson distribution is commonly used in problems in which counting is essential, for example finding the probability of seeing three red cars in a given intersection withing 5 minutes. And a random variable that follows a Poisson distribution can only takes integers between $0$ and $\\infty $, and it is computed using the following formula:\n",
    "\n",
    "$$P(x) = \\frac{e^{k} \\lambda ^k}{k!}, x=0,1,2,...$$\n",
    "\n",
    "where $\\lambda > 0$ is the mean number of the variable $x$ to appear in a given unit (time, space, volume, etc)."
   ]
  },
  {
   "cell_type": "markdown",
   "id": "822ebd07-5776-41e7-8c07-6fb4ce2b90b4",
   "metadata": {},
   "source": [
    "<h2> Mathematical expectation of a discrete random variable </h2>"
   ]
  },
  {
   "cell_type": "markdown",
   "id": "722cdc75-f369-4977-87fe-ffdf91ef13bb",
   "metadata": {},
   "source": [
    "We define the mathematical expectation (or, simply the expectation) of a random variable as the weighted mean of all it's possible outcomes. So for a random variable with possible values $\\mathbf{x} = (x_{1}, x_{2}, ... , x_{n})$ and a it's respective vector of probabilities $\\mathbf{p} = (p_{1}, p_{2}, ..., p_{n})$ (where $p_{i}$ is the probability of $x_{i}$, for all $i = 1, 2, ..., n$), we compute the expectation of $\\mathbf{x}$ as:\n",
    "\n",
    "$$E[x] = \\mathbf{p} \\cdot \\mathbf{x} = p_{1}x_{1} + p_{2}x_{2} + ... + p_{n}x_{n}$$\n",
    "\n",
    "So, for instance in the example of the sum of the outcomes of the dices, we will have"
   ]
  },
  {
   "cell_type": "code",
   "execution_count": 60,
   "id": "1e276f05-0ed3-4353-a572-6bbec33d9a41",
   "metadata": {},
   "outputs": [
    {
     "data": {
      "text/plain": [
       "6.999999999999999"
      ]
     },
     "execution_count": 60,
     "metadata": {},
     "output_type": "execute_result"
    }
   ],
   "source": [
    "p = np.array(rel_freq['Rel. Frequency'])\n",
    "x = rel_freq.index\n",
    "\n",
    "np.dot(p, x)"
   ]
  },
  {
   "cell_type": "markdown",
   "id": "d13556b1-b140-4289-8f9d-790ce02d322a",
   "metadata": {},
   "source": [
    "<h2> Variance and standard deviation of a discrete random variable </h2>"
   ]
  },
  {
   "cell_type": "markdown",
   "id": "59b23f7a-a761-4091-abf3-e2df9b8c1411",
   "metadata": {},
   "source": [
    "In the same way we an compute the expectation of a random variable, we can also find the variance:\n",
    "\n",
    "$$V[\\mathbf{x}] = E[(\\bar{x} - x)^2] = \\sum_{i=1}^{n} p_{i}(x_{i} - \\bar{x})^2$$\n",
    "\n",
    "and it's standard deviation:\n",
    "\n",
    "$$\\sigma_{x} = \\sqrt{V[x]}$$"
   ]
  },
  {
   "cell_type": "code",
   "execution_count": null,
   "id": "373f2978-ea3b-4e54-b87a-12cb0c8517f3",
   "metadata": {},
   "outputs": [],
   "source": []
  }
 ],
 "metadata": {
  "kernelspec": {
   "display_name": "Python 3 (ipykernel)",
   "language": "python",
   "name": "python3"
  },
  "language_info": {
   "codemirror_mode": {
    "name": "ipython",
    "version": 3
   },
   "file_extension": ".py",
   "mimetype": "text/x-python",
   "name": "python",
   "nbconvert_exporter": "python",
   "pygments_lexer": "ipython3",
   "version": "3.11.0"
  }
 },
 "nbformat": 4,
 "nbformat_minor": 5
}
