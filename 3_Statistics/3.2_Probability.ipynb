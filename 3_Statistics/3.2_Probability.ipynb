{
 "cells": [
  {
   "cell_type": "markdown",
   "id": "2535b196-f158-4729-bd7c-6377b4fed687",
   "metadata": {},
   "source": [
    "<h1 align='center'> Probability </h1"
   ]
  },
  {
   "cell_type": "markdown",
   "id": "d84242dd-44de-401a-9905-a86b62dbb3b0",
   "metadata": {},
   "source": [
    "<h2> Introduction </h2>"
   ]
  },
  {
   "cell_type": "markdown",
   "id": "df2c75c5-1d9d-4043-bcc7-7c3c64d1143a",
   "metadata": {},
   "source": [
    "In this notebook we will introduce the concept of probability, which is basically how likely is something to happen."
   ]
  },
  {
   "cell_type": "markdown",
   "id": "5cc9611d-bed0-47ca-8afc-4c54f0bd839e",
   "metadata": {},
   "source": [
    "<h2> Experiment </h2>"
   ]
  },
  {
   "cell_type": "markdown",
   "id": "4189e563-33d2-4b02-b9c7-93cd4605b61f",
   "metadata": {},
   "source": [
    "We define an experiment as a procedure that gives some specific outcome; it can be throwing a dice or drawing a card from a deck. The first example has six different outcomes (i.e. 1,2,3,...,6), and the second 24 (standards poker decks has 24 different cards)."
   ]
  },
  {
   "cell_type": "markdown",
   "id": "f3efae07-71b3-4314-9ae3-4bab933fa9e7",
   "metadata": {},
   "source": [
    "<h2> Sample space </h2>"
   ]
  },
  {
   "cell_type": "markdown",
   "id": "e7ec7720-f406-4b1b-b15a-d411570af9aa",
   "metadata": {},
   "source": [
    "The sample space is defined as the set of all the possible outcomes in the experiment, this is the set of outcomes of an experiment that is infinitely repeated. We define a sample space with the greek letter $\\Omega$. Let's see some examples:\n",
    "\n",
    "**Throwing two dices:**"
   ]
  },
  {
   "cell_type": "code",
   "execution_count": 8,
   "id": "8eb09152-7faa-472c-b39f-262f444faac2",
   "metadata": {},
   "outputs": [
    {
     "data": {
      "text/plain": [
       "[(1, 1),\n",
       " (1, 2),\n",
       " (1, 3),\n",
       " (1, 4),\n",
       " (1, 5),\n",
       " (1, 6),\n",
       " (2, 1),\n",
       " (2, 2),\n",
       " (2, 3),\n",
       " (2, 4),\n",
       " (2, 5),\n",
       " (2, 6),\n",
       " (3, 1),\n",
       " (3, 2),\n",
       " (3, 3),\n",
       " (3, 4),\n",
       " (3, 5),\n",
       " (3, 6),\n",
       " (4, 1),\n",
       " (4, 2),\n",
       " (4, 3),\n",
       " (4, 4),\n",
       " (4, 5),\n",
       " (4, 6),\n",
       " (5, 1),\n",
       " (5, 2),\n",
       " (5, 3),\n",
       " (5, 4),\n",
       " (5, 5),\n",
       " (5, 6),\n",
       " (6, 1),\n",
       " (6, 2),\n",
       " (6, 3),\n",
       " (6, 4),\n",
       " (6, 5),\n",
       " (6, 6),\n",
       " (1, 1),\n",
       " (2, 1),\n",
       " (3, 1),\n",
       " (4, 1),\n",
       " (5, 1),\n",
       " (6, 1),\n",
       " (1, 2),\n",
       " (2, 2),\n",
       " (3, 2),\n",
       " (4, 2),\n",
       " (5, 2),\n",
       " (6, 2),\n",
       " (1, 3),\n",
       " (2, 3),\n",
       " (3, 3),\n",
       " (4, 3),\n",
       " (5, 3),\n",
       " (6, 3),\n",
       " (1, 4),\n",
       " (2, 4),\n",
       " (3, 4),\n",
       " (4, 4),\n",
       " (5, 4),\n",
       " (6, 4),\n",
       " (1, 5),\n",
       " (2, 5),\n",
       " (3, 5),\n",
       " (4, 5),\n",
       " (5, 5),\n",
       " (6, 5),\n",
       " (1, 6),\n",
       " (2, 6),\n",
       " (3, 6),\n",
       " (4, 6),\n",
       " (5, 6),\n",
       " (6, 6)]"
      ]
     },
     "execution_count": 8,
     "metadata": {},
     "output_type": "execute_result"
    }
   ],
   "source": [
    "dice1 = list(range(1, 7))\n",
    "dice2 = list(range(1, 7))\n",
    "\n",
    "Ω = [(x1,x2) for x1 in dice1 for x2 in dice2] + [(x2,x1) for x1 in dice1 for x2 in dice2]\n",
    "Ω"
   ]
  },
  {
   "cell_type": "markdown",
   "id": "6eebbfaf-260b-4e5d-8da8-0e5104740ddf",
   "metadata": {},
   "source": [
    "In this example, note that we have two dices, so we need to account the outcomes for the two results independently, this is $(1, 5) \\neq (5, 1)$. So this sample space has size 72 ($6x6x2$)."
   ]
  },
  {
   "cell_type": "code",
   "execution_count": 11,
   "id": "28294a48-1fed-473b-9c16-fee351672ed7",
   "metadata": {},
   "outputs": [
    {
     "name": "stdout",
     "output_type": "stream",
     "text": [
      "72\n",
      "72\n"
     ]
    }
   ],
   "source": [
    "print(len(dice1)*len(dice2)*2)\n",
    "print(len(Ω))"
   ]
  },
  {
   "cell_type": "markdown",
   "id": "83f9c700-9d73-45ac-a894-3a88ddfe0123",
   "metadata": {},
   "source": [
    "<h2> Event </h2>"
   ]
  },
  {
   "cell_type": "markdown",
   "id": "d8aabe12-07be-42a4-9a70-2cbcf514660d",
   "metadata": {},
   "source": [
    "An event is any subset of $\\Omega$, this is a given outcome of a single realization of the experiment. Any sample space with size $n$ have exactly $2^n$ posible events. Let's now see some posible outcomes in the previous sample space:\n",
    "\n",
    "- Getting even numbers in the two dices\n",
    "- Getting odd numbers in the two dices\n",
    "- Getting numbers in the two dices which sum is a prime number (e.g. $(1,1)$, $(3, 2)$, etc.)"
   ]
  },
  {
   "cell_type": "markdown",
   "id": "ed617249-a877-4c7a-b277-f509b0d2a371",
   "metadata": {},
   "source": [
    "<h2> Probability </h2>"
   ]
  },
  {
   "cell_type": "markdown",
   "id": "e9c6e80a-7509-4d96-85db-b11f01f971f6",
   "metadata": {},
   "source": [
    "Using the previous definitions, we compute the probability of a given event $A$ in a sample space $\\Omega$ as:\n",
    "\n",
    "$$P(A) = \\frac{\\text{Favorable cases in A}}{\\text{Possible cases}}$$\n",
    "\n",
    "For example, if $A = \\text{getting even numbers in the two dices}$ in the sample space of throwing two dices, then we compute:\n",
    "\n",
    "$$P(A) = \\frac{18}{72} = 0.25$$\n",
    "\n",
    "Let's check this out in Python:"
   ]
  },
  {
   "cell_type": "code",
   "execution_count": 13,
   "id": "5892c869-7c57-4f6f-bda8-b0fb2e769dcd",
   "metadata": {},
   "outputs": [
    {
     "name": "stdout",
     "output_type": "stream",
     "text": [
      "The probability of getting two even numbers is:  0.25\n"
     ]
    }
   ],
   "source": [
    "favor_cases = 0 \n",
    "possible_cases = len(Ω)\n",
    "\n",
    "for event in Ω:\n",
    "    \n",
    "    if event[0]%2==0 and event[1]%2==0:\n",
    "\n",
    "        favor_cases += 1\n",
    "\n",
    "p = favor_cases/possible_cases\n",
    "print('The probability of getting two even numbers is: ', p)"
   ]
  },
  {
   "cell_type": "markdown",
   "id": "c595819e-d3be-443c-b300-b1a8771627d0",
   "metadata": {},
   "source": [
    "As a practical exercise, write a program for each of the following probabilities:\n",
    "\n",
    "$$P(\\text{Getting odd numbers in the two dices}) = \\frac{18}{72} = 0.25$$\n",
    "$$P(\\text{Getting numbers in the two dices which sum is a prime number}) = \\frac{30}{72} \\approx  0.42$$"
   ]
  },
  {
   "cell_type": "markdown",
   "id": "e9a618a6-8527-4d2d-994d-3ef2f141c461",
   "metadata": {},
   "source": [
    "**Hint:** for the second probability we should search for an algorithm to check whether a number is a prime (on the internet one can easily find one)."
   ]
  },
  {
   "cell_type": "markdown",
   "id": "1806de3b-4210-4bc0-8417-f2009d1a750f",
   "metadata": {},
   "source": [
    "<h2> Additive rule of probability </h2>"
   ]
  },
  {
   "cell_type": "markdown",
   "id": "9277050e-4d49-424d-83ed-e4d95340fbc3",
   "metadata": {},
   "source": [
    "If $A$ and $B$ are two events in $\\Omega$ and $A \\cap B = \\varnothing $ ($A$ and $B$ have no elements in common), then the probability of happening either of the two events (the union of both events: $A \\cup B$) is the sum of both probabilities:\n",
    "\n",
    "$$P(A \\cup B) = P(A) + P(B)$$\n",
    "\n",
    "For example, if $A = \\text{getting even numbers in the two dices }$ and $B = \\text{the sum of both number in the dices is equal to 5}$:\n",
    "\n",
    "$$P(A) = 0.25$$\n",
    "$$P(B) = \\frac{4}{72} \\approx = 0.0556$$\n",
    "$$P(A \\cup B) \\approx 0.31$$"
   ]
  },
  {
   "cell_type": "markdown",
   "id": "5d467f85-8577-4a08-aff1-6231d055c920",
   "metadata": {},
   "source": [
    "<h2> Probability of the complement of a set </h2>"
   ]
  },
  {
   "cell_type": "markdown",
   "id": "24e4df94-16df-402a-9feb-32703d84280a",
   "metadata": {},
   "source": [
    "We say that the complement of a set $A$ is the set of elements that are not included in $A$ but are included in the sample space $\\Omega$, and we denote it as $A^c$. We define the probability of $A^c$ as:\n",
    "\n",
    "$$P(A^c) = 1 - P(A)$$\n",
    "\n",
    "this is followed by the fact that, by definition, $A \\cup A^c = \\Omega$. For example, in the example in the previous section, $A^c = \\text{not getting even numbers in the two dices}$, which probability is:\n",
    "\n",
    "$$P(A^c) = 1 - 0.25 = 0.75 $$"
   ]
  },
  {
   "cell_type": "markdown",
   "id": "b4321ded-56fc-48e8-8315-03e8b2431ca0",
   "metadata": {},
   "source": [
    "<h2> Conditional probability </h2>"
   ]
  },
  {
   "cell_type": "markdown",
   "id": "d559db07-2cc2-401e-a81f-a757acd10936",
   "metadata": {},
   "source": [
    "The concept of conditional probability is by far the most used in data science and it is crucial to fully comprehend it. As it's name indicate it consists on finding the probability of an event when a condition is met. As an example: finding the probability of getting one dice with an even number conditioned on both dices getting values above 4. In this case, the excercise consists on first finding the subset that meets the condition (getting both dices above 4), and then counting how many favorable possible cases are in this subset. It is not hard to find that the probability in this examples is $2/4$ (check yourself).\n",
    "\n",
    "Let $A = \\text{getting one dice with an even number}$ and $C = \\text{getting both dices above 4}$. Then, we can find that $C: \\left\\{(5, 5), (5, 6), (5,5), (6, 5) \\right\\}$, and tha there are two elements of this subset that ara in $A$: $(5,6)$ and $(6,5)$, then we write:\n",
    "\n",
    "$$P(A | C) = \\frac{2}{4} = 0.5$$\n",
    "\n",
    "One can easily proof that given two sets $X$ and $Y$:\n",
    "\n",
    "$$P(X | Y) = \\frac{P(X \\cap Y)}{P(Y)}$$\n",
    "\n",
    "One of the most important results regarding conditional probability is the Bayes' Theorem, names after Thomas Bayes, and it states that:\n",
    "\n",
    "$$P(X | Y) = \\frac{P(Y | X)P(X)}{P(Y)}$$\n",
    "\n",
    "As an exercise, verify this relation in the example before."
   ]
  },
  {
   "cell_type": "markdown",
   "id": "9c3bc722-33a2-441c-8a69-3583300842b0",
   "metadata": {},
   "source": [
    "<h2> Independence </h2>"
   ]
  },
  {
   "cell_type": "markdown",
   "id": "5a2d5583-db7f-4aa6-b019-09c835e52227",
   "metadata": {},
   "source": [
    "We say that $X$ and $Y$ are two independent events if knowing that $Y$ has already happened give absolutely no information on the probability of $X$ happening, and vice versa. This is, $P(X | Y) = P(X)$. For example, getting a dice with an even number conditioned on being tuesday. Off course, the day of the week has no influence on which side of the dice I am getting, hence this two events are independent. From the definition of independence one can check that:\n",
    "\n",
    "$$P(X \\cup Y) = P(X)P(Y)$$\n",
    "\n",
    "if $X$ and $Y$ are independent (follow the rules in previous section to get this result)."
   ]
  },
  {
   "cell_type": "code",
   "execution_count": null,
   "id": "276d8fe5-d998-4011-8826-462695e674bf",
   "metadata": {},
   "outputs": [],
   "source": []
  }
 ],
 "metadata": {
  "kernelspec": {
   "display_name": "Python 3 (ipykernel)",
   "language": "python",
   "name": "python3"
  },
  "language_info": {
   "codemirror_mode": {
    "name": "ipython",
    "version": 3
   },
   "file_extension": ".py",
   "mimetype": "text/x-python",
   "name": "python",
   "nbconvert_exporter": "python",
   "pygments_lexer": "ipython3",
   "version": "3.11.0"
  }
 },
 "nbformat": 4,
 "nbformat_minor": 5
}
