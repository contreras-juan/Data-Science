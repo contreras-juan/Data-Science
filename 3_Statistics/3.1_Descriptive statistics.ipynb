{
 "cells": [
  {
   "cell_type": "markdown",
   "id": "ca02dcb7-b888-4a91-829b-6855de892eeb",
   "metadata": {},
   "source": [
    "<h1 align='center'> Descriptive statistics </h1>"
   ]
  },
  {
   "cell_type": "markdown",
   "id": "75af6561-9fc8-4396-b132-408c3209c258",
   "metadata": {},
   "source": [
    "<h2> Introduction </h2>"
   ]
  },
  {
   "cell_type": "markdown",
   "id": "b89a12e8-859d-4cd4-ae4e-3d7c171e31ba",
   "metadata": {},
   "source": [
    "Statistics is defined as the discipline that is in charge of studying data structure to analyse and get insights from it, and therefore it is a core knowledge for a data scientist, and basically any applied science. First, we start with the foundations of statistics, which are the techniques to describe any piece of data."
   ]
  },
  {
   "cell_type": "code",
   "execution_count": null,
   "id": "dbb194dc-6855-4c3f-a296-803227a1d918",
   "metadata": {},
   "outputs": [],
   "source": []
  }
 ],
 "metadata": {
  "kernelspec": {
   "display_name": "Python 3 (ipykernel)",
   "language": "python",
   "name": "python3"
  },
  "language_info": {
   "codemirror_mode": {
    "name": "ipython",
    "version": 3
   },
   "file_extension": ".py",
   "mimetype": "text/x-python",
   "name": "python",
   "nbconvert_exporter": "python",
   "pygments_lexer": "ipython3",
   "version": "3.11.0"
  }
 },
 "nbformat": 4,
 "nbformat_minor": 5
}
