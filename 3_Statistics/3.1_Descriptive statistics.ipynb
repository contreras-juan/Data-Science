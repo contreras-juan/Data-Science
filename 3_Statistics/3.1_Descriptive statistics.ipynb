{
 "cells": [
  {
   "cell_type": "markdown",
   "id": "ca02dcb7-b888-4a91-829b-6855de892eeb",
   "metadata": {},
   "source": [
    "<h1 align='center'> Descriptive statistics </h1>"
   ]
  },
  {
   "cell_type": "markdown",
   "id": "75af6561-9fc8-4396-b132-408c3209c258",
   "metadata": {},
   "source": [
    "<h2> Introduction </h2>"
   ]
  },
  {
   "cell_type": "markdown",
   "id": "b89a12e8-859d-4cd4-ae4e-3d7c171e31ba",
   "metadata": {},
   "source": [
    "Statistics is defined as the discipline that is in charge of studying data structure to analyse and get insights from it, and therefore it is a core knowledge for a data scientist, and basically any applied science. First, we start with the foundations of statistics, which are the techniques to describe any piece of data."
   ]
  },
  {
   "cell_type": "markdown",
   "id": "c350ca69-3ab5-47f0-bb72-bc22c5566c15",
   "metadata": {},
   "source": [
    "<h2> Central Tendency Measures </h2>"
   ]
  },
  {
   "cell_type": "markdown",
   "id": "ab5c8017-8835-4957-a042-09471f6350c8",
   "metadata": {},
   "source": [
    "A measure of central tendency is a single value that pretends to describe a whole set of measures by identifying the central location towards which the complete data is located. As an example we can take a look at the following piece of data and we represent each observation in a single dot in a graph:"
   ]
  },
  {
   "cell_type": "markdown",
   "id": "1f026871-b139-46cc-a617-d67752c32fc9",
   "metadata": {},
   "source": [
    "import matplotlib.pyplot as plt"
   ]
  },
  {
   "cell_type": "code",
   "execution_count": 16,
   "id": "a1b7b8c2-016c-4859-bcea-7d870602776d",
   "metadata": {},
   "outputs": [
    {
     "data": {
      "text/plain": [
       "<matplotlib.legend.Legend at 0x146f0b7d0>"
      ]
     },
     "execution_count": 16,
     "metadata": {},
     "output_type": "execute_result"
    },
    {
     "data": {
      "image/png": "[encoded data removed]",
      "text/plain": [
       "<Figure size 640x480 with 1 Axes>"
      ]
     },
     "metadata": {},
     "output_type": "display_data"
    }
   ],
   "source": [
    "x = [1, 2, 4, 5, 7, 9, 10, 11]\n",
    "y = [0,0,0,0,0,0,0, 0]\n",
    "\n",
    "plt.plot(x,y, 'o')\n",
    "plt.ylim(-0.05, 1)\n",
    "plt.plot([6,6], [0, 1], label='Central tendency')\n",
    "plt.legend()"
   ]
  },
  {
   "cell_type": "markdown",
   "id": "91dcbd34-f07f-468b-b68c-377c893b1581",
   "metadata": {},
   "source": [
    "At looking at the location of each point we could be tempted to identify the value 6 as being the central tendency, since there is the same number of measures at each side of this location. However, we first need to define how a central tendency should be computed."
   ]
  },
  {
   "cell_type": "markdown",
   "id": "d6bd8665-eea2-41f3-889c-287b6f1388c1",
   "metadata": {},
   "source": [
    "<h3> Arithmetic mean </h3>"
   ]
  },
  {
   "cell_type": "markdown",
   "id": "8698537c-a3c8-4410-bd40-3a6252ab18b8",
   "metadata": {},
   "source": [
    "By far the most used measure of central tendency is the arithmetic mean, which consists on a linear combination of all the single values of the data. Let $\\mathbf{x} = \\left(x_{1}, x_{2}, ..., x_{n} \\right)$ be a vector of $n$ measures of some variable, then we define the arithmetic mean $\\bar{x}$ as:\n",
    "\n",
    "$$\\bar{x} = \\frac{x_{1} + x_{2} + ... + x_{n}}{n}$$\n",
    "\n",
    "Using linear algebra, we could write this expression using the scalar product notation as:\n",
    "\n",
    "$$\\bar{x} = \\frac{1}{n} \\mathbf{x} \\cdot \\iota $$\n",
    "\n",
    "where $\\iota = \\left(1, 1, ..., 1 \\right)$.\n",
    "\n",
    "For example, let's write a function to compute the arithmetic mean of a given vector, and use it to the $x$ vector we previously defined:"
   ]
  },
  {
   "cell_type": "code",
   "execution_count": 19,
   "id": "17948f12-c3a7-400e-b390-b34aaa6774f0",
   "metadata": {},
   "outputs": [
    {
     "data": {
      "text/plain": [
       "6.125"
      ]
     },
     "execution_count": 19,
     "metadata": {},
     "output_type": "execute_result"
    }
   ],
   "source": [
    "import numpy as np\n",
    "\n",
    "def arithmetic_mean(x):\n",
    "    \n",
    "    n = len(x)\n",
    "    return np.sum(x)/n\n",
    "\n",
    "arithmetic_mean(x)"
   ]
  },
  {
   "cell_type": "markdown",
   "id": "6ed20352-6d27-4c73-90ee-c30a6d772fbc",
   "metadata": {},
   "source": [
    "However, we need not to define this function from scratch (we did it just as a didactic exercise) since `numpy` as `mean` function that does this for us:"
   ]
  },
  {
   "cell_type": "code",
   "execution_count": 20,
   "id": "6ea1db42-93ec-4be4-bd83-cb27018d28d4",
   "metadata": {},
   "outputs": [
    {
     "data": {
      "text/plain": [
       "6.125"
      ]
     },
     "execution_count": 20,
     "metadata": {},
     "output_type": "execute_result"
    }
   ],
   "source": [
    "np.mean(x)"
   ]
  },
  {
   "cell_type": "markdown",
   "id": "cde61db1-eaac-487a-bcf7-60b74d9c1961",
   "metadata": {},
   "source": [
    "<h3> Weighted mean </h3>"
   ]
  },
  {
   "cell_type": "markdown",
   "id": "c3fe07e8-1c5f-4483-bc2e-3e55b2f24acf",
   "metadata": {},
   "source": [
    "A modification of the arithmetic mean is the weighted mean, which assumes that each observation in $\\mathbf{x}$ has a different weight of importance in the data set. We express such measure as:\n",
    "\n",
    "$$W =  \\frac{\\mathbf{x} \\cdot \\mathbf{w}}{\\mathbf{w} \\cdot \\iota} = \\frac{w_{1}x_{1} + w_{2}x_{2} + ... + w_{n}x_{n}}{w_{1} + w_{1} + ... + w_{n}}$$\n",
    "\n",
    "where $\\mathbf{w} = \\left(w_{1}, w_{2}, ..., w_{n} \\right)$, $w_{i}$ is the weight of the the measure $i$, $w_{i}>0$.\n",
    "\n",
    "Let's program this function:"
   ]
  },
  {
   "cell_type": "code",
   "execution_count": 22,
   "id": "494102d1-675c-4ea0-b6e7-f161682cbb4d",
   "metadata": {},
   "outputs": [
    {
     "data": {
      "text/plain": [
       "7.3076923076923075"
      ]
     },
     "execution_count": 22,
     "metadata": {},
     "output_type": "execute_result"
    }
   ],
   "source": [
    "def weighted_mean(x, w):\n",
    "    \n",
    "    return np.dot(x, w)/np.sum(w)\n",
    "\n",
    "w = [2,2,5,7,3,5,7,8]\n",
    "\n",
    "weighted_mean(x, w)"
   ]
  },
  {
   "cell_type": "markdown",
   "id": "455b2f27-266c-42db-bc1f-140fdc2dbe10",
   "metadata": {},
   "source": [
    "The same as with the arithmetic mean `numpy` as a function for the weighted mean:"
   ]
  },
  {
   "cell_type": "code",
   "execution_count": 23,
   "id": "1ec5cc29-009c-4232-bcc9-3bbdf7047b9f",
   "metadata": {},
   "outputs": [
    {
     "data": {
      "text/plain": [
       "7.3076923076923075"
      ]
     },
     "execution_count": 23,
     "metadata": {},
     "output_type": "execute_result"
    }
   ],
   "source": [
    "np.average(x, weights=w)"
   ]
  },
  {
   "cell_type": "markdown",
   "id": "c84849f6-f697-48d9-bd76-e16889649d47",
   "metadata": {},
   "source": [
    "<h3> Median </h3>"
   ]
  },
  {
   "cell_type": "markdown",
   "id": "b7de4910-f3f1-4bf3-96e6-2e180e5dbe38",
   "metadata": {},
   "source": [
    "Although the arithmetic mean and the weighted mean seem to be two reasonable ways of finding a central tendency since they use the information of all the measures of the variable $\\mathbf{x}$ it is sensible to extreme values, see what happens when we add a very large number to the vector we have previously defined:"
   ]
  },
  {
   "cell_type": "code",
   "execution_count": 24,
   "id": "6add0013-4cc3-4a54-89eb-7a5d4f93e07c",
   "metadata": {},
   "outputs": [
    {
     "data": {
      "text/plain": [
       "16.555555555555557"
      ]
     },
     "execution_count": 24,
     "metadata": {},
     "output_type": "execute_result"
    }
   ],
   "source": [
    "x.append(100)\n",
    "np.mean(x)"
   ]
  },
  {
   "cell_type": "markdown",
   "id": "47e4e87c-fa93-48d0-8403-8c6428e7d6fa",
   "metadata": {},
   "source": [
    "To overcome this issue we can define a meassure that is not affected by extreme values. For example, we can do what we did in the first figure we saw, and set the central tendency to be the value that has the same number of data points to each side of it: this meassure is called the median.\n",
    "\n",
    "The median is computed in two steps, first we sort the data values in ascending values:"
   ]
  },
  {
   "cell_type": "code",
   "execution_count": 29,
   "id": "850cea5a-6d99-418b-999f-dfd3b4d21ce2",
   "metadata": {},
   "outputs": [
    {
     "data": {
      "text/html": [
       "<div>\n",
       "<style scoped>\n",
       "    .dataframe tbody tr th:only-of-type {\n",
       "        vertical-align: middle;\n",
       "    }\n",
       "\n",
       "    .dataframe tbody tr th {\n",
       "        vertical-align: top;\n",
       "    }\n",
       "\n",
       "    .dataframe thead th {\n",
       "        text-align: right;\n",
       "    }\n",
       "</style>\n",
       "<table border=\"1\" class=\"dataframe\">\n",
       "  <thead>\n",
       "    <tr style=\"text-align: right;\">\n",
       "      <th></th>\n",
       "      <th>0</th>\n",
       "      <th>1</th>\n",
       "      <th>2</th>\n",
       "      <th>3</th>\n",
       "      <th>4</th>\n",
       "      <th>5</th>\n",
       "      <th>6</th>\n",
       "      <th>7</th>\n",
       "      <th>8</th>\n",
       "    </tr>\n",
       "  </thead>\n",
       "  <tbody>\n",
       "    <tr>\n",
       "      <th>0</th>\n",
       "      <td>1</td>\n",
       "      <td>2</td>\n",
       "      <td>4</td>\n",
       "      <td>5</td>\n",
       "      <td>7</td>\n",
       "      <td>9</td>\n",
       "      <td>10</td>\n",
       "      <td>11</td>\n",
       "      <td>100</td>\n",
       "    </tr>\n",
       "  </tbody>\n",
       "</table>\n",
       "</div>"
      ],
      "text/plain": [
       "   0  1  2  3  4  5   6   7    8\n",
       "0  1  2  4  5  7  9  10  11  100"
      ]
     },
     "execution_count": 29,
     "metadata": {},
     "output_type": "execute_result"
    }
   ],
   "source": [
    "import pandas as pd\n",
    "\n",
    "pd.DataFrame(np.sort(x)).T"
   ]
  },
  {
   "cell_type": "markdown",
   "id": "bd6ff251-1639-4e11-ba05-61181ca1afed",
   "metadata": {},
   "source": [
    "The second step consists on finding the value that splits the dataset into two equal-sized subsets. If the number of observations of the $n$ measures is an odd number, then the median is the value at location $(n+1)/2$, if the number of observations is an even number, then the median is the arithmetic mean between values at position $n/2$ and position $n/2 + 1$, this is:\n",
    "\n",
    "$$M = \\begin{cases}\n",
    "x_{(n+1)/2} & \\text{ if } n \\text{ is odd} \\\\ \n",
    "\\frac{x_{(n+1)/2} + x_{(n+1)/2 + 1}}{2} & \\text{ if } n \\text{ is even} \n",
    "\\end{cases}$$"
   ]
  },
  {
   "cell_type": "code",
   "execution_count": 64,
   "id": "c2f23cff-dff0-4c0b-b2dc-f5aa28377d59",
   "metadata": {},
   "outputs": [
    {
     "data": {
      "text/plain": [
       "6.0"
      ]
     },
     "execution_count": 64,
     "metadata": {},
     "output_type": "execute_result"
    }
   ],
   "source": [
    "def median(x):\n",
    "    n = len(x)\n",
    "    \n",
    "    x = np.sort(x)\n",
    "    \n",
    "    if n%2!=0:\n",
    "        loc = int((n-1)/2)\n",
    "        return x[loc]\n",
    "    \n",
    "    else:\n",
    "        loc0, loc1 = [int((n-1)/2), int((n-1)/2 + 1)]\n",
    "        return np.mean([x[loc0], x[loc1]])\n",
    "    \n",
    "median(x)"
   ]
  },
  {
   "cell_type": "markdown",
   "id": "a49b34d8-ab52-4a57-bc88-a472bbcc2d11",
   "metadata": {},
   "source": [
    "Note that we need to substract one to all the indices since Python starts counting from zero. Now let's compute the median in `numpy`:"
   ]
  },
  {
   "cell_type": "code",
   "execution_count": 65,
   "id": "474b6555-df39-48e0-9fbc-d13fe28741d6",
   "metadata": {},
   "outputs": [
    {
     "data": {
      "text/plain": [
       "6.0"
      ]
     },
     "execution_count": 65,
     "metadata": {},
     "output_type": "execute_result"
    }
   ],
   "source": [
    "np.median(x)"
   ]
  },
  {
   "cell_type": "markdown",
   "id": "d111c417-ea7f-4494-87d4-825d09a35205",
   "metadata": {},
   "source": [
    "<h3> Mode </h3>"
   ]
  },
  {
   "cell_type": "markdown",
   "id": "acaf9b5a-7e23-4fe6-9078-afb7e336a943",
   "metadata": {},
   "source": [
    "The mode is the most frequent measure $\\mathbf{x}$, this is another way of defining a central tendency that is not sensible to extreme values, for example, let's see the frecuency of each value of $x$ vector:"
   ]
  },
  {
   "cell_type": "code",
   "execution_count": 71,
   "id": "240deda6-61ab-4e96-8bcb-5ce4e0408777",
   "metadata": {},
   "outputs": [
    {
     "data": {
      "text/html": [
       "<div>\n",
       "<style scoped>\n",
       "    .dataframe tbody tr th:only-of-type {\n",
       "        vertical-align: middle;\n",
       "    }\n",
       "\n",
       "    .dataframe tbody tr th {\n",
       "        vertical-align: top;\n",
       "    }\n",
       "\n",
       "    .dataframe thead th {\n",
       "        text-align: right;\n",
       "    }\n",
       "</style>\n",
       "<table border=\"1\" class=\"dataframe\">\n",
       "  <thead>\n",
       "    <tr style=\"text-align: right;\">\n",
       "      <th></th>\n",
       "      <th>Frequency</th>\n",
       "    </tr>\n",
       "    <tr>\n",
       "      <th>0</th>\n",
       "      <th></th>\n",
       "    </tr>\n",
       "  </thead>\n",
       "  <tbody>\n",
       "    <tr>\n",
       "      <th>1</th>\n",
       "      <td>2</td>\n",
       "    </tr>\n",
       "    <tr>\n",
       "      <th>2</th>\n",
       "      <td>1</td>\n",
       "    </tr>\n",
       "    <tr>\n",
       "      <th>4</th>\n",
       "      <td>1</td>\n",
       "    </tr>\n",
       "    <tr>\n",
       "      <th>5</th>\n",
       "      <td>1</td>\n",
       "    </tr>\n",
       "    <tr>\n",
       "      <th>7</th>\n",
       "      <td>1</td>\n",
       "    </tr>\n",
       "    <tr>\n",
       "      <th>9</th>\n",
       "      <td>1</td>\n",
       "    </tr>\n",
       "    <tr>\n",
       "      <th>10</th>\n",
       "      <td>1</td>\n",
       "    </tr>\n",
       "    <tr>\n",
       "      <th>11</th>\n",
       "      <td>1</td>\n",
       "    </tr>\n",
       "    <tr>\n",
       "      <th>100</th>\n",
       "      <td>1</td>\n",
       "    </tr>\n",
       "  </tbody>\n",
       "</table>\n",
       "</div>"
      ],
      "text/plain": [
       "     Frequency\n",
       "0             \n",
       "1            2\n",
       "2            1\n",
       "4            1\n",
       "5            1\n",
       "7            1\n",
       "9            1\n",
       "10           1\n",
       "11           1\n",
       "100          1"
      ]
     },
     "execution_count": 71,
     "metadata": {},
     "output_type": "execute_result"
    }
   ],
   "source": [
    "freq_table = pd.DataFrame(x).value_counts()\n",
    "freq_table = pd.DataFrame(freq_table)\n",
    "freq_table.columns = ['Frequency']\n",
    "freq_table"
   ]
  },
  {
   "cell_type": "markdown",
   "id": "6d81a6cf-975b-4650-a64c-5ba162e1bf97",
   "metadata": {},
   "source": [
    "Unlike with the mean, `numpy` does not have a function for the mode, bet there is a library tha have some powerful statistical tools that does: `scipy`"
   ]
  },
  {
   "cell_type": "code",
   "execution_count": 72,
   "id": "6cce7a74-355f-44ca-a431-c36f463884c6",
   "metadata": {},
   "outputs": [],
   "source": [
    "from scipy import stats"
   ]
  },
  {
   "cell_type": "code",
   "execution_count": 73,
   "id": "5e571894-37c5-48c8-afb4-3fb3965e0258",
   "metadata": {},
   "outputs": [
    {
     "name": "stderr",
     "output_type": "stream",
     "text": [
      "/var/folders/7v/mlpbd2vj15s13pz4rjm4bq1m0000gn/T/ipykernel_1072/1654510724.py:1: FutureWarning: Unlike other reduction functions (e.g. `skew`, `kurtosis`), the default behavior of `mode` typically preserves the axis it acts along. In SciPy 1.11.0, this behavior will change: the default value of `keepdims` will become False, the `axis` over which the statistic is taken will be eliminated, and the value None will no longer be accepted. Set `keepdims` to True or False to avoid this warning.\n",
      "  stats.mode(x)\n"
     ]
    },
    {
     "data": {
      "text/plain": [
       "ModeResult(mode=array([1]), count=array([2]))"
      ]
     },
     "execution_count": 73,
     "metadata": {},
     "output_type": "execute_result"
    }
   ],
   "source": [
    "stats.mode(x)"
   ]
  },
  {
   "cell_type": "markdown",
   "id": "bacd06ad-d128-444f-9345-1b21d6c4fc4b",
   "metadata": {},
   "source": [
    "As we can see, the `mode()` function returns a 2D array with the mode and its corresponding frequency."
   ]
  },
  {
   "cell_type": "markdown",
   "id": "7e19b26e-515e-4f32-818e-10103ce10bb8",
   "metadata": {},
   "source": [
    "<h2> Dispersion Measures </h2>"
   ]
  },
  {
   "cell_type": "markdown",
   "id": "70a79c1a-cdc1-4e54-9d4a-e02e392e9ba8",
   "metadata": {},
   "source": [
    "Note that, although the central tencency measures gives us some important information regarding the overall location of the values, they do not tell us how the measures are distributed toward the center. This is where dispersion measures come into play, for instance see the following set of values:"
   ]
  },
  {
   "cell_type": "code",
   "execution_count": 89,
   "id": "c0b88427-6dd3-4a54-a115-b10bb9d6c013",
   "metadata": {},
   "outputs": [
    {
     "data": {
      "text/plain": [
       "<matplotlib.legend.Legend at 0x177c80650>"
      ]
     },
     "execution_count": 89,
     "metadata": {},
     "output_type": "execute_result"
    },
    {
     "data": {
      "image/png": "[encoded data removed]",
      "text/plain": [
       "<Figure size 1500x1000 with 4 Axes>"
      ]
     },
     "metadata": {},
     "output_type": "display_data"
    }
   ],
   "source": [
    "x1 = [1, 2, 4, 5, 7, 9, 10, 11]\n",
    "x2 = [1, 2, 4, 5, 7, 15, 20, 21]\n",
    "x3 = [0, 0.5, 1, 5, 7, 8, 9, 10]\n",
    "x4 = [1, 1.5, 3, 5, 7, 15, 20, 25]\n",
    "y = [0,0,0,0,0,0,0,0]\n",
    "\n",
    "fig, axs = plt.subplots(2, 2, figsize=(15,10))\n",
    "\n",
    "axs[0,0].plot(x1, y, 'o')\n",
    "axs[0,0].plot([6,6], [0, 1], label='Median')\n",
    "\n",
    "axs[0,1].plot(x2, y, 'o')\n",
    "axs[0,1].plot([6,6], [0, 1], label='Median')\n",
    "\n",
    "axs[1,0].plot(x3, y, 'o')\n",
    "axs[1,0].plot([6,6], [0, 1], label='Median')\n",
    "\n",
    "axs[1,1].plot(x4, y, 'o')\n",
    "axs[1,1].plot([6,6], [0, 1], label='Median')\n",
    "\n",
    "axs[0,0].legend()\n",
    "axs[0,1].legend()\n",
    "axs[1,0].legend()\n",
    "axs[1,1].legend()"
   ]
  },
  {
   "cell_type": "markdown",
   "id": "025d045d-700b-45c3-b09a-d05b0fa8510a",
   "metadata": {},
   "source": [
    "In all these data points the median value is exactly the same, however we see some important differences between them: the distance these points have between them and how close they are to they central tendency. Measures of dispersion gives us information regarding how different the values are among themselves. Let's now introduce the most common measures:"
   ]
  },
  {
   "cell_type": "markdown",
   "id": "0d0bdbbc-1f9f-4eb0-baae-47cdcae0a341",
   "metadata": {},
   "source": [
    "<h3> Variance </h3>"
   ]
  },
  {
   "cell_type": "markdown",
   "id": "0fd6b4c2-9ad4-48ad-b0b1-0276611db69c",
   "metadata": {},
   "source": [
    "One of the most used dispersion measures is the variance, that tells us the mean difference of each value from the arithmetic mean, but note that if we substract each value from the mean and add them up, there will be some positive and negative values that will cancel out. To avoid this problem we square such differences and then find the mean:\n",
    "\n",
    "$$\\sigma^2 = \\frac{(\\bar{x} - x_{1})^2 + (\\bar{x} - x_{2})^2 + ... + (\\bar{x} - x_{n})^2}{n}$$"
   ]
  },
  {
   "cell_type": "markdown",
   "id": "5f2925a2-b600-4d7e-97a7-937651430737",
   "metadata": {},
   "source": [
    "<h3> Standard deviation </h3>"
   ]
  },
  {
   "cell_type": "markdown",
   "id": "524b7ea8-f142-4173-a741-7da260705e62",
   "metadata": {},
   "source": [
    "Since the variance squares every value, say we compute this statistic for the ages of $n$ persons, then the variance will be in age squared, and we would loose some interpretability. To solve this problem we use de standard deviation, which is simply computed by applying the square root to th variance and then recover the original units of measure:"
   ]
  },
  {
   "cell_type": "markdown",
   "id": "ac30ee6c-f9a5-483d-8257-11208764ce29",
   "metadata": {},
   "source": [
    "$$\\sigma = \\sqrt{\\frac{(\\bar{x} - x_{1})^2 + (\\bar{x} - x_{2})^2 + ... + (\\bar{x} - x_{n})^2}{n}}$$"
   ]
  },
  {
   "cell_type": "markdown",
   "id": "9db9e18e-ee92-4467-815e-dab5460c87e8",
   "metadata": {},
   "source": [
    "<h2> Measures of position </h2>"
   ]
  },
  {
   "cell_type": "markdown",
   "id": "251786ab-9cc0-4811-b5cd-20558200ebae",
   "metadata": {},
   "source": [
    "Measures of position tells where a certain data point falls into a given ddata distribution. This is important because sometimes we want to know if a given value is close to the mean, it is unusually high or low. To define the measures of position, we first need to select in how many part we want the distribution to be split. In general terms we call **quantiles** the values that split the distribution; if we split in ten parts we call them **deciles**; if it is in one hundread parts they are call **percentiles**; if it is in four parts they are called **quantiles**.\n",
    "\n",
    "The methodology to find a given quantile is exactly the same as to find the median, now see that the median is exactly the same as the 50th percentile."
   ]
  },
  {
   "cell_type": "markdown",
   "id": "eb61f24e-2c7c-4cff-acaa-31528f234e29",
   "metadata": {},
   "source": [
    "<h2> Practical example </h2>"
   ]
  },
  {
   "cell_type": "markdown",
   "id": "ae18e19d-0712-45b1-9819-f6a64db5d0cc",
   "metadata": {},
   "source": [
    "Now let's see how to describe a dataset using `pandas` and all the statistics we have seen so far. We use the mtcars dataset, which have 32 records extracted from the 1974 Motor Trend US magazine, and gives information on fuel consumption and 10 characteristics regarding the performance of the automobiles. This is a famous dataset used to practice some data science techniques."
   ]
  },
  {
   "cell_type": "code",
   "execution_count": 93,
   "id": "d0b9da42-5677-4fed-a002-0ee5faaef3ce",
   "metadata": {},
   "outputs": [
    {
     "data": {
      "text/html": [
       "<div>\n",
       "<style scoped>\n",
       "    .dataframe tbody tr th:only-of-type {\n",
       "        vertical-align: middle;\n",
       "    }\n",
       "\n",
       "    .dataframe tbody tr th {\n",
       "        vertical-align: top;\n",
       "    }\n",
       "\n",
       "    .dataframe thead th {\n",
       "        text-align: right;\n",
       "    }\n",
       "</style>\n",
       "<table border=\"1\" class=\"dataframe\">\n",
       "  <thead>\n",
       "    <tr style=\"text-align: right;\">\n",
       "      <th></th>\n",
       "      <th>model</th>\n",
       "      <th>mpg</th>\n",
       "      <th>cyl</th>\n",
       "      <th>disp</th>\n",
       "      <th>hp</th>\n",
       "      <th>drat</th>\n",
       "      <th>wt</th>\n",
       "      <th>qsec</th>\n",
       "      <th>vs</th>\n",
       "      <th>am</th>\n",
       "      <th>gear</th>\n",
       "      <th>carb</th>\n",
       "    </tr>\n",
       "  </thead>\n",
       "  <tbody>\n",
       "    <tr>\n",
       "      <th>0</th>\n",
       "      <td>Mazda RX4</td>\n",
       "      <td>21.0</td>\n",
       "      <td>6</td>\n",
       "      <td>160.0</td>\n",
       "      <td>110</td>\n",
       "      <td>3.90</td>\n",
       "      <td>2.620</td>\n",
       "      <td>16.46</td>\n",
       "      <td>0</td>\n",
       "      <td>1</td>\n",
       "      <td>4</td>\n",
       "      <td>4</td>\n",
       "    </tr>\n",
       "    <tr>\n",
       "      <th>1</th>\n",
       "      <td>Mazda RX4 Wag</td>\n",
       "      <td>21.0</td>\n",
       "      <td>6</td>\n",
       "      <td>160.0</td>\n",
       "      <td>110</td>\n",
       "      <td>3.90</td>\n",
       "      <td>2.875</td>\n",
       "      <td>17.02</td>\n",
       "      <td>0</td>\n",
       "      <td>1</td>\n",
       "      <td>4</td>\n",
       "      <td>4</td>\n",
       "    </tr>\n",
       "    <tr>\n",
       "      <th>2</th>\n",
       "      <td>Datsun 710</td>\n",
       "      <td>22.8</td>\n",
       "      <td>4</td>\n",
       "      <td>108.0</td>\n",
       "      <td>93</td>\n",
       "      <td>3.85</td>\n",
       "      <td>2.320</td>\n",
       "      <td>18.61</td>\n",
       "      <td>1</td>\n",
       "      <td>1</td>\n",
       "      <td>4</td>\n",
       "      <td>1</td>\n",
       "    </tr>\n",
       "    <tr>\n",
       "      <th>3</th>\n",
       "      <td>Hornet 4 Drive</td>\n",
       "      <td>21.4</td>\n",
       "      <td>6</td>\n",
       "      <td>258.0</td>\n",
       "      <td>110</td>\n",
       "      <td>3.08</td>\n",
       "      <td>3.215</td>\n",
       "      <td>19.44</td>\n",
       "      <td>1</td>\n",
       "      <td>0</td>\n",
       "      <td>3</td>\n",
       "      <td>1</td>\n",
       "    </tr>\n",
       "    <tr>\n",
       "      <th>4</th>\n",
       "      <td>Hornet Sportabout</td>\n",
       "      <td>18.7</td>\n",
       "      <td>8</td>\n",
       "      <td>360.0</td>\n",
       "      <td>175</td>\n",
       "      <td>3.15</td>\n",
       "      <td>3.440</td>\n",
       "      <td>17.02</td>\n",
       "      <td>0</td>\n",
       "      <td>0</td>\n",
       "      <td>3</td>\n",
       "      <td>2</td>\n",
       "    </tr>\n",
       "  </tbody>\n",
       "</table>\n",
       "</div>"
      ],
      "text/plain": [
       "               model   mpg  cyl   disp   hp  drat     wt   qsec  vs  am  gear  \\\n",
       "0          Mazda RX4  21.0    6  160.0  110  3.90  2.620  16.46   0   1     4   \n",
       "1      Mazda RX4 Wag  21.0    6  160.0  110  3.90  2.875  17.02   0   1     4   \n",
       "2         Datsun 710  22.8    4  108.0   93  3.85  2.320  18.61   1   1     4   \n",
       "3     Hornet 4 Drive  21.4    6  258.0  110  3.08  3.215  19.44   1   0     3   \n",
       "4  Hornet Sportabout  18.7    8  360.0  175  3.15  3.440  17.02   0   0     3   \n",
       "\n",
       "   carb  \n",
       "0     4  \n",
       "1     4  \n",
       "2     1  \n",
       "3     1  \n",
       "4     2  "
      ]
     },
     "execution_count": 93,
     "metadata": {},
     "output_type": "execute_result"
    }
   ],
   "source": [
    "df = pd.read_csv('Data/mtcars.csv')\n",
    "df.head()"
   ]
  },
  {
   "cell_type": "code",
   "execution_count": 96,
   "id": "eae9e0e7-6589-4113-b8d0-5cad0dbd3dbe",
   "metadata": {},
   "outputs": [
    {
     "name": "stdout",
     "output_type": "stream",
     "text": [
      "<class 'pandas.core.frame.DataFrame'>\n",
      "RangeIndex: 32 entries, 0 to 31\n",
      "Data columns (total 12 columns):\n",
      " #   Column  Non-Null Count  Dtype  \n",
      "---  ------  --------------  -----  \n",
      " 0   model   32 non-null     object \n",
      " 1   mpg     32 non-null     float64\n",
      " 2   cyl     32 non-null     int64  \n",
      " 3   disp    32 non-null     float64\n",
      " 4   hp      32 non-null     int64  \n",
      " 5   drat    32 non-null     float64\n",
      " 6   wt      32 non-null     float64\n",
      " 7   qsec    32 non-null     float64\n",
      " 8   vs      32 non-null     int64  \n",
      " 9   am      32 non-null     int64  \n",
      " 10  gear    32 non-null     int64  \n",
      " 11  carb    32 non-null     int64  \n",
      "dtypes: float64(5), int64(6), object(1)\n",
      "memory usage: 3.1+ KB\n"
     ]
    }
   ],
   "source": [
    "df.info()"
   ]
  },
  {
   "cell_type": "markdown",
   "id": "0b08b789-82fe-4d53-8ea4-8b6c33d972ff",
   "metadata": {},
   "source": [
    "By using the `describe()` method in a `pandas` data frame we get all the descriptive statistics:   "
   ]
  },
  {
   "cell_type": "code",
   "execution_count": 94,
   "id": "89e04715-65a6-40f7-b853-50f2684c02ad",
   "metadata": {},
   "outputs": [
    {
     "data": {
      "text/html": [
       "<div>\n",
       "<style scoped>\n",
       "    .dataframe tbody tr th:only-of-type {\n",
       "        vertical-align: middle;\n",
       "    }\n",
       "\n",
       "    .dataframe tbody tr th {\n",
       "        vertical-align: top;\n",
       "    }\n",
       "\n",
       "    .dataframe thead th {\n",
       "        text-align: right;\n",
       "    }\n",
       "</style>\n",
       "<table border=\"1\" class=\"dataframe\">\n",
       "  <thead>\n",
       "    <tr style=\"text-align: right;\">\n",
       "      <th></th>\n",
       "      <th>mpg</th>\n",
       "      <th>cyl</th>\n",
       "      <th>disp</th>\n",
       "      <th>hp</th>\n",
       "      <th>drat</th>\n",
       "      <th>wt</th>\n",
       "      <th>qsec</th>\n",
       "      <th>vs</th>\n",
       "      <th>am</th>\n",
       "      <th>gear</th>\n",
       "      <th>carb</th>\n",
       "    </tr>\n",
       "  </thead>\n",
       "  <tbody>\n",
       "    <tr>\n",
       "      <th>count</th>\n",
       "      <td>32.000000</td>\n",
       "      <td>32.000000</td>\n",
       "      <td>32.000000</td>\n",
       "      <td>32.000000</td>\n",
       "      <td>32.000000</td>\n",
       "      <td>32.000000</td>\n",
       "      <td>32.000000</td>\n",
       "      <td>32.000000</td>\n",
       "      <td>32.000000</td>\n",
       "      <td>32.000000</td>\n",
       "      <td>32.0000</td>\n",
       "    </tr>\n",
       "    <tr>\n",
       "      <th>mean</th>\n",
       "      <td>20.090625</td>\n",
       "      <td>6.187500</td>\n",
       "      <td>230.721875</td>\n",
       "      <td>146.687500</td>\n",
       "      <td>3.596563</td>\n",
       "      <td>3.217250</td>\n",
       "      <td>17.848750</td>\n",
       "      <td>0.437500</td>\n",
       "      <td>0.406250</td>\n",
       "      <td>3.687500</td>\n",
       "      <td>2.8125</td>\n",
       "    </tr>\n",
       "    <tr>\n",
       "      <th>std</th>\n",
       "      <td>6.026948</td>\n",
       "      <td>1.785922</td>\n",
       "      <td>123.938694</td>\n",
       "      <td>68.562868</td>\n",
       "      <td>0.534679</td>\n",
       "      <td>0.978457</td>\n",
       "      <td>1.786943</td>\n",
       "      <td>0.504016</td>\n",
       "      <td>0.498991</td>\n",
       "      <td>0.737804</td>\n",
       "      <td>1.6152</td>\n",
       "    </tr>\n",
       "    <tr>\n",
       "      <th>min</th>\n",
       "      <td>10.400000</td>\n",
       "      <td>4.000000</td>\n",
       "      <td>71.100000</td>\n",
       "      <td>52.000000</td>\n",
       "      <td>2.760000</td>\n",
       "      <td>1.513000</td>\n",
       "      <td>14.500000</td>\n",
       "      <td>0.000000</td>\n",
       "      <td>0.000000</td>\n",
       "      <td>3.000000</td>\n",
       "      <td>1.0000</td>\n",
       "    </tr>\n",
       "    <tr>\n",
       "      <th>25%</th>\n",
       "      <td>15.425000</td>\n",
       "      <td>4.000000</td>\n",
       "      <td>120.825000</td>\n",
       "      <td>96.500000</td>\n",
       "      <td>3.080000</td>\n",
       "      <td>2.581250</td>\n",
       "      <td>16.892500</td>\n",
       "      <td>0.000000</td>\n",
       "      <td>0.000000</td>\n",
       "      <td>3.000000</td>\n",
       "      <td>2.0000</td>\n",
       "    </tr>\n",
       "    <tr>\n",
       "      <th>50%</th>\n",
       "      <td>19.200000</td>\n",
       "      <td>6.000000</td>\n",
       "      <td>196.300000</td>\n",
       "      <td>123.000000</td>\n",
       "      <td>3.695000</td>\n",
       "      <td>3.325000</td>\n",
       "      <td>17.710000</td>\n",
       "      <td>0.000000</td>\n",
       "      <td>0.000000</td>\n",
       "      <td>4.000000</td>\n",
       "      <td>2.0000</td>\n",
       "    </tr>\n",
       "    <tr>\n",
       "      <th>75%</th>\n",
       "      <td>22.800000</td>\n",
       "      <td>8.000000</td>\n",
       "      <td>326.000000</td>\n",
       "      <td>180.000000</td>\n",
       "      <td>3.920000</td>\n",
       "      <td>3.610000</td>\n",
       "      <td>18.900000</td>\n",
       "      <td>1.000000</td>\n",
       "      <td>1.000000</td>\n",
       "      <td>4.000000</td>\n",
       "      <td>4.0000</td>\n",
       "    </tr>\n",
       "    <tr>\n",
       "      <th>max</th>\n",
       "      <td>33.900000</td>\n",
       "      <td>8.000000</td>\n",
       "      <td>472.000000</td>\n",
       "      <td>335.000000</td>\n",
       "      <td>4.930000</td>\n",
       "      <td>5.424000</td>\n",
       "      <td>22.900000</td>\n",
       "      <td>1.000000</td>\n",
       "      <td>1.000000</td>\n",
       "      <td>5.000000</td>\n",
       "      <td>8.0000</td>\n",
       "    </tr>\n",
       "  </tbody>\n",
       "</table>\n",
       "</div>"
      ],
      "text/plain": [
       "             mpg        cyl        disp          hp       drat         wt  \\\n",
       "count  32.000000  32.000000   32.000000   32.000000  32.000000  32.000000   \n",
       "mean   20.090625   6.187500  230.721875  146.687500   3.596563   3.217250   \n",
       "std     6.026948   1.785922  123.938694   68.562868   0.534679   0.978457   \n",
       "min    10.400000   4.000000   71.100000   52.000000   2.760000   1.513000   \n",
       "25%    15.425000   4.000000  120.825000   96.500000   3.080000   2.581250   \n",
       "50%    19.200000   6.000000  196.300000  123.000000   3.695000   3.325000   \n",
       "75%    22.800000   8.000000  326.000000  180.000000   3.920000   3.610000   \n",
       "max    33.900000   8.000000  472.000000  335.000000   4.930000   5.424000   \n",
       "\n",
       "            qsec         vs         am       gear     carb  \n",
       "count  32.000000  32.000000  32.000000  32.000000  32.0000  \n",
       "mean   17.848750   0.437500   0.406250   3.687500   2.8125  \n",
       "std     1.786943   0.504016   0.498991   0.737804   1.6152  \n",
       "min    14.500000   0.000000   0.000000   3.000000   1.0000  \n",
       "25%    16.892500   0.000000   0.000000   3.000000   2.0000  \n",
       "50%    17.710000   0.000000   0.000000   4.000000   2.0000  \n",
       "75%    18.900000   1.000000   1.000000   4.000000   4.0000  \n",
       "max    22.900000   1.000000   1.000000   5.000000   8.0000  "
      ]
     },
     "execution_count": 94,
     "metadata": {},
     "output_type": "execute_result"
    }
   ],
   "source": [
    "df.describe()"
   ]
  },
  {
   "cell_type": "markdown",
   "id": "20fb8463-0ef8-441e-9fd5-e7242d250ab8",
   "metadata": {},
   "source": [
    "The std row refers to the standard deviation, and the 25%, 50% and 75% to the 25th, 50th and 75th percentile, respectively."
   ]
  }
 ],
 "metadata": {
  "kernelspec": {
   "display_name": "Python 3 (ipykernel)",
   "language": "python",
   "name": "python3"
  },
  "language_info": {
   "codemirror_mode": {
    "name": "ipython",
    "version": 3
   },
   "file_extension": ".py",
   "mimetype": "text/x-python",
   "name": "python",
   "nbconvert_exporter": "python",
   "pygments_lexer": "ipython3",
   "version": "3.11.0"
  }
 },
 "nbformat": 4,
 "nbformat_minor": 5
}
